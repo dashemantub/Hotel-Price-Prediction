{
 "cells": [
  {
   "cell_type": "markdown",
   "metadata": {},
   "source": [
    "# PHASE1"
   ]
  },
  {
   "cell_type": "markdown",
   "metadata": {},
   "source": [
    "### Data Intensive Computing CSE 587"
   ]
  },
  {
   "cell_type": "markdown",
   "metadata": {},
   "source": [
    "###### Phase #:1 Hemant Kumar Das 50356421 Mayank Lara 50351114"
   ]
  },
  {
   "cell_type": "markdown",
   "metadata": {},
   "source": [
    "##### Project Name: Hotel Room Price Prediction in NYC"
   ]
  },
  {
   "cell_type": "markdown",
   "metadata": {},
   "source": [
    "The issue we are trying to address is to predict the hotel room prices in NYC based on various features like the neighborhood group, room type, longitude, number of reviews, and others.\n",
    "Since there is no convenient platform as of now for the customers to check hotel prices in the entire city based on the specific requirements such as calculated host listings count and its availability around the year, this model would provide a platform to the customers to book hotel rooms based on their desideratum.\n"
   ]
  },
  {
   "cell_type": "markdown",
   "metadata": {},
   "source": [
    "##### Name of the Data: 2019 Hotel Room Data NYC"
   ]
  },
  {
   "cell_type": "markdown",
   "metadata": {},
   "source": [
    "Source: Kaggle,\n",
    "Time Period: 2009-2019,\n",
    "Scope: Global,\n",
    "Data Unit: NY, USA"
   ]
  },
  {
   "cell_type": "markdown",
   "metadata": {},
   "source": [
    "##### Table showing column and its description\n"
   ]
  },
  {
   "cell_type": "markdown",
   "metadata": {},
   "source": [
    "| Column                                 | Description                              |\n",
    "|----------------------------------------|------------------------------------------|\n",
    "| id                                     | Unique Identifier                        |\n",
    "| name                                   | Name of the hotel                        |\n",
    "| host_id                                | Unique id of the host                    |\n",
    "| host_name                              | Name of the host                         |\n",
    "| neighbourhood_group                    | Name of the grouped neighbourhood        |\n",
    "| neighbourhood                          | Name of the neighbourhood                |\n",
    "| latitude                               | Latitude of the location                 |\n",
    "| longitude                              | Longitude of the location                |\n",
    "| room_type                              | Type of the room in hotel                |\n",
    "| price                                  | Price of the room                        |\n",
    "| minimum_nights                         | Minimum nights required to book          |\n",
    "| number_of_reviews                      | Number of reviews of the hotel room      |\n",
    "| last_review                            | Last review date of the room             |\n",
    "| reviews_per_month                      | Number of reviews per month of the room  |\n",
    "| calculated_host_listings_count         | Number of hosts listing of the hotel     |\n",
    "| availability_365                       | Availability of the room around the year |"
   ]
  },
  {
   "cell_type": "markdown",
   "metadata": {},
   "source": [
    "###### Conclusion: To predict the hotel room prices based on the features"
   ]
  },
  {
   "cell_type": "code",
   "execution_count": 1,
   "metadata": {},
   "outputs": [],
   "source": [
    "#Importing the libraries\n",
    "import pandas as pd\n",
    "from statsmodels.stats.outliers_influence import variance_inflation_factor\n",
    "#importing visualization libraries\n",
    "import matplotlib.pyplot as plt\n",
    "import seaborn as sns\n",
    "%matplotlib inline"
   ]
  },
  {
   "cell_type": "code",
   "execution_count": 2,
   "metadata": {},
   "outputs": [],
   "source": [
    "#Loading the dataset\n",
    "df=pd.read_csv(\"AB_NYC_2019.csv\")"
   ]
  },
  {
   "cell_type": "code",
   "execution_count": 3,
   "metadata": {},
   "outputs": [
    {
     "data": {
      "text/html": [
       "<div>\n",
       "<style scoped>\n",
       "    .dataframe tbody tr th:only-of-type {\n",
       "        vertical-align: middle;\n",
       "    }\n",
       "\n",
       "    .dataframe tbody tr th {\n",
       "        vertical-align: top;\n",
       "    }\n",
       "\n",
       "    .dataframe thead th {\n",
       "        text-align: right;\n",
       "    }\n",
       "</style>\n",
       "<table border=\"1\" class=\"dataframe\">\n",
       "  <thead>\n",
       "    <tr style=\"text-align: right;\">\n",
       "      <th></th>\n",
       "      <th>id</th>\n",
       "      <th>name</th>\n",
       "      <th>host_id</th>\n",
       "      <th>host_name</th>\n",
       "      <th>neighbourhood_group</th>\n",
       "      <th>neighbourhood</th>\n",
       "      <th>latitude</th>\n",
       "      <th>longitude</th>\n",
       "      <th>room_type</th>\n",
       "      <th>price</th>\n",
       "      <th>minimum_nights</th>\n",
       "      <th>number_of_reviews</th>\n",
       "      <th>last_review</th>\n",
       "      <th>reviews_per_month</th>\n",
       "      <th>calculated_host_listings_count</th>\n",
       "      <th>availability_365</th>\n",
       "    </tr>\n",
       "  </thead>\n",
       "  <tbody>\n",
       "    <tr>\n",
       "      <th>0</th>\n",
       "      <td>2539</td>\n",
       "      <td>Clean &amp; quiet apt home by the park</td>\n",
       "      <td>2787</td>\n",
       "      <td>John</td>\n",
       "      <td>Brooklyn</td>\n",
       "      <td>Kensington</td>\n",
       "      <td>40.64749</td>\n",
       "      <td>-73.97237</td>\n",
       "      <td>Private room</td>\n",
       "      <td>149</td>\n",
       "      <td>1</td>\n",
       "      <td>9</td>\n",
       "      <td>19-10-2018</td>\n",
       "      <td>0.21</td>\n",
       "      <td>6</td>\n",
       "      <td>365</td>\n",
       "    </tr>\n",
       "    <tr>\n",
       "      <th>1</th>\n",
       "      <td>2595</td>\n",
       "      <td>Skylit Midtown Castle</td>\n",
       "      <td>2845</td>\n",
       "      <td>Jennifer</td>\n",
       "      <td>Manhattan</td>\n",
       "      <td>Midtown</td>\n",
       "      <td>40.75362</td>\n",
       "      <td>-73.98377</td>\n",
       "      <td>Entire home/apt</td>\n",
       "      <td>225</td>\n",
       "      <td>1</td>\n",
       "      <td>45</td>\n",
       "      <td>21-05-2019</td>\n",
       "      <td>0.38</td>\n",
       "      <td>2</td>\n",
       "      <td>355</td>\n",
       "    </tr>\n",
       "    <tr>\n",
       "      <th>2</th>\n",
       "      <td>3647</td>\n",
       "      <td>THE VILLAGE OF HARLEM....NEW YORK !</td>\n",
       "      <td>4632</td>\n",
       "      <td>Elisabeth</td>\n",
       "      <td>Manhattan</td>\n",
       "      <td>Harlem</td>\n",
       "      <td>40.80902</td>\n",
       "      <td>-73.94190</td>\n",
       "      <td>Private room</td>\n",
       "      <td>150</td>\n",
       "      <td>3</td>\n",
       "      <td>0</td>\n",
       "      <td>NaN</td>\n",
       "      <td>NaN</td>\n",
       "      <td>1</td>\n",
       "      <td>365</td>\n",
       "    </tr>\n",
       "    <tr>\n",
       "      <th>3</th>\n",
       "      <td>3831</td>\n",
       "      <td>Cozy Entire Floor of Brownstone</td>\n",
       "      <td>4869</td>\n",
       "      <td>LisaRoxanne</td>\n",
       "      <td>Brooklyn</td>\n",
       "      <td>Clinton Hill</td>\n",
       "      <td>40.68514</td>\n",
       "      <td>-73.95976</td>\n",
       "      <td>Entire home/apt</td>\n",
       "      <td>89</td>\n",
       "      <td>1</td>\n",
       "      <td>270</td>\n",
       "      <td>05-07-2019</td>\n",
       "      <td>4.64</td>\n",
       "      <td>1</td>\n",
       "      <td>194</td>\n",
       "    </tr>\n",
       "    <tr>\n",
       "      <th>4</th>\n",
       "      <td>5022</td>\n",
       "      <td>Entire Apt: Spacious Studio/Loft by central park</td>\n",
       "      <td>7192</td>\n",
       "      <td>Laura</td>\n",
       "      <td>Manhattan</td>\n",
       "      <td>East Harlem</td>\n",
       "      <td>40.79851</td>\n",
       "      <td>-73.94399</td>\n",
       "      <td>Entire home/apt</td>\n",
       "      <td>80</td>\n",
       "      <td>10</td>\n",
       "      <td>9</td>\n",
       "      <td>19-11-2018</td>\n",
       "      <td>0.10</td>\n",
       "      <td>1</td>\n",
       "      <td>0</td>\n",
       "    </tr>\n",
       "  </tbody>\n",
       "</table>\n",
       "</div>"
      ],
      "text/plain": [
       "     id                                              name  host_id  \\\n",
       "0  2539                Clean & quiet apt home by the park     2787   \n",
       "1  2595                             Skylit Midtown Castle     2845   \n",
       "2  3647               THE VILLAGE OF HARLEM....NEW YORK !     4632   \n",
       "3  3831                   Cozy Entire Floor of Brownstone     4869   \n",
       "4  5022  Entire Apt: Spacious Studio/Loft by central park     7192   \n",
       "\n",
       "     host_name neighbourhood_group neighbourhood  latitude  longitude  \\\n",
       "0         John            Brooklyn    Kensington  40.64749  -73.97237   \n",
       "1     Jennifer           Manhattan       Midtown  40.75362  -73.98377   \n",
       "2    Elisabeth           Manhattan        Harlem  40.80902  -73.94190   \n",
       "3  LisaRoxanne            Brooklyn  Clinton Hill  40.68514  -73.95976   \n",
       "4        Laura           Manhattan   East Harlem  40.79851  -73.94399   \n",
       "\n",
       "         room_type  price  minimum_nights  number_of_reviews last_review  \\\n",
       "0     Private room    149               1                  9  19-10-2018   \n",
       "1  Entire home/apt    225               1                 45  21-05-2019   \n",
       "2     Private room    150               3                  0         NaN   \n",
       "3  Entire home/apt     89               1                270  05-07-2019   \n",
       "4  Entire home/apt     80              10                  9  19-11-2018   \n",
       "\n",
       "   reviews_per_month  calculated_host_listings_count  availability_365  \n",
       "0               0.21                               6               365  \n",
       "1               0.38                               2               355  \n",
       "2                NaN                               1               365  \n",
       "3               4.64                               1               194  \n",
       "4               0.10                               1                 0  "
      ]
     },
     "execution_count": 3,
     "metadata": {},
     "output_type": "execute_result"
    }
   ],
   "source": [
    "#Checking the initial rows of the dataset\n",
    "df.head()"
   ]
  },
  {
   "cell_type": "code",
   "execution_count": 4,
   "metadata": {},
   "outputs": [
    {
     "name": "stdout",
     "output_type": "stream",
     "text": [
      "<class 'pandas.core.frame.DataFrame'>\n",
      "RangeIndex: 48896 entries, 0 to 48895\n",
      "Data columns (total 16 columns):\n",
      " #   Column                          Non-Null Count  Dtype  \n",
      "---  ------                          --------------  -----  \n",
      " 0   id                              48896 non-null  int64  \n",
      " 1   name                            48880 non-null  object \n",
      " 2   host_id                         48896 non-null  int64  \n",
      " 3   host_name                       48875 non-null  object \n",
      " 4   neighbourhood_group             48896 non-null  object \n",
      " 5   neighbourhood                   48896 non-null  object \n",
      " 6   latitude                        48896 non-null  float64\n",
      " 7   longitude                       48896 non-null  float64\n",
      " 8   room_type                       48896 non-null  object \n",
      " 9   price                           48896 non-null  int64  \n",
      " 10  minimum_nights                  48896 non-null  int64  \n",
      " 11  number_of_reviews               48896 non-null  int64  \n",
      " 12  last_review                     38845 non-null  object \n",
      " 13  reviews_per_month               38845 non-null  float64\n",
      " 14  calculated_host_listings_count  48896 non-null  int64  \n",
      " 15  availability_365                48896 non-null  int64  \n",
      "dtypes: float64(3), int64(7), object(6)\n",
      "memory usage: 6.0+ MB\n"
     ]
    }
   ],
   "source": [
    "#Information about the dataset\n",
    "df.info()"
   ]
  },
  {
   "cell_type": "code",
   "execution_count": 5,
   "metadata": {},
   "outputs": [],
   "source": [
    "#Checking for duplicate rows based on the features below\n",
    "df1=df[df.duplicated(['name', 'host_name','host_id','neighbourhood_group','latitude','longitude','calculated_host_listings_count','neighbourhood','price','room_type','minimum_nights','availability_365'])]"
   ]
  },
  {
   "cell_type": "code",
   "execution_count": 6,
   "metadata": {},
   "outputs": [
    {
     "data": {
      "text/html": [
       "<div>\n",
       "<style scoped>\n",
       "    .dataframe tbody tr th:only-of-type {\n",
       "        vertical-align: middle;\n",
       "    }\n",
       "\n",
       "    .dataframe tbody tr th {\n",
       "        vertical-align: top;\n",
       "    }\n",
       "\n",
       "    .dataframe thead th {\n",
       "        text-align: right;\n",
       "    }\n",
       "</style>\n",
       "<table border=\"1\" class=\"dataframe\">\n",
       "  <thead>\n",
       "    <tr style=\"text-align: right;\">\n",
       "      <th></th>\n",
       "      <th>id</th>\n",
       "      <th>name</th>\n",
       "      <th>host_id</th>\n",
       "      <th>host_name</th>\n",
       "      <th>neighbourhood_group</th>\n",
       "      <th>neighbourhood</th>\n",
       "      <th>latitude</th>\n",
       "      <th>longitude</th>\n",
       "      <th>room_type</th>\n",
       "      <th>price</th>\n",
       "      <th>minimum_nights</th>\n",
       "      <th>number_of_reviews</th>\n",
       "      <th>last_review</th>\n",
       "      <th>reviews_per_month</th>\n",
       "      <th>calculated_host_listings_count</th>\n",
       "      <th>availability_365</th>\n",
       "    </tr>\n",
       "  </thead>\n",
       "  <tbody>\n",
       "    <tr>\n",
       "      <th>39</th>\n",
       "      <td>12048</td>\n",
       "      <td>Cozy Clean Guest Room - Family Apt</td>\n",
       "      <td>7490</td>\n",
       "      <td>MaryEllen</td>\n",
       "      <td>Manhattan</td>\n",
       "      <td>Upper West Side</td>\n",
       "      <td>40.80178</td>\n",
       "      <td>-73.96723</td>\n",
       "      <td>Private room</td>\n",
       "      <td>79</td>\n",
       "      <td>2</td>\n",
       "      <td>118</td>\n",
       "      <td>21-07-2017</td>\n",
       "      <td>0.99</td>\n",
       "      <td>1</td>\n",
       "      <td>0</td>\n",
       "    </tr>\n",
       "    <tr>\n",
       "      <th>76</th>\n",
       "      <td>18152</td>\n",
       "      <td>2 bedroom - Upper East Side-great for kids</td>\n",
       "      <td>61491</td>\n",
       "      <td>D</td>\n",
       "      <td>Manhattan</td>\n",
       "      <td>Upper East Side</td>\n",
       "      <td>40.77065</td>\n",
       "      <td>-73.95269</td>\n",
       "      <td>Entire home/apt</td>\n",
       "      <td>250</td>\n",
       "      <td>2</td>\n",
       "      <td>66</td>\n",
       "      <td>30-03-2019</td>\n",
       "      <td>0.57</td>\n",
       "      <td>2</td>\n",
       "      <td>231</td>\n",
       "    </tr>\n",
       "    <tr>\n",
       "      <th>106</th>\n",
       "      <td>25235</td>\n",
       "      <td>loft bed - near transportation-15min to times sq</td>\n",
       "      <td>32294</td>\n",
       "      <td>Ssameer Or Trip</td>\n",
       "      <td>Manhattan</td>\n",
       "      <td>Harlem</td>\n",
       "      <td>40.82279</td>\n",
       "      <td>-73.95139</td>\n",
       "      <td>Private room</td>\n",
       "      <td>60</td>\n",
       "      <td>3</td>\n",
       "      <td>11</td>\n",
       "      <td>03-01-2019</td>\n",
       "      <td>0.87</td>\n",
       "      <td>3</td>\n",
       "      <td>219</td>\n",
       "    </tr>\n",
       "    <tr>\n",
       "      <th>201</th>\n",
       "      <td>53477</td>\n",
       "      <td>NYC fabulous views Manhattan's eye</td>\n",
       "      <td>115157</td>\n",
       "      <td>Nimo</td>\n",
       "      <td>Manhattan</td>\n",
       "      <td>Kips Bay</td>\n",
       "      <td>40.74294</td>\n",
       "      <td>-73.98009</td>\n",
       "      <td>Entire home/apt</td>\n",
       "      <td>199</td>\n",
       "      <td>5</td>\n",
       "      <td>38</td>\n",
       "      <td>02-12-2015</td>\n",
       "      <td>0.38</td>\n",
       "      <td>1</td>\n",
       "      <td>260</td>\n",
       "    </tr>\n",
       "    <tr>\n",
       "      <th>2217</th>\n",
       "      <td>1040120</td>\n",
       "      <td>Clean &amp; quiet apt home by the park</td>\n",
       "      <td>2787</td>\n",
       "      <td>John</td>\n",
       "      <td>Brooklyn</td>\n",
       "      <td>Kensington</td>\n",
       "      <td>40.64749</td>\n",
       "      <td>-73.97237</td>\n",
       "      <td>Private room</td>\n",
       "      <td>149</td>\n",
       "      <td>1</td>\n",
       "      <td>9</td>\n",
       "      <td>19-10-2018</td>\n",
       "      <td>0.21</td>\n",
       "      <td>6</td>\n",
       "      <td>365</td>\n",
       "    </tr>\n",
       "  </tbody>\n",
       "</table>\n",
       "</div>"
      ],
      "text/plain": [
       "           id                                              name  host_id  \\\n",
       "39      12048                Cozy Clean Guest Room - Family Apt     7490   \n",
       "76      18152        2 bedroom - Upper East Side-great for kids    61491   \n",
       "106     25235  loft bed - near transportation-15min to times sq    32294   \n",
       "201     53477                NYC fabulous views Manhattan's eye   115157   \n",
       "2217  1040120                Clean & quiet apt home by the park     2787   \n",
       "\n",
       "            host_name neighbourhood_group    neighbourhood  latitude  \\\n",
       "39          MaryEllen           Manhattan  Upper West Side  40.80178   \n",
       "76                  D           Manhattan  Upper East Side  40.77065   \n",
       "106   Ssameer Or Trip           Manhattan           Harlem  40.82279   \n",
       "201              Nimo           Manhattan         Kips Bay  40.74294   \n",
       "2217             John            Brooklyn       Kensington  40.64749   \n",
       "\n",
       "      longitude        room_type  price  minimum_nights  number_of_reviews  \\\n",
       "39    -73.96723     Private room     79               2                118   \n",
       "76    -73.95269  Entire home/apt    250               2                 66   \n",
       "106   -73.95139     Private room     60               3                 11   \n",
       "201   -73.98009  Entire home/apt    199               5                 38   \n",
       "2217  -73.97237     Private room    149               1                  9   \n",
       "\n",
       "     last_review  reviews_per_month  calculated_host_listings_count  \\\n",
       "39    21-07-2017               0.99                               1   \n",
       "76    30-03-2019               0.57                               2   \n",
       "106   03-01-2019               0.87                               3   \n",
       "201   02-12-2015               0.38                               1   \n",
       "2217  19-10-2018               0.21                               6   \n",
       "\n",
       "      availability_365  \n",
       "39                   0  \n",
       "76                 231  \n",
       "106                219  \n",
       "201                260  \n",
       "2217               365  "
      ]
     },
     "execution_count": 6,
     "metadata": {},
     "output_type": "execute_result"
    }
   ],
   "source": [
    "df1.head()"
   ]
  },
  {
   "cell_type": "code",
   "execution_count": 7,
   "metadata": {},
   "outputs": [],
   "source": [
    "#Operation 1: Dropping the duplicate rows\n",
    "df.drop_duplicates(subset =['name', 'host_name','host_id','neighbourhood_group','latitude','longitude','calculated_host_listings_count','neighbourhood','price','room_type','minimum_nights','availability_365'],keep = False, inplace = True)"
   ]
  },
  {
   "cell_type": "code",
   "execution_count": 8,
   "metadata": {},
   "outputs": [
    {
     "name": "stdout",
     "output_type": "stream",
     "text": [
      "<class 'pandas.core.frame.DataFrame'>\n",
      "Int64Index: 48871 entries, 1 to 48895\n",
      "Data columns (total 16 columns):\n",
      " #   Column                          Non-Null Count  Dtype  \n",
      "---  ------                          --------------  -----  \n",
      " 0   id                              48871 non-null  int64  \n",
      " 1   name                            48855 non-null  object \n",
      " 2   host_id                         48871 non-null  int64  \n",
      " 3   host_name                       48850 non-null  object \n",
      " 4   neighbourhood_group             48871 non-null  object \n",
      " 5   neighbourhood                   48871 non-null  object \n",
      " 6   latitude                        48871 non-null  float64\n",
      " 7   longitude                       48871 non-null  float64\n",
      " 8   room_type                       48871 non-null  object \n",
      " 9   price                           48871 non-null  int64  \n",
      " 10  minimum_nights                  48871 non-null  int64  \n",
      " 11  number_of_reviews               48871 non-null  int64  \n",
      " 12  last_review                     38822 non-null  object \n",
      " 13  reviews_per_month               38822 non-null  float64\n",
      " 14  calculated_host_listings_count  48871 non-null  int64  \n",
      " 15  availability_365                48871 non-null  int64  \n",
      "dtypes: float64(3), int64(7), object(6)\n",
      "memory usage: 6.3+ MB\n"
     ]
    }
   ],
   "source": [
    "#Checking if rows are dropped, we can see that the rows are dropped from 48896 to 48871\n",
    "df.info()"
   ]
  },
  {
   "cell_type": "code",
   "execution_count": 9,
   "metadata": {},
   "outputs": [],
   "source": [
    "#Operation 2: Removing the old records based on last review date\n",
    "df['last_review'] = pd.to_datetime(df['last_review'])"
   ]
  },
  {
   "cell_type": "code",
   "execution_count": 10,
   "metadata": {},
   "outputs": [],
   "source": [
    "#Sorting the dataset based on last review date\n",
    "df=df.sort_values(by='last_review')"
   ]
  },
  {
   "cell_type": "code",
   "execution_count": 11,
   "metadata": {},
   "outputs": [
    {
     "data": {
      "text/html": [
       "<div>\n",
       "<style scoped>\n",
       "    .dataframe tbody tr th:only-of-type {\n",
       "        vertical-align: middle;\n",
       "    }\n",
       "\n",
       "    .dataframe tbody tr th {\n",
       "        vertical-align: top;\n",
       "    }\n",
       "\n",
       "    .dataframe thead th {\n",
       "        text-align: right;\n",
       "    }\n",
       "</style>\n",
       "<table border=\"1\" class=\"dataframe\">\n",
       "  <thead>\n",
       "    <tr style=\"text-align: right;\">\n",
       "      <th></th>\n",
       "      <th>id</th>\n",
       "      <th>name</th>\n",
       "      <th>host_id</th>\n",
       "      <th>host_name</th>\n",
       "      <th>neighbourhood_group</th>\n",
       "      <th>neighbourhood</th>\n",
       "      <th>latitude</th>\n",
       "      <th>longitude</th>\n",
       "      <th>room_type</th>\n",
       "      <th>price</th>\n",
       "      <th>minimum_nights</th>\n",
       "      <th>number_of_reviews</th>\n",
       "      <th>last_review</th>\n",
       "      <th>reviews_per_month</th>\n",
       "      <th>calculated_host_listings_count</th>\n",
       "      <th>availability_365</th>\n",
       "    </tr>\n",
       "  </thead>\n",
       "  <tbody>\n",
       "    <tr>\n",
       "      <th>317</th>\n",
       "      <td>74860</td>\n",
       "      <td>Sunlit and Cozy Williamsburg/Greenpoint, Brooklyn</td>\n",
       "      <td>394752</td>\n",
       "      <td>Allison</td>\n",
       "      <td>Brooklyn</td>\n",
       "      <td>Greenpoint</td>\n",
       "      <td>40.72488</td>\n",
       "      <td>-73.95018</td>\n",
       "      <td>Private room</td>\n",
       "      <td>55</td>\n",
       "      <td>2</td>\n",
       "      <td>1</td>\n",
       "      <td>2011-03-28</td>\n",
       "      <td>0.01</td>\n",
       "      <td>1</td>\n",
       "      <td>0</td>\n",
       "    </tr>\n",
       "    <tr>\n",
       "      <th>163</th>\n",
       "      <td>40039</td>\n",
       "      <td>Luxurious Condo in DUBMO with View</td>\n",
       "      <td>171851</td>\n",
       "      <td>Henry</td>\n",
       "      <td>Brooklyn</td>\n",
       "      <td>DUMBO</td>\n",
       "      <td>40.70207</td>\n",
       "      <td>-73.98571</td>\n",
       "      <td>Private room</td>\n",
       "      <td>250</td>\n",
       "      <td>3</td>\n",
       "      <td>14</td>\n",
       "      <td>2011-04-25</td>\n",
       "      <td>0.13</td>\n",
       "      <td>1</td>\n",
       "      <td>189</td>\n",
       "    </tr>\n",
       "    <tr>\n",
       "      <th>125</th>\n",
       "      <td>28396</td>\n",
       "      <td>Modern Apt with Spectacular Views</td>\n",
       "      <td>6197784</td>\n",
       "      <td>Jo</td>\n",
       "      <td>Brooklyn</td>\n",
       "      <td>Williamsburg</td>\n",
       "      <td>40.71923</td>\n",
       "      <td>-73.96468</td>\n",
       "      <td>Private room</td>\n",
       "      <td>90</td>\n",
       "      <td>1</td>\n",
       "      <td>9</td>\n",
       "      <td>2011-09-18</td>\n",
       "      <td>0.08</td>\n",
       "      <td>1</td>\n",
       "      <td>245</td>\n",
       "    </tr>\n",
       "    <tr>\n",
       "      <th>143</th>\n",
       "      <td>32363</td>\n",
       "      <td>Fully Furnished Basement Apartment</td>\n",
       "      <td>140025</td>\n",
       "      <td>Fredah</td>\n",
       "      <td>Queens</td>\n",
       "      <td>Flushing</td>\n",
       "      <td>40.74028</td>\n",
       "      <td>-73.83168</td>\n",
       "      <td>Private room</td>\n",
       "      <td>140</td>\n",
       "      <td>2</td>\n",
       "      <td>1</td>\n",
       "      <td>2011-09-19</td>\n",
       "      <td>0.01</td>\n",
       "      <td>1</td>\n",
       "      <td>1</td>\n",
       "    </tr>\n",
       "    <tr>\n",
       "      <th>123</th>\n",
       "      <td>27883</td>\n",
       "      <td>East Village Sanctuary</td>\n",
       "      <td>120223</td>\n",
       "      <td>Jen</td>\n",
       "      <td>Manhattan</td>\n",
       "      <td>East Village</td>\n",
       "      <td>40.72245</td>\n",
       "      <td>-73.98527</td>\n",
       "      <td>Entire home/apt</td>\n",
       "      <td>100</td>\n",
       "      <td>4</td>\n",
       "      <td>25</td>\n",
       "      <td>2011-10-12</td>\n",
       "      <td>0.23</td>\n",
       "      <td>1</td>\n",
       "      <td>0</td>\n",
       "    </tr>\n",
       "    <tr>\n",
       "      <th>...</th>\n",
       "      <td>...</td>\n",
       "      <td>...</td>\n",
       "      <td>...</td>\n",
       "      <td>...</td>\n",
       "      <td>...</td>\n",
       "      <td>...</td>\n",
       "      <td>...</td>\n",
       "      <td>...</td>\n",
       "      <td>...</td>\n",
       "      <td>...</td>\n",
       "      <td>...</td>\n",
       "      <td>...</td>\n",
       "      <td>...</td>\n",
       "      <td>...</td>\n",
       "      <td>...</td>\n",
       "      <td>...</td>\n",
       "    </tr>\n",
       "    <tr>\n",
       "      <th>48891</th>\n",
       "      <td>36484665</td>\n",
       "      <td>Charming one bedroom - newly renovated rowhouse</td>\n",
       "      <td>8232441</td>\n",
       "      <td>Sabrina</td>\n",
       "      <td>Brooklyn</td>\n",
       "      <td>Bedford-Stuyvesant</td>\n",
       "      <td>40.67853</td>\n",
       "      <td>-73.94995</td>\n",
       "      <td>Private room</td>\n",
       "      <td>70</td>\n",
       "      <td>2</td>\n",
       "      <td>0</td>\n",
       "      <td>NaT</td>\n",
       "      <td>NaN</td>\n",
       "      <td>2</td>\n",
       "      <td>9</td>\n",
       "    </tr>\n",
       "    <tr>\n",
       "      <th>48892</th>\n",
       "      <td>36485057</td>\n",
       "      <td>Affordable room in Bushwick/East Williamsburg</td>\n",
       "      <td>6570630</td>\n",
       "      <td>Marisol</td>\n",
       "      <td>Brooklyn</td>\n",
       "      <td>Bushwick</td>\n",
       "      <td>40.70184</td>\n",
       "      <td>-73.93317</td>\n",
       "      <td>Private room</td>\n",
       "      <td>40</td>\n",
       "      <td>4</td>\n",
       "      <td>0</td>\n",
       "      <td>NaT</td>\n",
       "      <td>NaN</td>\n",
       "      <td>2</td>\n",
       "      <td>36</td>\n",
       "    </tr>\n",
       "    <tr>\n",
       "      <th>48893</th>\n",
       "      <td>36485431</td>\n",
       "      <td>Sunny Studio at Historical Neighborhood</td>\n",
       "      <td>23492952</td>\n",
       "      <td>Ilgar &amp; Aysel</td>\n",
       "      <td>Manhattan</td>\n",
       "      <td>Harlem</td>\n",
       "      <td>40.81475</td>\n",
       "      <td>-73.94867</td>\n",
       "      <td>Entire home/apt</td>\n",
       "      <td>115</td>\n",
       "      <td>10</td>\n",
       "      <td>0</td>\n",
       "      <td>NaT</td>\n",
       "      <td>NaN</td>\n",
       "      <td>1</td>\n",
       "      <td>27</td>\n",
       "    </tr>\n",
       "    <tr>\n",
       "      <th>48894</th>\n",
       "      <td>36485609</td>\n",
       "      <td>43rd St. Time Square-cozy single bed</td>\n",
       "      <td>30985759</td>\n",
       "      <td>Taz</td>\n",
       "      <td>Manhattan</td>\n",
       "      <td>Hell's Kitchen</td>\n",
       "      <td>40.75751</td>\n",
       "      <td>-73.99112</td>\n",
       "      <td>Shared room</td>\n",
       "      <td>55</td>\n",
       "      <td>1</td>\n",
       "      <td>0</td>\n",
       "      <td>NaT</td>\n",
       "      <td>NaN</td>\n",
       "      <td>6</td>\n",
       "      <td>2</td>\n",
       "    </tr>\n",
       "    <tr>\n",
       "      <th>48895</th>\n",
       "      <td>36487245</td>\n",
       "      <td>Trendy duplex in the very heart of Hell's Kitchen</td>\n",
       "      <td>68119814</td>\n",
       "      <td>Christophe</td>\n",
       "      <td>Manhattan</td>\n",
       "      <td>Hell's Kitchen</td>\n",
       "      <td>40.76404</td>\n",
       "      <td>-73.98933</td>\n",
       "      <td>Private room</td>\n",
       "      <td>90</td>\n",
       "      <td>7</td>\n",
       "      <td>0</td>\n",
       "      <td>NaT</td>\n",
       "      <td>NaN</td>\n",
       "      <td>1</td>\n",
       "      <td>23</td>\n",
       "    </tr>\n",
       "  </tbody>\n",
       "</table>\n",
       "<p>48871 rows × 16 columns</p>\n",
       "</div>"
      ],
      "text/plain": [
       "             id                                               name   host_id  \\\n",
       "317       74860  Sunlit and Cozy Williamsburg/Greenpoint, Brooklyn    394752   \n",
       "163       40039                 Luxurious Condo in DUBMO with View    171851   \n",
       "125       28396                  Modern Apt with Spectacular Views   6197784   \n",
       "143       32363                 Fully Furnished Basement Apartment    140025   \n",
       "123       27883                             East Village Sanctuary    120223   \n",
       "...         ...                                                ...       ...   \n",
       "48891  36484665    Charming one bedroom - newly renovated rowhouse   8232441   \n",
       "48892  36485057      Affordable room in Bushwick/East Williamsburg   6570630   \n",
       "48893  36485431            Sunny Studio at Historical Neighborhood  23492952   \n",
       "48894  36485609               43rd St. Time Square-cozy single bed  30985759   \n",
       "48895  36487245  Trendy duplex in the very heart of Hell's Kitchen  68119814   \n",
       "\n",
       "           host_name neighbourhood_group       neighbourhood  latitude  \\\n",
       "317          Allison            Brooklyn          Greenpoint  40.72488   \n",
       "163            Henry            Brooklyn               DUMBO  40.70207   \n",
       "125               Jo            Brooklyn        Williamsburg  40.71923   \n",
       "143           Fredah              Queens            Flushing  40.74028   \n",
       "123              Jen           Manhattan        East Village  40.72245   \n",
       "...              ...                 ...                 ...       ...   \n",
       "48891        Sabrina            Brooklyn  Bedford-Stuyvesant  40.67853   \n",
       "48892        Marisol            Brooklyn            Bushwick  40.70184   \n",
       "48893  Ilgar & Aysel           Manhattan              Harlem  40.81475   \n",
       "48894            Taz           Manhattan      Hell's Kitchen  40.75751   \n",
       "48895     Christophe           Manhattan      Hell's Kitchen  40.76404   \n",
       "\n",
       "       longitude        room_type  price  minimum_nights  number_of_reviews  \\\n",
       "317    -73.95018     Private room     55               2                  1   \n",
       "163    -73.98571     Private room    250               3                 14   \n",
       "125    -73.96468     Private room     90               1                  9   \n",
       "143    -73.83168     Private room    140               2                  1   \n",
       "123    -73.98527  Entire home/apt    100               4                 25   \n",
       "...          ...              ...    ...             ...                ...   \n",
       "48891  -73.94995     Private room     70               2                  0   \n",
       "48892  -73.93317     Private room     40               4                  0   \n",
       "48893  -73.94867  Entire home/apt    115              10                  0   \n",
       "48894  -73.99112      Shared room     55               1                  0   \n",
       "48895  -73.98933     Private room     90               7                  0   \n",
       "\n",
       "      last_review  reviews_per_month  calculated_host_listings_count  \\\n",
       "317    2011-03-28               0.01                               1   \n",
       "163    2011-04-25               0.13                               1   \n",
       "125    2011-09-18               0.08                               1   \n",
       "143    2011-09-19               0.01                               1   \n",
       "123    2011-10-12               0.23                               1   \n",
       "...           ...                ...                             ...   \n",
       "48891         NaT                NaN                               2   \n",
       "48892         NaT                NaN                               2   \n",
       "48893         NaT                NaN                               1   \n",
       "48894         NaT                NaN                               6   \n",
       "48895         NaT                NaN                               1   \n",
       "\n",
       "       availability_365  \n",
       "317                   0  \n",
       "163                 189  \n",
       "125                 245  \n",
       "143                   1  \n",
       "123                   0  \n",
       "...                 ...  \n",
       "48891                 9  \n",
       "48892                36  \n",
       "48893                27  \n",
       "48894                 2  \n",
       "48895                23  \n",
       "\n",
       "[48871 rows x 16 columns]"
      ]
     },
     "execution_count": 11,
     "metadata": {},
     "output_type": "execute_result"
    }
   ],
   "source": [
    "#printing the dataset\n",
    "df"
   ]
  },
  {
   "cell_type": "code",
   "execution_count": 12,
   "metadata": {},
   "outputs": [],
   "source": [
    "#Considering only the records which are starting from 2000 index, since the records before are quite old and futile.\n",
    "df = df.iloc[2000:]"
   ]
  },
  {
   "cell_type": "code",
   "execution_count": 13,
   "metadata": {},
   "outputs": [
    {
     "data": {
      "text/html": [
       "<div>\n",
       "<style scoped>\n",
       "    .dataframe tbody tr th:only-of-type {\n",
       "        vertical-align: middle;\n",
       "    }\n",
       "\n",
       "    .dataframe tbody tr th {\n",
       "        vertical-align: top;\n",
       "    }\n",
       "\n",
       "    .dataframe thead th {\n",
       "        text-align: right;\n",
       "    }\n",
       "</style>\n",
       "<table border=\"1\" class=\"dataframe\">\n",
       "  <thead>\n",
       "    <tr style=\"text-align: right;\">\n",
       "      <th></th>\n",
       "      <th>id</th>\n",
       "      <th>name</th>\n",
       "      <th>host_id</th>\n",
       "      <th>host_name</th>\n",
       "      <th>neighbourhood_group</th>\n",
       "      <th>neighbourhood</th>\n",
       "      <th>latitude</th>\n",
       "      <th>longitude</th>\n",
       "      <th>room_type</th>\n",
       "      <th>price</th>\n",
       "      <th>minimum_nights</th>\n",
       "      <th>number_of_reviews</th>\n",
       "      <th>last_review</th>\n",
       "      <th>reviews_per_month</th>\n",
       "      <th>calculated_host_listings_count</th>\n",
       "      <th>availability_365</th>\n",
       "    </tr>\n",
       "  </thead>\n",
       "  <tbody>\n",
       "    <tr>\n",
       "      <th>5016</th>\n",
       "      <td>3605493</td>\n",
       "      <td>Spacious Private Apt. Near All!</td>\n",
       "      <td>16809056</td>\n",
       "      <td>Jason</td>\n",
       "      <td>Queens</td>\n",
       "      <td>Astoria</td>\n",
       "      <td>40.75997</td>\n",
       "      <td>-73.90926</td>\n",
       "      <td>Entire home/apt</td>\n",
       "      <td>120</td>\n",
       "      <td>3</td>\n",
       "      <td>29</td>\n",
       "      <td>2016-02-08</td>\n",
       "      <td>0.55</td>\n",
       "      <td>1</td>\n",
       "      <td>0</td>\n",
       "    </tr>\n",
       "    <tr>\n",
       "      <th>15989</th>\n",
       "      <td>12926849</td>\n",
       "      <td>Comfy Room for May</td>\n",
       "      <td>28680349</td>\n",
       "      <td>Bryan</td>\n",
       "      <td>Brooklyn</td>\n",
       "      <td>Greenpoint</td>\n",
       "      <td>40.72577</td>\n",
       "      <td>-73.94981</td>\n",
       "      <td>Private room</td>\n",
       "      <td>90</td>\n",
       "      <td>1</td>\n",
       "      <td>7</td>\n",
       "      <td>2016-02-08</td>\n",
       "      <td>0.19</td>\n",
       "      <td>1</td>\n",
       "      <td>0</td>\n",
       "    </tr>\n",
       "    <tr>\n",
       "      <th>16712</th>\n",
       "      <td>13362486</td>\n",
       "      <td>Bedroom in Park Slope Apartment</td>\n",
       "      <td>75828613</td>\n",
       "      <td>Colin</td>\n",
       "      <td>Brooklyn</td>\n",
       "      <td>Park Slope</td>\n",
       "      <td>40.67148</td>\n",
       "      <td>-73.97786</td>\n",
       "      <td>Private room</td>\n",
       "      <td>40</td>\n",
       "      <td>3</td>\n",
       "      <td>2</td>\n",
       "      <td>2016-02-08</td>\n",
       "      <td>0.06</td>\n",
       "      <td>1</td>\n",
       "      <td>0</td>\n",
       "    </tr>\n",
       "    <tr>\n",
       "      <th>17577</th>\n",
       "      <td>13822434</td>\n",
       "      <td>Private Room in Hamilton Heights</td>\n",
       "      <td>14078461</td>\n",
       "      <td>Emma</td>\n",
       "      <td>Manhattan</td>\n",
       "      <td>Harlem</td>\n",
       "      <td>40.82421</td>\n",
       "      <td>-73.95426</td>\n",
       "      <td>Private room</td>\n",
       "      <td>40</td>\n",
       "      <td>7</td>\n",
       "      <td>1</td>\n",
       "      <td>2016-02-08</td>\n",
       "      <td>0.03</td>\n",
       "      <td>1</td>\n",
       "      <td>0</td>\n",
       "    </tr>\n",
       "    <tr>\n",
       "      <th>6875</th>\n",
       "      <td>4909080</td>\n",
       "      <td>2 Stops to MANHATTAN!</td>\n",
       "      <td>25276263</td>\n",
       "      <td>Charles</td>\n",
       "      <td>Brooklyn</td>\n",
       "      <td>Boerum Hill</td>\n",
       "      <td>40.68810</td>\n",
       "      <td>-73.98699</td>\n",
       "      <td>Entire home/apt</td>\n",
       "      <td>500</td>\n",
       "      <td>6</td>\n",
       "      <td>29</td>\n",
       "      <td>2016-02-09</td>\n",
       "      <td>0.53</td>\n",
       "      <td>1</td>\n",
       "      <td>89</td>\n",
       "    </tr>\n",
       "    <tr>\n",
       "      <th>...</th>\n",
       "      <td>...</td>\n",
       "      <td>...</td>\n",
       "      <td>...</td>\n",
       "      <td>...</td>\n",
       "      <td>...</td>\n",
       "      <td>...</td>\n",
       "      <td>...</td>\n",
       "      <td>...</td>\n",
       "      <td>...</td>\n",
       "      <td>...</td>\n",
       "      <td>...</td>\n",
       "      <td>...</td>\n",
       "      <td>...</td>\n",
       "      <td>...</td>\n",
       "      <td>...</td>\n",
       "      <td>...</td>\n",
       "    </tr>\n",
       "    <tr>\n",
       "      <th>48891</th>\n",
       "      <td>36484665</td>\n",
       "      <td>Charming one bedroom - newly renovated rowhouse</td>\n",
       "      <td>8232441</td>\n",
       "      <td>Sabrina</td>\n",
       "      <td>Brooklyn</td>\n",
       "      <td>Bedford-Stuyvesant</td>\n",
       "      <td>40.67853</td>\n",
       "      <td>-73.94995</td>\n",
       "      <td>Private room</td>\n",
       "      <td>70</td>\n",
       "      <td>2</td>\n",
       "      <td>0</td>\n",
       "      <td>NaT</td>\n",
       "      <td>NaN</td>\n",
       "      <td>2</td>\n",
       "      <td>9</td>\n",
       "    </tr>\n",
       "    <tr>\n",
       "      <th>48892</th>\n",
       "      <td>36485057</td>\n",
       "      <td>Affordable room in Bushwick/East Williamsburg</td>\n",
       "      <td>6570630</td>\n",
       "      <td>Marisol</td>\n",
       "      <td>Brooklyn</td>\n",
       "      <td>Bushwick</td>\n",
       "      <td>40.70184</td>\n",
       "      <td>-73.93317</td>\n",
       "      <td>Private room</td>\n",
       "      <td>40</td>\n",
       "      <td>4</td>\n",
       "      <td>0</td>\n",
       "      <td>NaT</td>\n",
       "      <td>NaN</td>\n",
       "      <td>2</td>\n",
       "      <td>36</td>\n",
       "    </tr>\n",
       "    <tr>\n",
       "      <th>48893</th>\n",
       "      <td>36485431</td>\n",
       "      <td>Sunny Studio at Historical Neighborhood</td>\n",
       "      <td>23492952</td>\n",
       "      <td>Ilgar &amp; Aysel</td>\n",
       "      <td>Manhattan</td>\n",
       "      <td>Harlem</td>\n",
       "      <td>40.81475</td>\n",
       "      <td>-73.94867</td>\n",
       "      <td>Entire home/apt</td>\n",
       "      <td>115</td>\n",
       "      <td>10</td>\n",
       "      <td>0</td>\n",
       "      <td>NaT</td>\n",
       "      <td>NaN</td>\n",
       "      <td>1</td>\n",
       "      <td>27</td>\n",
       "    </tr>\n",
       "    <tr>\n",
       "      <th>48894</th>\n",
       "      <td>36485609</td>\n",
       "      <td>43rd St. Time Square-cozy single bed</td>\n",
       "      <td>30985759</td>\n",
       "      <td>Taz</td>\n",
       "      <td>Manhattan</td>\n",
       "      <td>Hell's Kitchen</td>\n",
       "      <td>40.75751</td>\n",
       "      <td>-73.99112</td>\n",
       "      <td>Shared room</td>\n",
       "      <td>55</td>\n",
       "      <td>1</td>\n",
       "      <td>0</td>\n",
       "      <td>NaT</td>\n",
       "      <td>NaN</td>\n",
       "      <td>6</td>\n",
       "      <td>2</td>\n",
       "    </tr>\n",
       "    <tr>\n",
       "      <th>48895</th>\n",
       "      <td>36487245</td>\n",
       "      <td>Trendy duplex in the very heart of Hell's Kitchen</td>\n",
       "      <td>68119814</td>\n",
       "      <td>Christophe</td>\n",
       "      <td>Manhattan</td>\n",
       "      <td>Hell's Kitchen</td>\n",
       "      <td>40.76404</td>\n",
       "      <td>-73.98933</td>\n",
       "      <td>Private room</td>\n",
       "      <td>90</td>\n",
       "      <td>7</td>\n",
       "      <td>0</td>\n",
       "      <td>NaT</td>\n",
       "      <td>NaN</td>\n",
       "      <td>1</td>\n",
       "      <td>23</td>\n",
       "    </tr>\n",
       "  </tbody>\n",
       "</table>\n",
       "<p>46871 rows × 16 columns</p>\n",
       "</div>"
      ],
      "text/plain": [
       "             id                                               name   host_id  \\\n",
       "5016    3605493                    Spacious Private Apt. Near All!  16809056   \n",
       "15989  12926849                                 Comfy Room for May  28680349   \n",
       "16712  13362486                    Bedroom in Park Slope Apartment  75828613   \n",
       "17577  13822434                   Private Room in Hamilton Heights  14078461   \n",
       "6875    4909080                              2 Stops to MANHATTAN!  25276263   \n",
       "...         ...                                                ...       ...   \n",
       "48891  36484665    Charming one bedroom - newly renovated rowhouse   8232441   \n",
       "48892  36485057      Affordable room in Bushwick/East Williamsburg   6570630   \n",
       "48893  36485431            Sunny Studio at Historical Neighborhood  23492952   \n",
       "48894  36485609               43rd St. Time Square-cozy single bed  30985759   \n",
       "48895  36487245  Trendy duplex in the very heart of Hell's Kitchen  68119814   \n",
       "\n",
       "           host_name neighbourhood_group       neighbourhood  latitude  \\\n",
       "5016           Jason              Queens             Astoria  40.75997   \n",
       "15989          Bryan            Brooklyn          Greenpoint  40.72577   \n",
       "16712          Colin            Brooklyn          Park Slope  40.67148   \n",
       "17577           Emma           Manhattan              Harlem  40.82421   \n",
       "6875         Charles            Brooklyn         Boerum Hill  40.68810   \n",
       "...              ...                 ...                 ...       ...   \n",
       "48891        Sabrina            Brooklyn  Bedford-Stuyvesant  40.67853   \n",
       "48892        Marisol            Brooklyn            Bushwick  40.70184   \n",
       "48893  Ilgar & Aysel           Manhattan              Harlem  40.81475   \n",
       "48894            Taz           Manhattan      Hell's Kitchen  40.75751   \n",
       "48895     Christophe           Manhattan      Hell's Kitchen  40.76404   \n",
       "\n",
       "       longitude        room_type  price  minimum_nights  number_of_reviews  \\\n",
       "5016   -73.90926  Entire home/apt    120               3                 29   \n",
       "15989  -73.94981     Private room     90               1                  7   \n",
       "16712  -73.97786     Private room     40               3                  2   \n",
       "17577  -73.95426     Private room     40               7                  1   \n",
       "6875   -73.98699  Entire home/apt    500               6                 29   \n",
       "...          ...              ...    ...             ...                ...   \n",
       "48891  -73.94995     Private room     70               2                  0   \n",
       "48892  -73.93317     Private room     40               4                  0   \n",
       "48893  -73.94867  Entire home/apt    115              10                  0   \n",
       "48894  -73.99112      Shared room     55               1                  0   \n",
       "48895  -73.98933     Private room     90               7                  0   \n",
       "\n",
       "      last_review  reviews_per_month  calculated_host_listings_count  \\\n",
       "5016   2016-02-08               0.55                               1   \n",
       "15989  2016-02-08               0.19                               1   \n",
       "16712  2016-02-08               0.06                               1   \n",
       "17577  2016-02-08               0.03                               1   \n",
       "6875   2016-02-09               0.53                               1   \n",
       "...           ...                ...                             ...   \n",
       "48891         NaT                NaN                               2   \n",
       "48892         NaT                NaN                               2   \n",
       "48893         NaT                NaN                               1   \n",
       "48894         NaT                NaN                               6   \n",
       "48895         NaT                NaN                               1   \n",
       "\n",
       "       availability_365  \n",
       "5016                  0  \n",
       "15989                 0  \n",
       "16712                 0  \n",
       "17577                 0  \n",
       "6875                 89  \n",
       "...                 ...  \n",
       "48891                 9  \n",
       "48892                36  \n",
       "48893                27  \n",
       "48894                 2  \n",
       "48895                23  \n",
       "\n",
       "[46871 rows x 16 columns]"
      ]
     },
     "execution_count": 13,
     "metadata": {},
     "output_type": "execute_result"
    }
   ],
   "source": [
    "#checking the data set if the old records are removed.\n",
    "df"
   ]
  },
  {
   "cell_type": "code",
   "execution_count": 14,
   "metadata": {},
   "outputs": [],
   "source": [
    "#Operation 3: Dropping all the unnecessary columns required to predict\n",
    "df=df.drop(['id','name','host_id','host_name','neighbourhood','last_review','calculated_host_listings_count'], axis = 1)"
   ]
  },
  {
   "cell_type": "code",
   "execution_count": 15,
   "metadata": {},
   "outputs": [
    {
     "data": {
      "text/html": [
       "<div>\n",
       "<style scoped>\n",
       "    .dataframe tbody tr th:only-of-type {\n",
       "        vertical-align: middle;\n",
       "    }\n",
       "\n",
       "    .dataframe tbody tr th {\n",
       "        vertical-align: top;\n",
       "    }\n",
       "\n",
       "    .dataframe thead th {\n",
       "        text-align: right;\n",
       "    }\n",
       "</style>\n",
       "<table border=\"1\" class=\"dataframe\">\n",
       "  <thead>\n",
       "    <tr style=\"text-align: right;\">\n",
       "      <th></th>\n",
       "      <th>neighbourhood_group</th>\n",
       "      <th>latitude</th>\n",
       "      <th>longitude</th>\n",
       "      <th>room_type</th>\n",
       "      <th>price</th>\n",
       "      <th>minimum_nights</th>\n",
       "      <th>number_of_reviews</th>\n",
       "      <th>reviews_per_month</th>\n",
       "      <th>availability_365</th>\n",
       "    </tr>\n",
       "  </thead>\n",
       "  <tbody>\n",
       "    <tr>\n",
       "      <th>5016</th>\n",
       "      <td>Queens</td>\n",
       "      <td>40.75997</td>\n",
       "      <td>-73.90926</td>\n",
       "      <td>Entire home/apt</td>\n",
       "      <td>120</td>\n",
       "      <td>3</td>\n",
       "      <td>29</td>\n",
       "      <td>0.55</td>\n",
       "      <td>0</td>\n",
       "    </tr>\n",
       "    <tr>\n",
       "      <th>15989</th>\n",
       "      <td>Brooklyn</td>\n",
       "      <td>40.72577</td>\n",
       "      <td>-73.94981</td>\n",
       "      <td>Private room</td>\n",
       "      <td>90</td>\n",
       "      <td>1</td>\n",
       "      <td>7</td>\n",
       "      <td>0.19</td>\n",
       "      <td>0</td>\n",
       "    </tr>\n",
       "    <tr>\n",
       "      <th>16712</th>\n",
       "      <td>Brooklyn</td>\n",
       "      <td>40.67148</td>\n",
       "      <td>-73.97786</td>\n",
       "      <td>Private room</td>\n",
       "      <td>40</td>\n",
       "      <td>3</td>\n",
       "      <td>2</td>\n",
       "      <td>0.06</td>\n",
       "      <td>0</td>\n",
       "    </tr>\n",
       "    <tr>\n",
       "      <th>17577</th>\n",
       "      <td>Manhattan</td>\n",
       "      <td>40.82421</td>\n",
       "      <td>-73.95426</td>\n",
       "      <td>Private room</td>\n",
       "      <td>40</td>\n",
       "      <td>7</td>\n",
       "      <td>1</td>\n",
       "      <td>0.03</td>\n",
       "      <td>0</td>\n",
       "    </tr>\n",
       "    <tr>\n",
       "      <th>6875</th>\n",
       "      <td>Brooklyn</td>\n",
       "      <td>40.68810</td>\n",
       "      <td>-73.98699</td>\n",
       "      <td>Entire home/apt</td>\n",
       "      <td>500</td>\n",
       "      <td>6</td>\n",
       "      <td>29</td>\n",
       "      <td>0.53</td>\n",
       "      <td>89</td>\n",
       "    </tr>\n",
       "  </tbody>\n",
       "</table>\n",
       "</div>"
      ],
      "text/plain": [
       "      neighbourhood_group  latitude  longitude        room_type  price  \\\n",
       "5016               Queens  40.75997  -73.90926  Entire home/apt    120   \n",
       "15989            Brooklyn  40.72577  -73.94981     Private room     90   \n",
       "16712            Brooklyn  40.67148  -73.97786     Private room     40   \n",
       "17577           Manhattan  40.82421  -73.95426     Private room     40   \n",
       "6875             Brooklyn  40.68810  -73.98699  Entire home/apt    500   \n",
       "\n",
       "       minimum_nights  number_of_reviews  reviews_per_month  availability_365  \n",
       "5016                3                 29               0.55                 0  \n",
       "15989               1                  7               0.19                 0  \n",
       "16712               3                  2               0.06                 0  \n",
       "17577               7                  1               0.03                 0  \n",
       "6875                6                 29               0.53                89  "
      ]
     },
     "execution_count": 15,
     "metadata": {},
     "output_type": "execute_result"
    }
   ],
   "source": [
    "#Check if columns are dropped\n",
    "df.head()"
   ]
  },
  {
   "cell_type": "code",
   "execution_count": 16,
   "metadata": {},
   "outputs": [
    {
     "name": "stdout",
     "output_type": "stream",
     "text": [
      "<class 'pandas.core.frame.DataFrame'>\n",
      "Int64Index: 46871 entries, 5016 to 48895\n",
      "Data columns (total 9 columns):\n",
      " #   Column               Non-Null Count  Dtype  \n",
      "---  ------               --------------  -----  \n",
      " 0   neighbourhood_group  46871 non-null  object \n",
      " 1   latitude             46871 non-null  float64\n",
      " 2   longitude            46871 non-null  float64\n",
      " 3   room_type            46871 non-null  object \n",
      " 4   price                46871 non-null  int64  \n",
      " 5   minimum_nights       46871 non-null  int64  \n",
      " 6   number_of_reviews    46871 non-null  int64  \n",
      " 7   reviews_per_month    36822 non-null  float64\n",
      " 8   availability_365     46871 non-null  int64  \n",
      "dtypes: float64(3), int64(4), object(2)\n",
      "memory usage: 3.6+ MB\n"
     ]
    }
   ],
   "source": [
    "df.info()"
   ]
  },
  {
   "cell_type": "code",
   "execution_count": 17,
   "metadata": {},
   "outputs": [],
   "source": [
    "#Operation4: Resetting the index, since the index before were jumbled and not in order\n",
    "df.reset_index(drop=True, inplace=True)"
   ]
  },
  {
   "cell_type": "code",
   "execution_count": 18,
   "metadata": {},
   "outputs": [
    {
     "data": {
      "text/html": [
       "<div>\n",
       "<style scoped>\n",
       "    .dataframe tbody tr th:only-of-type {\n",
       "        vertical-align: middle;\n",
       "    }\n",
       "\n",
       "    .dataframe tbody tr th {\n",
       "        vertical-align: top;\n",
       "    }\n",
       "\n",
       "    .dataframe thead th {\n",
       "        text-align: right;\n",
       "    }\n",
       "</style>\n",
       "<table border=\"1\" class=\"dataframe\">\n",
       "  <thead>\n",
       "    <tr style=\"text-align: right;\">\n",
       "      <th></th>\n",
       "      <th>neighbourhood_group</th>\n",
       "      <th>latitude</th>\n",
       "      <th>longitude</th>\n",
       "      <th>room_type</th>\n",
       "      <th>price</th>\n",
       "      <th>minimum_nights</th>\n",
       "      <th>number_of_reviews</th>\n",
       "      <th>reviews_per_month</th>\n",
       "      <th>availability_365</th>\n",
       "    </tr>\n",
       "  </thead>\n",
       "  <tbody>\n",
       "    <tr>\n",
       "      <th>0</th>\n",
       "      <td>Queens</td>\n",
       "      <td>40.75997</td>\n",
       "      <td>-73.90926</td>\n",
       "      <td>Entire home/apt</td>\n",
       "      <td>120</td>\n",
       "      <td>3</td>\n",
       "      <td>29</td>\n",
       "      <td>0.55</td>\n",
       "      <td>0</td>\n",
       "    </tr>\n",
       "    <tr>\n",
       "      <th>1</th>\n",
       "      <td>Brooklyn</td>\n",
       "      <td>40.72577</td>\n",
       "      <td>-73.94981</td>\n",
       "      <td>Private room</td>\n",
       "      <td>90</td>\n",
       "      <td>1</td>\n",
       "      <td>7</td>\n",
       "      <td>0.19</td>\n",
       "      <td>0</td>\n",
       "    </tr>\n",
       "    <tr>\n",
       "      <th>2</th>\n",
       "      <td>Brooklyn</td>\n",
       "      <td>40.67148</td>\n",
       "      <td>-73.97786</td>\n",
       "      <td>Private room</td>\n",
       "      <td>40</td>\n",
       "      <td>3</td>\n",
       "      <td>2</td>\n",
       "      <td>0.06</td>\n",
       "      <td>0</td>\n",
       "    </tr>\n",
       "    <tr>\n",
       "      <th>3</th>\n",
       "      <td>Manhattan</td>\n",
       "      <td>40.82421</td>\n",
       "      <td>-73.95426</td>\n",
       "      <td>Private room</td>\n",
       "      <td>40</td>\n",
       "      <td>7</td>\n",
       "      <td>1</td>\n",
       "      <td>0.03</td>\n",
       "      <td>0</td>\n",
       "    </tr>\n",
       "    <tr>\n",
       "      <th>4</th>\n",
       "      <td>Brooklyn</td>\n",
       "      <td>40.68810</td>\n",
       "      <td>-73.98699</td>\n",
       "      <td>Entire home/apt</td>\n",
       "      <td>500</td>\n",
       "      <td>6</td>\n",
       "      <td>29</td>\n",
       "      <td>0.53</td>\n",
       "      <td>89</td>\n",
       "    </tr>\n",
       "    <tr>\n",
       "      <th>...</th>\n",
       "      <td>...</td>\n",
       "      <td>...</td>\n",
       "      <td>...</td>\n",
       "      <td>...</td>\n",
       "      <td>...</td>\n",
       "      <td>...</td>\n",
       "      <td>...</td>\n",
       "      <td>...</td>\n",
       "      <td>...</td>\n",
       "    </tr>\n",
       "    <tr>\n",
       "      <th>46866</th>\n",
       "      <td>Brooklyn</td>\n",
       "      <td>40.67853</td>\n",
       "      <td>-73.94995</td>\n",
       "      <td>Private room</td>\n",
       "      <td>70</td>\n",
       "      <td>2</td>\n",
       "      <td>0</td>\n",
       "      <td>NaN</td>\n",
       "      <td>9</td>\n",
       "    </tr>\n",
       "    <tr>\n",
       "      <th>46867</th>\n",
       "      <td>Brooklyn</td>\n",
       "      <td>40.70184</td>\n",
       "      <td>-73.93317</td>\n",
       "      <td>Private room</td>\n",
       "      <td>40</td>\n",
       "      <td>4</td>\n",
       "      <td>0</td>\n",
       "      <td>NaN</td>\n",
       "      <td>36</td>\n",
       "    </tr>\n",
       "    <tr>\n",
       "      <th>46868</th>\n",
       "      <td>Manhattan</td>\n",
       "      <td>40.81475</td>\n",
       "      <td>-73.94867</td>\n",
       "      <td>Entire home/apt</td>\n",
       "      <td>115</td>\n",
       "      <td>10</td>\n",
       "      <td>0</td>\n",
       "      <td>NaN</td>\n",
       "      <td>27</td>\n",
       "    </tr>\n",
       "    <tr>\n",
       "      <th>46869</th>\n",
       "      <td>Manhattan</td>\n",
       "      <td>40.75751</td>\n",
       "      <td>-73.99112</td>\n",
       "      <td>Shared room</td>\n",
       "      <td>55</td>\n",
       "      <td>1</td>\n",
       "      <td>0</td>\n",
       "      <td>NaN</td>\n",
       "      <td>2</td>\n",
       "    </tr>\n",
       "    <tr>\n",
       "      <th>46870</th>\n",
       "      <td>Manhattan</td>\n",
       "      <td>40.76404</td>\n",
       "      <td>-73.98933</td>\n",
       "      <td>Private room</td>\n",
       "      <td>90</td>\n",
       "      <td>7</td>\n",
       "      <td>0</td>\n",
       "      <td>NaN</td>\n",
       "      <td>23</td>\n",
       "    </tr>\n",
       "  </tbody>\n",
       "</table>\n",
       "<p>46871 rows × 9 columns</p>\n",
       "</div>"
      ],
      "text/plain": [
       "      neighbourhood_group  latitude  longitude        room_type  price  \\\n",
       "0                  Queens  40.75997  -73.90926  Entire home/apt    120   \n",
       "1                Brooklyn  40.72577  -73.94981     Private room     90   \n",
       "2                Brooklyn  40.67148  -73.97786     Private room     40   \n",
       "3               Manhattan  40.82421  -73.95426     Private room     40   \n",
       "4                Brooklyn  40.68810  -73.98699  Entire home/apt    500   \n",
       "...                   ...       ...        ...              ...    ...   \n",
       "46866            Brooklyn  40.67853  -73.94995     Private room     70   \n",
       "46867            Brooklyn  40.70184  -73.93317     Private room     40   \n",
       "46868           Manhattan  40.81475  -73.94867  Entire home/apt    115   \n",
       "46869           Manhattan  40.75751  -73.99112      Shared room     55   \n",
       "46870           Manhattan  40.76404  -73.98933     Private room     90   \n",
       "\n",
       "       minimum_nights  number_of_reviews  reviews_per_month  availability_365  \n",
       "0                   3                 29               0.55                 0  \n",
       "1                   1                  7               0.19                 0  \n",
       "2                   3                  2               0.06                 0  \n",
       "3                   7                  1               0.03                 0  \n",
       "4                   6                 29               0.53                89  \n",
       "...               ...                ...                ...               ...  \n",
       "46866               2                  0                NaN                 9  \n",
       "46867               4                  0                NaN                36  \n",
       "46868              10                  0                NaN                27  \n",
       "46869               1                  0                NaN                 2  \n",
       "46870               7                  0                NaN                23  \n",
       "\n",
       "[46871 rows x 9 columns]"
      ]
     },
     "execution_count": 18,
     "metadata": {},
     "output_type": "execute_result"
    }
   ],
   "source": [
    "#Printing the dataset\n",
    "df"
   ]
  },
  {
   "cell_type": "code",
   "execution_count": 19,
   "metadata": {},
   "outputs": [
    {
     "data": {
      "text/plain": [
       "array(['Queens', 'Brooklyn', 'Manhattan', 'Bronx', 'Staten Island'],\n",
       "      dtype=object)"
      ]
     },
     "execution_count": 19,
     "metadata": {},
     "output_type": "execute_result"
    }
   ],
   "source": [
    "#Operation5: checking what all unique records are there for the neighbourhood_group column\n",
    "df['neighbourhood_group'].unique()"
   ]
  },
  {
   "cell_type": "code",
   "execution_count": 20,
   "metadata": {},
   "outputs": [
    {
     "data": {
      "text/plain": [
       "Manhattan        20686\n",
       "Brooklyn         19207\n",
       "Queens            5527\n",
       "Bronx             1083\n",
       "Staten Island      368\n",
       "Name: neighbourhood_group, dtype: int64"
      ]
     },
     "execution_count": 20,
     "metadata": {},
     "output_type": "execute_result"
    }
   ],
   "source": [
    "df['neighbourhood_group'].value_counts()"
   ]
  },
  {
   "cell_type": "code",
   "execution_count": 21,
   "metadata": {},
   "outputs": [],
   "source": [
    "#Categorizing the neighborhood group from 0-4\n",
    "#"
   ]
  },
  {
   "cell_type": "code",
   "execution_count": 22,
   "metadata": {},
   "outputs": [],
   "source": [
    "#Replacing the dataset with categorical values from above\n",
    "cleanup_nums = {\"neighbourhood_group\":{\"Queens\": 0, \"Brooklyn\": 1, \"Manhattan\":2, \"Bronx\": 3, \"Staten Island\":4}}\n",
    "df=df.replace(cleanup_nums)"
   ]
  },
  {
   "cell_type": "code",
   "execution_count": 23,
   "metadata": {},
   "outputs": [
    {
     "data": {
      "text/html": [
       "<div>\n",
       "<style scoped>\n",
       "    .dataframe tbody tr th:only-of-type {\n",
       "        vertical-align: middle;\n",
       "    }\n",
       "\n",
       "    .dataframe tbody tr th {\n",
       "        vertical-align: top;\n",
       "    }\n",
       "\n",
       "    .dataframe thead th {\n",
       "        text-align: right;\n",
       "    }\n",
       "</style>\n",
       "<table border=\"1\" class=\"dataframe\">\n",
       "  <thead>\n",
       "    <tr style=\"text-align: right;\">\n",
       "      <th></th>\n",
       "      <th>neighbourhood_group</th>\n",
       "      <th>latitude</th>\n",
       "      <th>longitude</th>\n",
       "      <th>room_type</th>\n",
       "      <th>price</th>\n",
       "      <th>minimum_nights</th>\n",
       "      <th>number_of_reviews</th>\n",
       "      <th>reviews_per_month</th>\n",
       "      <th>availability_365</th>\n",
       "    </tr>\n",
       "  </thead>\n",
       "  <tbody>\n",
       "    <tr>\n",
       "      <th>0</th>\n",
       "      <td>0</td>\n",
       "      <td>40.75997</td>\n",
       "      <td>-73.90926</td>\n",
       "      <td>Entire home/apt</td>\n",
       "      <td>120</td>\n",
       "      <td>3</td>\n",
       "      <td>29</td>\n",
       "      <td>0.55</td>\n",
       "      <td>0</td>\n",
       "    </tr>\n",
       "    <tr>\n",
       "      <th>1</th>\n",
       "      <td>1</td>\n",
       "      <td>40.72577</td>\n",
       "      <td>-73.94981</td>\n",
       "      <td>Private room</td>\n",
       "      <td>90</td>\n",
       "      <td>1</td>\n",
       "      <td>7</td>\n",
       "      <td>0.19</td>\n",
       "      <td>0</td>\n",
       "    </tr>\n",
       "    <tr>\n",
       "      <th>2</th>\n",
       "      <td>1</td>\n",
       "      <td>40.67148</td>\n",
       "      <td>-73.97786</td>\n",
       "      <td>Private room</td>\n",
       "      <td>40</td>\n",
       "      <td>3</td>\n",
       "      <td>2</td>\n",
       "      <td>0.06</td>\n",
       "      <td>0</td>\n",
       "    </tr>\n",
       "    <tr>\n",
       "      <th>3</th>\n",
       "      <td>2</td>\n",
       "      <td>40.82421</td>\n",
       "      <td>-73.95426</td>\n",
       "      <td>Private room</td>\n",
       "      <td>40</td>\n",
       "      <td>7</td>\n",
       "      <td>1</td>\n",
       "      <td>0.03</td>\n",
       "      <td>0</td>\n",
       "    </tr>\n",
       "    <tr>\n",
       "      <th>4</th>\n",
       "      <td>1</td>\n",
       "      <td>40.68810</td>\n",
       "      <td>-73.98699</td>\n",
       "      <td>Entire home/apt</td>\n",
       "      <td>500</td>\n",
       "      <td>6</td>\n",
       "      <td>29</td>\n",
       "      <td>0.53</td>\n",
       "      <td>89</td>\n",
       "    </tr>\n",
       "    <tr>\n",
       "      <th>...</th>\n",
       "      <td>...</td>\n",
       "      <td>...</td>\n",
       "      <td>...</td>\n",
       "      <td>...</td>\n",
       "      <td>...</td>\n",
       "      <td>...</td>\n",
       "      <td>...</td>\n",
       "      <td>...</td>\n",
       "      <td>...</td>\n",
       "    </tr>\n",
       "    <tr>\n",
       "      <th>46866</th>\n",
       "      <td>1</td>\n",
       "      <td>40.67853</td>\n",
       "      <td>-73.94995</td>\n",
       "      <td>Private room</td>\n",
       "      <td>70</td>\n",
       "      <td>2</td>\n",
       "      <td>0</td>\n",
       "      <td>NaN</td>\n",
       "      <td>9</td>\n",
       "    </tr>\n",
       "    <tr>\n",
       "      <th>46867</th>\n",
       "      <td>1</td>\n",
       "      <td>40.70184</td>\n",
       "      <td>-73.93317</td>\n",
       "      <td>Private room</td>\n",
       "      <td>40</td>\n",
       "      <td>4</td>\n",
       "      <td>0</td>\n",
       "      <td>NaN</td>\n",
       "      <td>36</td>\n",
       "    </tr>\n",
       "    <tr>\n",
       "      <th>46868</th>\n",
       "      <td>2</td>\n",
       "      <td>40.81475</td>\n",
       "      <td>-73.94867</td>\n",
       "      <td>Entire home/apt</td>\n",
       "      <td>115</td>\n",
       "      <td>10</td>\n",
       "      <td>0</td>\n",
       "      <td>NaN</td>\n",
       "      <td>27</td>\n",
       "    </tr>\n",
       "    <tr>\n",
       "      <th>46869</th>\n",
       "      <td>2</td>\n",
       "      <td>40.75751</td>\n",
       "      <td>-73.99112</td>\n",
       "      <td>Shared room</td>\n",
       "      <td>55</td>\n",
       "      <td>1</td>\n",
       "      <td>0</td>\n",
       "      <td>NaN</td>\n",
       "      <td>2</td>\n",
       "    </tr>\n",
       "    <tr>\n",
       "      <th>46870</th>\n",
       "      <td>2</td>\n",
       "      <td>40.76404</td>\n",
       "      <td>-73.98933</td>\n",
       "      <td>Private room</td>\n",
       "      <td>90</td>\n",
       "      <td>7</td>\n",
       "      <td>0</td>\n",
       "      <td>NaN</td>\n",
       "      <td>23</td>\n",
       "    </tr>\n",
       "  </tbody>\n",
       "</table>\n",
       "<p>46871 rows × 9 columns</p>\n",
       "</div>"
      ],
      "text/plain": [
       "       neighbourhood_group  latitude  longitude        room_type  price  \\\n",
       "0                        0  40.75997  -73.90926  Entire home/apt    120   \n",
       "1                        1  40.72577  -73.94981     Private room     90   \n",
       "2                        1  40.67148  -73.97786     Private room     40   \n",
       "3                        2  40.82421  -73.95426     Private room     40   \n",
       "4                        1  40.68810  -73.98699  Entire home/apt    500   \n",
       "...                    ...       ...        ...              ...    ...   \n",
       "46866                    1  40.67853  -73.94995     Private room     70   \n",
       "46867                    1  40.70184  -73.93317     Private room     40   \n",
       "46868                    2  40.81475  -73.94867  Entire home/apt    115   \n",
       "46869                    2  40.75751  -73.99112      Shared room     55   \n",
       "46870                    2  40.76404  -73.98933     Private room     90   \n",
       "\n",
       "       minimum_nights  number_of_reviews  reviews_per_month  availability_365  \n",
       "0                   3                 29               0.55                 0  \n",
       "1                   1                  7               0.19                 0  \n",
       "2                   3                  2               0.06                 0  \n",
       "3                   7                  1               0.03                 0  \n",
       "4                   6                 29               0.53                89  \n",
       "...               ...                ...                ...               ...  \n",
       "46866               2                  0                NaN                 9  \n",
       "46867               4                  0                NaN                36  \n",
       "46868              10                  0                NaN                27  \n",
       "46869               1                  0                NaN                 2  \n",
       "46870               7                  0                NaN                23  \n",
       "\n",
       "[46871 rows x 9 columns]"
      ]
     },
     "execution_count": 23,
     "metadata": {},
     "output_type": "execute_result"
    }
   ],
   "source": [
    "df"
   ]
  },
  {
   "cell_type": "code",
   "execution_count": 24,
   "metadata": {},
   "outputs": [
    {
     "data": {
      "text/plain": [
       "Entire home/apt    24321\n",
       "Private room       21425\n",
       "Shared room         1125\n",
       "Name: room_type, dtype: int64"
      ]
     },
     "execution_count": 24,
     "metadata": {},
     "output_type": "execute_result"
    }
   ],
   "source": [
    "#Operation6: Categorizing the room type group from 0-2\n",
    "df['room_type'].value_counts()"
   ]
  },
  {
   "cell_type": "code",
   "execution_count": null,
   "metadata": {},
   "outputs": [],
   "source": []
  },
  {
   "cell_type": "code",
   "execution_count": 25,
   "metadata": {},
   "outputs": [],
   "source": [
    "#Replacing the dataset with categorical values from above\n",
    "cleanup_nums1 = {\"room_type\":{\"Entire home/apt\": 0, \"Private room\": 1, \"Shared room\":2}}\n",
    "df=df.replace(cleanup_nums1)"
   ]
  },
  {
   "cell_type": "code",
   "execution_count": 26,
   "metadata": {},
   "outputs": [
    {
     "data": {
      "text/html": [
       "<div>\n",
       "<style scoped>\n",
       "    .dataframe tbody tr th:only-of-type {\n",
       "        vertical-align: middle;\n",
       "    }\n",
       "\n",
       "    .dataframe tbody tr th {\n",
       "        vertical-align: top;\n",
       "    }\n",
       "\n",
       "    .dataframe thead th {\n",
       "        text-align: right;\n",
       "    }\n",
       "</style>\n",
       "<table border=\"1\" class=\"dataframe\">\n",
       "  <thead>\n",
       "    <tr style=\"text-align: right;\">\n",
       "      <th></th>\n",
       "      <th>neighbourhood_group</th>\n",
       "      <th>latitude</th>\n",
       "      <th>longitude</th>\n",
       "      <th>room_type</th>\n",
       "      <th>price</th>\n",
       "      <th>minimum_nights</th>\n",
       "      <th>number_of_reviews</th>\n",
       "      <th>reviews_per_month</th>\n",
       "      <th>availability_365</th>\n",
       "    </tr>\n",
       "  </thead>\n",
       "  <tbody>\n",
       "    <tr>\n",
       "      <th>0</th>\n",
       "      <td>0</td>\n",
       "      <td>40.75997</td>\n",
       "      <td>-73.90926</td>\n",
       "      <td>0</td>\n",
       "      <td>120</td>\n",
       "      <td>3</td>\n",
       "      <td>29</td>\n",
       "      <td>0.55</td>\n",
       "      <td>0</td>\n",
       "    </tr>\n",
       "    <tr>\n",
       "      <th>1</th>\n",
       "      <td>1</td>\n",
       "      <td>40.72577</td>\n",
       "      <td>-73.94981</td>\n",
       "      <td>1</td>\n",
       "      <td>90</td>\n",
       "      <td>1</td>\n",
       "      <td>7</td>\n",
       "      <td>0.19</td>\n",
       "      <td>0</td>\n",
       "    </tr>\n",
       "    <tr>\n",
       "      <th>2</th>\n",
       "      <td>1</td>\n",
       "      <td>40.67148</td>\n",
       "      <td>-73.97786</td>\n",
       "      <td>1</td>\n",
       "      <td>40</td>\n",
       "      <td>3</td>\n",
       "      <td>2</td>\n",
       "      <td>0.06</td>\n",
       "      <td>0</td>\n",
       "    </tr>\n",
       "    <tr>\n",
       "      <th>3</th>\n",
       "      <td>2</td>\n",
       "      <td>40.82421</td>\n",
       "      <td>-73.95426</td>\n",
       "      <td>1</td>\n",
       "      <td>40</td>\n",
       "      <td>7</td>\n",
       "      <td>1</td>\n",
       "      <td>0.03</td>\n",
       "      <td>0</td>\n",
       "    </tr>\n",
       "    <tr>\n",
       "      <th>4</th>\n",
       "      <td>1</td>\n",
       "      <td>40.68810</td>\n",
       "      <td>-73.98699</td>\n",
       "      <td>0</td>\n",
       "      <td>500</td>\n",
       "      <td>6</td>\n",
       "      <td>29</td>\n",
       "      <td>0.53</td>\n",
       "      <td>89</td>\n",
       "    </tr>\n",
       "    <tr>\n",
       "      <th>...</th>\n",
       "      <td>...</td>\n",
       "      <td>...</td>\n",
       "      <td>...</td>\n",
       "      <td>...</td>\n",
       "      <td>...</td>\n",
       "      <td>...</td>\n",
       "      <td>...</td>\n",
       "      <td>...</td>\n",
       "      <td>...</td>\n",
       "    </tr>\n",
       "    <tr>\n",
       "      <th>46866</th>\n",
       "      <td>1</td>\n",
       "      <td>40.67853</td>\n",
       "      <td>-73.94995</td>\n",
       "      <td>1</td>\n",
       "      <td>70</td>\n",
       "      <td>2</td>\n",
       "      <td>0</td>\n",
       "      <td>NaN</td>\n",
       "      <td>9</td>\n",
       "    </tr>\n",
       "    <tr>\n",
       "      <th>46867</th>\n",
       "      <td>1</td>\n",
       "      <td>40.70184</td>\n",
       "      <td>-73.93317</td>\n",
       "      <td>1</td>\n",
       "      <td>40</td>\n",
       "      <td>4</td>\n",
       "      <td>0</td>\n",
       "      <td>NaN</td>\n",
       "      <td>36</td>\n",
       "    </tr>\n",
       "    <tr>\n",
       "      <th>46868</th>\n",
       "      <td>2</td>\n",
       "      <td>40.81475</td>\n",
       "      <td>-73.94867</td>\n",
       "      <td>0</td>\n",
       "      <td>115</td>\n",
       "      <td>10</td>\n",
       "      <td>0</td>\n",
       "      <td>NaN</td>\n",
       "      <td>27</td>\n",
       "    </tr>\n",
       "    <tr>\n",
       "      <th>46869</th>\n",
       "      <td>2</td>\n",
       "      <td>40.75751</td>\n",
       "      <td>-73.99112</td>\n",
       "      <td>2</td>\n",
       "      <td>55</td>\n",
       "      <td>1</td>\n",
       "      <td>0</td>\n",
       "      <td>NaN</td>\n",
       "      <td>2</td>\n",
       "    </tr>\n",
       "    <tr>\n",
       "      <th>46870</th>\n",
       "      <td>2</td>\n",
       "      <td>40.76404</td>\n",
       "      <td>-73.98933</td>\n",
       "      <td>1</td>\n",
       "      <td>90</td>\n",
       "      <td>7</td>\n",
       "      <td>0</td>\n",
       "      <td>NaN</td>\n",
       "      <td>23</td>\n",
       "    </tr>\n",
       "  </tbody>\n",
       "</table>\n",
       "<p>46871 rows × 9 columns</p>\n",
       "</div>"
      ],
      "text/plain": [
       "       neighbourhood_group  latitude  longitude  room_type  price  \\\n",
       "0                        0  40.75997  -73.90926          0    120   \n",
       "1                        1  40.72577  -73.94981          1     90   \n",
       "2                        1  40.67148  -73.97786          1     40   \n",
       "3                        2  40.82421  -73.95426          1     40   \n",
       "4                        1  40.68810  -73.98699          0    500   \n",
       "...                    ...       ...        ...        ...    ...   \n",
       "46866                    1  40.67853  -73.94995          1     70   \n",
       "46867                    1  40.70184  -73.93317          1     40   \n",
       "46868                    2  40.81475  -73.94867          0    115   \n",
       "46869                    2  40.75751  -73.99112          2     55   \n",
       "46870                    2  40.76404  -73.98933          1     90   \n",
       "\n",
       "       minimum_nights  number_of_reviews  reviews_per_month  availability_365  \n",
       "0                   3                 29               0.55                 0  \n",
       "1                   1                  7               0.19                 0  \n",
       "2                   3                  2               0.06                 0  \n",
       "3                   7                  1               0.03                 0  \n",
       "4                   6                 29               0.53                89  \n",
       "...               ...                ...                ...               ...  \n",
       "46866               2                  0                NaN                 9  \n",
       "46867               4                  0                NaN                36  \n",
       "46868              10                  0                NaN                27  \n",
       "46869               1                  0                NaN                 2  \n",
       "46870               7                  0                NaN                23  \n",
       "\n",
       "[46871 rows x 9 columns]"
      ]
     },
     "execution_count": 26,
     "metadata": {},
     "output_type": "execute_result"
    }
   ],
   "source": [
    "df"
   ]
  },
  {
   "cell_type": "code",
   "execution_count": 27,
   "metadata": {},
   "outputs": [
    {
     "name": "stdout",
     "output_type": "stream",
     "text": [
      "<class 'pandas.core.frame.DataFrame'>\n",
      "RangeIndex: 46871 entries, 0 to 46870\n",
      "Data columns (total 9 columns):\n",
      " #   Column               Non-Null Count  Dtype  \n",
      "---  ------               --------------  -----  \n",
      " 0   neighbourhood_group  46871 non-null  int64  \n",
      " 1   latitude             46871 non-null  float64\n",
      " 2   longitude            46871 non-null  float64\n",
      " 3   room_type            46871 non-null  int64  \n",
      " 4   price                46871 non-null  int64  \n",
      " 5   minimum_nights       46871 non-null  int64  \n",
      " 6   number_of_reviews    46871 non-null  int64  \n",
      " 7   reviews_per_month    36822 non-null  float64\n",
      " 8   availability_365     46871 non-null  int64  \n",
      "dtypes: float64(3), int64(6)\n",
      "memory usage: 3.2 MB\n"
     ]
    }
   ],
   "source": [
    "df.info()"
   ]
  },
  {
   "cell_type": "code",
   "execution_count": 28,
   "metadata": {},
   "outputs": [],
   "source": [
    "#Operation7: Filling all the reviews per month which is empty with 0, since the number of reviews which are empty refers to zero.\n",
    "df['reviews_per_month']=df['reviews_per_month'].fillna(0)"
   ]
  },
  {
   "cell_type": "code",
   "execution_count": 29,
   "metadata": {},
   "outputs": [
    {
     "data": {
      "text/html": [
       "<div>\n",
       "<style scoped>\n",
       "    .dataframe tbody tr th:only-of-type {\n",
       "        vertical-align: middle;\n",
       "    }\n",
       "\n",
       "    .dataframe tbody tr th {\n",
       "        vertical-align: top;\n",
       "    }\n",
       "\n",
       "    .dataframe thead th {\n",
       "        text-align: right;\n",
       "    }\n",
       "</style>\n",
       "<table border=\"1\" class=\"dataframe\">\n",
       "  <thead>\n",
       "    <tr style=\"text-align: right;\">\n",
       "      <th></th>\n",
       "      <th>neighbourhood_group</th>\n",
       "      <th>latitude</th>\n",
       "      <th>longitude</th>\n",
       "      <th>room_type</th>\n",
       "      <th>price</th>\n",
       "      <th>minimum_nights</th>\n",
       "      <th>number_of_reviews</th>\n",
       "      <th>reviews_per_month</th>\n",
       "      <th>availability_365</th>\n",
       "    </tr>\n",
       "  </thead>\n",
       "  <tbody>\n",
       "    <tr>\n",
       "      <th>0</th>\n",
       "      <td>0</td>\n",
       "      <td>40.75997</td>\n",
       "      <td>-73.90926</td>\n",
       "      <td>0</td>\n",
       "      <td>120</td>\n",
       "      <td>3</td>\n",
       "      <td>29</td>\n",
       "      <td>0.55</td>\n",
       "      <td>0</td>\n",
       "    </tr>\n",
       "    <tr>\n",
       "      <th>1</th>\n",
       "      <td>1</td>\n",
       "      <td>40.72577</td>\n",
       "      <td>-73.94981</td>\n",
       "      <td>1</td>\n",
       "      <td>90</td>\n",
       "      <td>1</td>\n",
       "      <td>7</td>\n",
       "      <td>0.19</td>\n",
       "      <td>0</td>\n",
       "    </tr>\n",
       "    <tr>\n",
       "      <th>2</th>\n",
       "      <td>1</td>\n",
       "      <td>40.67148</td>\n",
       "      <td>-73.97786</td>\n",
       "      <td>1</td>\n",
       "      <td>40</td>\n",
       "      <td>3</td>\n",
       "      <td>2</td>\n",
       "      <td>0.06</td>\n",
       "      <td>0</td>\n",
       "    </tr>\n",
       "    <tr>\n",
       "      <th>3</th>\n",
       "      <td>2</td>\n",
       "      <td>40.82421</td>\n",
       "      <td>-73.95426</td>\n",
       "      <td>1</td>\n",
       "      <td>40</td>\n",
       "      <td>7</td>\n",
       "      <td>1</td>\n",
       "      <td>0.03</td>\n",
       "      <td>0</td>\n",
       "    </tr>\n",
       "    <tr>\n",
       "      <th>4</th>\n",
       "      <td>1</td>\n",
       "      <td>40.68810</td>\n",
       "      <td>-73.98699</td>\n",
       "      <td>0</td>\n",
       "      <td>500</td>\n",
       "      <td>6</td>\n",
       "      <td>29</td>\n",
       "      <td>0.53</td>\n",
       "      <td>89</td>\n",
       "    </tr>\n",
       "    <tr>\n",
       "      <th>...</th>\n",
       "      <td>...</td>\n",
       "      <td>...</td>\n",
       "      <td>...</td>\n",
       "      <td>...</td>\n",
       "      <td>...</td>\n",
       "      <td>...</td>\n",
       "      <td>...</td>\n",
       "      <td>...</td>\n",
       "      <td>...</td>\n",
       "    </tr>\n",
       "    <tr>\n",
       "      <th>46866</th>\n",
       "      <td>1</td>\n",
       "      <td>40.67853</td>\n",
       "      <td>-73.94995</td>\n",
       "      <td>1</td>\n",
       "      <td>70</td>\n",
       "      <td>2</td>\n",
       "      <td>0</td>\n",
       "      <td>0.00</td>\n",
       "      <td>9</td>\n",
       "    </tr>\n",
       "    <tr>\n",
       "      <th>46867</th>\n",
       "      <td>1</td>\n",
       "      <td>40.70184</td>\n",
       "      <td>-73.93317</td>\n",
       "      <td>1</td>\n",
       "      <td>40</td>\n",
       "      <td>4</td>\n",
       "      <td>0</td>\n",
       "      <td>0.00</td>\n",
       "      <td>36</td>\n",
       "    </tr>\n",
       "    <tr>\n",
       "      <th>46868</th>\n",
       "      <td>2</td>\n",
       "      <td>40.81475</td>\n",
       "      <td>-73.94867</td>\n",
       "      <td>0</td>\n",
       "      <td>115</td>\n",
       "      <td>10</td>\n",
       "      <td>0</td>\n",
       "      <td>0.00</td>\n",
       "      <td>27</td>\n",
       "    </tr>\n",
       "    <tr>\n",
       "      <th>46869</th>\n",
       "      <td>2</td>\n",
       "      <td>40.75751</td>\n",
       "      <td>-73.99112</td>\n",
       "      <td>2</td>\n",
       "      <td>55</td>\n",
       "      <td>1</td>\n",
       "      <td>0</td>\n",
       "      <td>0.00</td>\n",
       "      <td>2</td>\n",
       "    </tr>\n",
       "    <tr>\n",
       "      <th>46870</th>\n",
       "      <td>2</td>\n",
       "      <td>40.76404</td>\n",
       "      <td>-73.98933</td>\n",
       "      <td>1</td>\n",
       "      <td>90</td>\n",
       "      <td>7</td>\n",
       "      <td>0</td>\n",
       "      <td>0.00</td>\n",
       "      <td>23</td>\n",
       "    </tr>\n",
       "  </tbody>\n",
       "</table>\n",
       "<p>46871 rows × 9 columns</p>\n",
       "</div>"
      ],
      "text/plain": [
       "       neighbourhood_group  latitude  longitude  room_type  price  \\\n",
       "0                        0  40.75997  -73.90926          0    120   \n",
       "1                        1  40.72577  -73.94981          1     90   \n",
       "2                        1  40.67148  -73.97786          1     40   \n",
       "3                        2  40.82421  -73.95426          1     40   \n",
       "4                        1  40.68810  -73.98699          0    500   \n",
       "...                    ...       ...        ...        ...    ...   \n",
       "46866                    1  40.67853  -73.94995          1     70   \n",
       "46867                    1  40.70184  -73.93317          1     40   \n",
       "46868                    2  40.81475  -73.94867          0    115   \n",
       "46869                    2  40.75751  -73.99112          2     55   \n",
       "46870                    2  40.76404  -73.98933          1     90   \n",
       "\n",
       "       minimum_nights  number_of_reviews  reviews_per_month  availability_365  \n",
       "0                   3                 29               0.55                 0  \n",
       "1                   1                  7               0.19                 0  \n",
       "2                   3                  2               0.06                 0  \n",
       "3                   7                  1               0.03                 0  \n",
       "4                   6                 29               0.53                89  \n",
       "...               ...                ...                ...               ...  \n",
       "46866               2                  0               0.00                 9  \n",
       "46867               4                  0               0.00                36  \n",
       "46868              10                  0               0.00                27  \n",
       "46869               1                  0               0.00                 2  \n",
       "46870               7                  0               0.00                23  \n",
       "\n",
       "[46871 rows x 9 columns]"
      ]
     },
     "execution_count": 29,
     "metadata": {},
     "output_type": "execute_result"
    }
   ],
   "source": [
    "df"
   ]
  },
  {
   "cell_type": "code",
   "execution_count": 30,
   "metadata": {},
   "outputs": [],
   "source": [
    "#Operation8: Calculation of Variance Inflation Factor to check for multi-collinearity\n",
    "vif_data = pd.DataFrame() \n",
    "vif_data[\"feature\"] = df.columns \n",
    "  \n",
    "# calculating VIF for each feature \n",
    "vif_data[\"VIF\"] = [variance_inflation_factor(df.values, i) \n",
    "                          for i in range(len(df.columns))]"
   ]
  },
  {
   "cell_type": "code",
   "execution_count": 31,
   "metadata": {},
   "outputs": [
    {
     "data": {
      "text/html": [
       "<div>\n",
       "<style scoped>\n",
       "    .dataframe tbody tr th:only-of-type {\n",
       "        vertical-align: middle;\n",
       "    }\n",
       "\n",
       "    .dataframe tbody tr th {\n",
       "        vertical-align: top;\n",
       "    }\n",
       "\n",
       "    .dataframe thead th {\n",
       "        text-align: right;\n",
       "    }\n",
       "</style>\n",
       "<table border=\"1\" class=\"dataframe\">\n",
       "  <thead>\n",
       "    <tr style=\"text-align: right;\">\n",
       "      <th></th>\n",
       "      <th>feature</th>\n",
       "      <th>VIF</th>\n",
       "    </tr>\n",
       "  </thead>\n",
       "  <tbody>\n",
       "    <tr>\n",
       "      <th>0</th>\n",
       "      <td>neighbourhood_group</td>\n",
       "      <td>4.696163</td>\n",
       "    </tr>\n",
       "    <tr>\n",
       "      <th>1</th>\n",
       "      <td>latitude</td>\n",
       "      <td>442948.168397</td>\n",
       "    </tr>\n",
       "    <tr>\n",
       "      <th>2</th>\n",
       "      <td>longitude</td>\n",
       "      <td>442360.983132</td>\n",
       "    </tr>\n",
       "    <tr>\n",
       "      <th>3</th>\n",
       "      <td>room_type</td>\n",
       "      <td>2.039958</td>\n",
       "    </tr>\n",
       "    <tr>\n",
       "      <th>4</th>\n",
       "      <td>price</td>\n",
       "      <td>1.577951</td>\n",
       "    </tr>\n",
       "    <tr>\n",
       "      <th>5</th>\n",
       "      <td>minimum_nights</td>\n",
       "      <td>1.190594</td>\n",
       "    </tr>\n",
       "    <tr>\n",
       "      <th>6</th>\n",
       "      <td>number_of_reviews</td>\n",
       "      <td>1.974991</td>\n",
       "    </tr>\n",
       "    <tr>\n",
       "      <th>7</th>\n",
       "      <td>reviews_per_month</td>\n",
       "      <td>2.325409</td>\n",
       "    </tr>\n",
       "    <tr>\n",
       "      <th>8</th>\n",
       "      <td>availability_365</td>\n",
       "      <td>1.908504</td>\n",
       "    </tr>\n",
       "  </tbody>\n",
       "</table>\n",
       "</div>"
      ],
      "text/plain": [
       "               feature            VIF\n",
       "0  neighbourhood_group       4.696163\n",
       "1             latitude  442948.168397\n",
       "2            longitude  442360.983132\n",
       "3            room_type       2.039958\n",
       "4                price       1.577951\n",
       "5       minimum_nights       1.190594\n",
       "6    number_of_reviews       1.974991\n",
       "7    reviews_per_month       2.325409\n",
       "8     availability_365       1.908504"
      ]
     },
     "execution_count": 31,
     "metadata": {},
     "output_type": "execute_result"
    }
   ],
   "source": [
    "vif_data"
   ]
  },
  {
   "cell_type": "code",
   "execution_count": 32,
   "metadata": {},
   "outputs": [],
   "source": [
    "#Dropping highly correlated column 'latitude' which have high VIF\n",
    "df=df.drop(['latitude'],axis=1)"
   ]
  },
  {
   "cell_type": "code",
   "execution_count": 33,
   "metadata": {},
   "outputs": [
    {
     "data": {
      "text/html": [
       "<div>\n",
       "<style scoped>\n",
       "    .dataframe tbody tr th:only-of-type {\n",
       "        vertical-align: middle;\n",
       "    }\n",
       "\n",
       "    .dataframe tbody tr th {\n",
       "        vertical-align: top;\n",
       "    }\n",
       "\n",
       "    .dataframe thead th {\n",
       "        text-align: right;\n",
       "    }\n",
       "</style>\n",
       "<table border=\"1\" class=\"dataframe\">\n",
       "  <thead>\n",
       "    <tr style=\"text-align: right;\">\n",
       "      <th></th>\n",
       "      <th>neighbourhood_group</th>\n",
       "      <th>longitude</th>\n",
       "      <th>room_type</th>\n",
       "      <th>price</th>\n",
       "      <th>minimum_nights</th>\n",
       "      <th>number_of_reviews</th>\n",
       "      <th>reviews_per_month</th>\n",
       "      <th>availability_365</th>\n",
       "    </tr>\n",
       "  </thead>\n",
       "  <tbody>\n",
       "    <tr>\n",
       "      <th>0</th>\n",
       "      <td>0</td>\n",
       "      <td>-73.90926</td>\n",
       "      <td>0</td>\n",
       "      <td>120</td>\n",
       "      <td>3</td>\n",
       "      <td>29</td>\n",
       "      <td>0.55</td>\n",
       "      <td>0</td>\n",
       "    </tr>\n",
       "    <tr>\n",
       "      <th>1</th>\n",
       "      <td>1</td>\n",
       "      <td>-73.94981</td>\n",
       "      <td>1</td>\n",
       "      <td>90</td>\n",
       "      <td>1</td>\n",
       "      <td>7</td>\n",
       "      <td>0.19</td>\n",
       "      <td>0</td>\n",
       "    </tr>\n",
       "    <tr>\n",
       "      <th>2</th>\n",
       "      <td>1</td>\n",
       "      <td>-73.97786</td>\n",
       "      <td>1</td>\n",
       "      <td>40</td>\n",
       "      <td>3</td>\n",
       "      <td>2</td>\n",
       "      <td>0.06</td>\n",
       "      <td>0</td>\n",
       "    </tr>\n",
       "    <tr>\n",
       "      <th>3</th>\n",
       "      <td>2</td>\n",
       "      <td>-73.95426</td>\n",
       "      <td>1</td>\n",
       "      <td>40</td>\n",
       "      <td>7</td>\n",
       "      <td>1</td>\n",
       "      <td>0.03</td>\n",
       "      <td>0</td>\n",
       "    </tr>\n",
       "    <tr>\n",
       "      <th>4</th>\n",
       "      <td>1</td>\n",
       "      <td>-73.98699</td>\n",
       "      <td>0</td>\n",
       "      <td>500</td>\n",
       "      <td>6</td>\n",
       "      <td>29</td>\n",
       "      <td>0.53</td>\n",
       "      <td>89</td>\n",
       "    </tr>\n",
       "  </tbody>\n",
       "</table>\n",
       "</div>"
      ],
      "text/plain": [
       "   neighbourhood_group  longitude  room_type  price  minimum_nights  \\\n",
       "0                    0  -73.90926          0    120               3   \n",
       "1                    1  -73.94981          1     90               1   \n",
       "2                    1  -73.97786          1     40               3   \n",
       "3                    2  -73.95426          1     40               7   \n",
       "4                    1  -73.98699          0    500               6   \n",
       "\n",
       "   number_of_reviews  reviews_per_month  availability_365  \n",
       "0                 29               0.55                 0  \n",
       "1                  7               0.19                 0  \n",
       "2                  2               0.06                 0  \n",
       "3                  1               0.03                 0  \n",
       "4                 29               0.53                89  "
      ]
     },
     "execution_count": 33,
     "metadata": {},
     "output_type": "execute_result"
    }
   ],
   "source": [
    "df.head()"
   ]
  },
  {
   "cell_type": "code",
   "execution_count": 34,
   "metadata": {},
   "outputs": [],
   "source": [
    "#Checking VIF again to ensure there is no highly correlated column\n",
    "vif_data = pd.DataFrame() \n",
    "vif_data[\"feature\"] = df.columns \n",
    "  \n",
    "# calculating VIF for each feature \n",
    "vif_data[\"VIF\"] = [variance_inflation_factor(df.values, i) \n",
    "                          for i in range(len(df.columns))]"
   ]
  },
  {
   "cell_type": "code",
   "execution_count": 35,
   "metadata": {},
   "outputs": [
    {
     "data": {
      "text/html": [
       "<div>\n",
       "<style scoped>\n",
       "    .dataframe tbody tr th:only-of-type {\n",
       "        vertical-align: middle;\n",
       "    }\n",
       "\n",
       "    .dataframe tbody tr th {\n",
       "        vertical-align: top;\n",
       "    }\n",
       "\n",
       "    .dataframe thead th {\n",
       "        text-align: right;\n",
       "    }\n",
       "</style>\n",
       "<table border=\"1\" class=\"dataframe\">\n",
       "  <thead>\n",
       "    <tr style=\"text-align: right;\">\n",
       "      <th></th>\n",
       "      <th>feature</th>\n",
       "      <th>VIF</th>\n",
       "    </tr>\n",
       "  </thead>\n",
       "  <tbody>\n",
       "    <tr>\n",
       "      <th>0</th>\n",
       "      <td>neighbourhood_group</td>\n",
       "      <td>4.552756</td>\n",
       "    </tr>\n",
       "    <tr>\n",
       "      <th>1</th>\n",
       "      <td>longitude</td>\n",
       "      <td>7.571013</td>\n",
       "    </tr>\n",
       "    <tr>\n",
       "      <th>2</th>\n",
       "      <td>room_type</td>\n",
       "      <td>2.022808</td>\n",
       "    </tr>\n",
       "    <tr>\n",
       "      <th>3</th>\n",
       "      <td>price</td>\n",
       "      <td>1.576591</td>\n",
       "    </tr>\n",
       "    <tr>\n",
       "      <th>4</th>\n",
       "      <td>minimum_nights</td>\n",
       "      <td>1.190594</td>\n",
       "    </tr>\n",
       "    <tr>\n",
       "      <th>5</th>\n",
       "      <td>number_of_reviews</td>\n",
       "      <td>1.974350</td>\n",
       "    </tr>\n",
       "    <tr>\n",
       "      <th>6</th>\n",
       "      <td>reviews_per_month</td>\n",
       "      <td>2.320409</td>\n",
       "    </tr>\n",
       "    <tr>\n",
       "      <th>7</th>\n",
       "      <td>availability_365</td>\n",
       "      <td>1.907934</td>\n",
       "    </tr>\n",
       "  </tbody>\n",
       "</table>\n",
       "</div>"
      ],
      "text/plain": [
       "               feature       VIF\n",
       "0  neighbourhood_group  4.552756\n",
       "1            longitude  7.571013\n",
       "2            room_type  2.022808\n",
       "3                price  1.576591\n",
       "4       minimum_nights  1.190594\n",
       "5    number_of_reviews  1.974350\n",
       "6    reviews_per_month  2.320409\n",
       "7     availability_365  1.907934"
      ]
     },
     "execution_count": 35,
     "metadata": {},
     "output_type": "execute_result"
    }
   ],
   "source": [
    "#Print the vif for each feature\n",
    "vif_data"
   ]
  },
  {
   "cell_type": "code",
   "execution_count": 36,
   "metadata": {},
   "outputs": [
    {
     "name": "stdout",
     "output_type": "stream",
     "text": [
      "<class 'pandas.core.frame.DataFrame'>\n",
      "RangeIndex: 46871 entries, 0 to 46870\n",
      "Data columns (total 8 columns):\n",
      " #   Column               Non-Null Count  Dtype  \n",
      "---  ------               --------------  -----  \n",
      " 0   neighbourhood_group  46871 non-null  int64  \n",
      " 1   longitude            46871 non-null  float64\n",
      " 2   room_type            46871 non-null  int64  \n",
      " 3   price                46871 non-null  int64  \n",
      " 4   minimum_nights       46871 non-null  int64  \n",
      " 5   number_of_reviews    46871 non-null  int64  \n",
      " 6   reviews_per_month    46871 non-null  float64\n",
      " 7   availability_365     46871 non-null  int64  \n",
      "dtypes: float64(2), int64(6)\n",
      "memory usage: 2.9 MB\n"
     ]
    }
   ],
   "source": [
    "df.info()"
   ]
  },
  {
   "cell_type": "code",
   "execution_count": 37,
   "metadata": {},
   "outputs": [
    {
     "data": {
      "text/html": [
       "<div>\n",
       "<style scoped>\n",
       "    .dataframe tbody tr th:only-of-type {\n",
       "        vertical-align: middle;\n",
       "    }\n",
       "\n",
       "    .dataframe tbody tr th {\n",
       "        vertical-align: top;\n",
       "    }\n",
       "\n",
       "    .dataframe thead th {\n",
       "        text-align: right;\n",
       "    }\n",
       "</style>\n",
       "<table border=\"1\" class=\"dataframe\">\n",
       "  <thead>\n",
       "    <tr style=\"text-align: right;\">\n",
       "      <th></th>\n",
       "      <th>neighbourhood_group</th>\n",
       "      <th>longitude</th>\n",
       "      <th>room_type</th>\n",
       "      <th>price</th>\n",
       "      <th>minimum_nights</th>\n",
       "      <th>number_of_reviews</th>\n",
       "      <th>reviews_per_month</th>\n",
       "      <th>availability_365</th>\n",
       "    </tr>\n",
       "  </thead>\n",
       "  <tbody>\n",
       "    <tr>\n",
       "      <th>0</th>\n",
       "      <td>0</td>\n",
       "      <td>-73.90926</td>\n",
       "      <td>0</td>\n",
       "      <td>120</td>\n",
       "      <td>3</td>\n",
       "      <td>29</td>\n",
       "      <td>0.55</td>\n",
       "      <td>0</td>\n",
       "    </tr>\n",
       "    <tr>\n",
       "      <th>1</th>\n",
       "      <td>1</td>\n",
       "      <td>-73.94981</td>\n",
       "      <td>1</td>\n",
       "      <td>90</td>\n",
       "      <td>1</td>\n",
       "      <td>7</td>\n",
       "      <td>0.19</td>\n",
       "      <td>0</td>\n",
       "    </tr>\n",
       "    <tr>\n",
       "      <th>2</th>\n",
       "      <td>1</td>\n",
       "      <td>-73.97786</td>\n",
       "      <td>1</td>\n",
       "      <td>40</td>\n",
       "      <td>3</td>\n",
       "      <td>2</td>\n",
       "      <td>0.06</td>\n",
       "      <td>0</td>\n",
       "    </tr>\n",
       "    <tr>\n",
       "      <th>3</th>\n",
       "      <td>2</td>\n",
       "      <td>-73.95426</td>\n",
       "      <td>1</td>\n",
       "      <td>40</td>\n",
       "      <td>7</td>\n",
       "      <td>1</td>\n",
       "      <td>0.03</td>\n",
       "      <td>0</td>\n",
       "    </tr>\n",
       "    <tr>\n",
       "      <th>4</th>\n",
       "      <td>1</td>\n",
       "      <td>-73.98699</td>\n",
       "      <td>0</td>\n",
       "      <td>500</td>\n",
       "      <td>6</td>\n",
       "      <td>29</td>\n",
       "      <td>0.53</td>\n",
       "      <td>89</td>\n",
       "    </tr>\n",
       "    <tr>\n",
       "      <th>...</th>\n",
       "      <td>...</td>\n",
       "      <td>...</td>\n",
       "      <td>...</td>\n",
       "      <td>...</td>\n",
       "      <td>...</td>\n",
       "      <td>...</td>\n",
       "      <td>...</td>\n",
       "      <td>...</td>\n",
       "    </tr>\n",
       "    <tr>\n",
       "      <th>46866</th>\n",
       "      <td>1</td>\n",
       "      <td>-73.94995</td>\n",
       "      <td>1</td>\n",
       "      <td>70</td>\n",
       "      <td>2</td>\n",
       "      <td>0</td>\n",
       "      <td>0.00</td>\n",
       "      <td>9</td>\n",
       "    </tr>\n",
       "    <tr>\n",
       "      <th>46867</th>\n",
       "      <td>1</td>\n",
       "      <td>-73.93317</td>\n",
       "      <td>1</td>\n",
       "      <td>40</td>\n",
       "      <td>4</td>\n",
       "      <td>0</td>\n",
       "      <td>0.00</td>\n",
       "      <td>36</td>\n",
       "    </tr>\n",
       "    <tr>\n",
       "      <th>46868</th>\n",
       "      <td>2</td>\n",
       "      <td>-73.94867</td>\n",
       "      <td>0</td>\n",
       "      <td>115</td>\n",
       "      <td>10</td>\n",
       "      <td>0</td>\n",
       "      <td>0.00</td>\n",
       "      <td>27</td>\n",
       "    </tr>\n",
       "    <tr>\n",
       "      <th>46869</th>\n",
       "      <td>2</td>\n",
       "      <td>-73.99112</td>\n",
       "      <td>2</td>\n",
       "      <td>55</td>\n",
       "      <td>1</td>\n",
       "      <td>0</td>\n",
       "      <td>0.00</td>\n",
       "      <td>2</td>\n",
       "    </tr>\n",
       "    <tr>\n",
       "      <th>46870</th>\n",
       "      <td>2</td>\n",
       "      <td>-73.98933</td>\n",
       "      <td>1</td>\n",
       "      <td>90</td>\n",
       "      <td>7</td>\n",
       "      <td>0</td>\n",
       "      <td>0.00</td>\n",
       "      <td>23</td>\n",
       "    </tr>\n",
       "  </tbody>\n",
       "</table>\n",
       "<p>46871 rows × 8 columns</p>\n",
       "</div>"
      ],
      "text/plain": [
       "       neighbourhood_group  longitude  room_type  price  minimum_nights  \\\n",
       "0                        0  -73.90926          0    120               3   \n",
       "1                        1  -73.94981          1     90               1   \n",
       "2                        1  -73.97786          1     40               3   \n",
       "3                        2  -73.95426          1     40               7   \n",
       "4                        1  -73.98699          0    500               6   \n",
       "...                    ...        ...        ...    ...             ...   \n",
       "46866                    1  -73.94995          1     70               2   \n",
       "46867                    1  -73.93317          1     40               4   \n",
       "46868                    2  -73.94867          0    115              10   \n",
       "46869                    2  -73.99112          2     55               1   \n",
       "46870                    2  -73.98933          1     90               7   \n",
       "\n",
       "       number_of_reviews  reviews_per_month  availability_365  \n",
       "0                     29               0.55                 0  \n",
       "1                      7               0.19                 0  \n",
       "2                      2               0.06                 0  \n",
       "3                      1               0.03                 0  \n",
       "4                     29               0.53                89  \n",
       "...                  ...                ...               ...  \n",
       "46866                  0               0.00                 9  \n",
       "46867                  0               0.00                36  \n",
       "46868                  0               0.00                27  \n",
       "46869                  0               0.00                 2  \n",
       "46870                  0               0.00                23  \n",
       "\n",
       "[46871 rows x 8 columns]"
      ]
     },
     "execution_count": 37,
     "metadata": {},
     "output_type": "execute_result"
    }
   ],
   "source": [
    "df"
   ]
  },
  {
   "cell_type": "code",
   "execution_count": 38,
   "metadata": {},
   "outputs": [],
   "source": [
    "#Operation9: Detecting outliners using Z Score\n",
    "from scipy import stats\n",
    "import numpy as np\n"
   ]
  },
  {
   "cell_type": "code",
   "execution_count": 39,
   "metadata": {},
   "outputs": [],
   "source": [
    "z3=np.where(df['price']>350)"
   ]
  },
  {
   "cell_type": "code",
   "execution_count": 40,
   "metadata": {},
   "outputs": [],
   "source": [
    "l2 = [list(x) for x in z3]"
   ]
  },
  {
   "cell_type": "code",
   "execution_count": 41,
   "metadata": {},
   "outputs": [],
   "source": [
    "flatList = [ item for elem in l2 for item in elem]"
   ]
  },
  {
   "cell_type": "code",
   "execution_count": 42,
   "metadata": {},
   "outputs": [
    {
     "data": {
      "text/plain": [
       "[4,\n",
       " 24,\n",
       " 77,\n",
       " 112,\n",
       " 134,\n",
       " 142,\n",
       " 175,\n",
       " 255,\n",
       " 263,\n",
       " 329,\n",
       " 446,\n",
       " 455,\n",
       " 524,\n",
       " 532,\n",
       " 559,\n",
       " 566,\n",
       " 568,\n",
       " 632,\n",
       " 654,\n",
       " 682,\n",
       " 692,\n",
       " 816,\n",
       " 839,\n",
       " 907,\n",
       " 909,\n",
       " 922,\n",
       " 994,\n",
       " 1037,\n",
       " 1069,\n",
       " 1073,\n",
       " 1084,\n",
       " 1092,\n",
       " 1096,\n",
       " 1099,\n",
       " 1157,\n",
       " 1252,\n",
       " 1266,\n",
       " 1299,\n",
       " 1306,\n",
       " 1363,\n",
       " 1394,\n",
       " 1436,\n",
       " 1449,\n",
       " 1475,\n",
       " 1593,\n",
       " 1632,\n",
       " 1633,\n",
       " 1634,\n",
       " 1651,\n",
       " 1658,\n",
       " 1694,\n",
       " 1710,\n",
       " 1751,\n",
       " 1785,\n",
       " 1793,\n",
       " 1837,\n",
       " 1858,\n",
       " 1901,\n",
       " 1935,\n",
       " 1956,\n",
       " 1988,\n",
       " 2033,\n",
       " 2042,\n",
       " 2055,\n",
       " 2067,\n",
       " 2069,\n",
       " 2070,\n",
       " 2072,\n",
       " 2074,\n",
       " 2104,\n",
       " 2132,\n",
       " 2142,\n",
       " 2154,\n",
       " 2161,\n",
       " 2167,\n",
       " 2222,\n",
       " 2240,\n",
       " 2242,\n",
       " 2258,\n",
       " 2268,\n",
       " 2271,\n",
       " 2303,\n",
       " 2307,\n",
       " 2313,\n",
       " 2328,\n",
       " 2336,\n",
       " 2348,\n",
       " 2354,\n",
       " 2438,\n",
       " 2593,\n",
       " 2601,\n",
       " 2628,\n",
       " 2639,\n",
       " 2701,\n",
       " 2712,\n",
       " 2713,\n",
       " 2737,\n",
       " 2762,\n",
       " 2816,\n",
       " 2819,\n",
       " 2821,\n",
       " 2829,\n",
       " 2897,\n",
       " 2942,\n",
       " 2952,\n",
       " 3026,\n",
       " 3061,\n",
       " 3122,\n",
       " 3130,\n",
       " 3144,\n",
       " 3171,\n",
       " 3176,\n",
       " 3200,\n",
       " 3240,\n",
       " 3290,\n",
       " 3324,\n",
       " 3413,\n",
       " 3469,\n",
       " 3493,\n",
       " 3547,\n",
       " 3567,\n",
       " 3599,\n",
       " 3621,\n",
       " 3629,\n",
       " 3723,\n",
       " 3772,\n",
       " 3876,\n",
       " 3879,\n",
       " 3888,\n",
       " 3965,\n",
       " 3971,\n",
       " 3992,\n",
       " 4102,\n",
       " 4127,\n",
       " 4150,\n",
       " 4177,\n",
       " 4254,\n",
       " 4440,\n",
       " 4450,\n",
       " 4492,\n",
       " 4505,\n",
       " 4514,\n",
       " 4530,\n",
       " 4611,\n",
       " 4615,\n",
       " 4648,\n",
       " 4700,\n",
       " 4717,\n",
       " 4747,\n",
       " 4783,\n",
       " 4821,\n",
       " 4863,\n",
       " 4912,\n",
       " 5008,\n",
       " 5009,\n",
       " 5041,\n",
       " 5050,\n",
       " 5159,\n",
       " 5190,\n",
       " 5202,\n",
       " 5226,\n",
       " 5261,\n",
       " 5347,\n",
       " 5368,\n",
       " 5384,\n",
       " 5387,\n",
       " 5425,\n",
       " 5428,\n",
       " 5470,\n",
       " 5474,\n",
       " 5483,\n",
       " 5504,\n",
       " 5510,\n",
       " 5529,\n",
       " 5539,\n",
       " 5603,\n",
       " 5610,\n",
       " 5684,\n",
       " 5696,\n",
       " 5715,\n",
       " 5751,\n",
       " 5757,\n",
       " 5758,\n",
       " 5831,\n",
       " 5852,\n",
       " 5882,\n",
       " 5908,\n",
       " 5939,\n",
       " 5953,\n",
       " 5995,\n",
       " 6004,\n",
       " 6025,\n",
       " 6079,\n",
       " 6136,\n",
       " 6198,\n",
       " 6214,\n",
       " 6287,\n",
       " 6291,\n",
       " 6301,\n",
       " 6321,\n",
       " 6350,\n",
       " 6371,\n",
       " 6413,\n",
       " 6436,\n",
       " 6470,\n",
       " 6481,\n",
       " 6484,\n",
       " 6536,\n",
       " 6539,\n",
       " 6541,\n",
       " 6542,\n",
       " 6548,\n",
       " 6561,\n",
       " 6575,\n",
       " 6579,\n",
       " 6606,\n",
       " 6608,\n",
       " 6617,\n",
       " 6622,\n",
       " 6638,\n",
       " 6650,\n",
       " 6661,\n",
       " 6688,\n",
       " 6757,\n",
       " 6778,\n",
       " 6854,\n",
       " 6892,\n",
       " 6910,\n",
       " 6968,\n",
       " 6982,\n",
       " 7032,\n",
       " 7063,\n",
       " 7149,\n",
       " 7164,\n",
       " 7211,\n",
       " 7216,\n",
       " 7241,\n",
       " 7306,\n",
       " 7316,\n",
       " 7332,\n",
       " 7337,\n",
       " 7412,\n",
       " 7413,\n",
       " 7422,\n",
       " 7431,\n",
       " 7435,\n",
       " 7438,\n",
       " 7529,\n",
       " 7537,\n",
       " 7730,\n",
       " 7769,\n",
       " 7776,\n",
       " 7811,\n",
       " 7835,\n",
       " 7841,\n",
       " 7882,\n",
       " 7936,\n",
       " 7942,\n",
       " 7981,\n",
       " 7988,\n",
       " 8064,\n",
       " 8141,\n",
       " 8161,\n",
       " 8166,\n",
       " 8253,\n",
       " 8308,\n",
       " 8334,\n",
       " 8384,\n",
       " 8388,\n",
       " 8418,\n",
       " 8436,\n",
       " 8459,\n",
       " 8510,\n",
       " 8514,\n",
       " 8575,\n",
       " 8578,\n",
       " 8641,\n",
       " 8734,\n",
       " 8738,\n",
       " 8777,\n",
       " 8781,\n",
       " 8789,\n",
       " 8800,\n",
       " 8802,\n",
       " 8814,\n",
       " 8847,\n",
       " 8863,\n",
       " 8881,\n",
       " 8893,\n",
       " 8950,\n",
       " 8959,\n",
       " 9014,\n",
       " 9089,\n",
       " 9131,\n",
       " 9137,\n",
       " 9148,\n",
       " 9152,\n",
       " 9162,\n",
       " 9222,\n",
       " 9317,\n",
       " 9330,\n",
       " 9381,\n",
       " 9386,\n",
       " 9412,\n",
       " 9483,\n",
       " 9526,\n",
       " 9577,\n",
       " 9602,\n",
       " 9620,\n",
       " 9629,\n",
       " 9640,\n",
       " 9654,\n",
       " 9660,\n",
       " 9672,\n",
       " 9696,\n",
       " 9831,\n",
       " 9914,\n",
       " 9932,\n",
       " 9961,\n",
       " 9985,\n",
       " 10011,\n",
       " 10037,\n",
       " 10038,\n",
       " 10054,\n",
       " 10058,\n",
       " 10060,\n",
       " 10087,\n",
       " 10116,\n",
       " 10119,\n",
       " 10183,\n",
       " 10306,\n",
       " 10309,\n",
       " 10379,\n",
       " 10414,\n",
       " 10415,\n",
       " 10447,\n",
       " 10527,\n",
       " 10533,\n",
       " 10571,\n",
       " 10591,\n",
       " 10637,\n",
       " 10649,\n",
       " 10675,\n",
       " 10676,\n",
       " 10731,\n",
       " 10734,\n",
       " 10768,\n",
       " 10838,\n",
       " 10843,\n",
       " 10926,\n",
       " 10936,\n",
       " 10937,\n",
       " 10976,\n",
       " 10978,\n",
       " 11011,\n",
       " 11027,\n",
       " 11039,\n",
       " 11062,\n",
       " 11080,\n",
       " 11092,\n",
       " 11120,\n",
       " 11179,\n",
       " 11181,\n",
       " 11195,\n",
       " 11248,\n",
       " 11250,\n",
       " 11271,\n",
       " 11274,\n",
       " 11296,\n",
       " 11312,\n",
       " 11325,\n",
       " 11330,\n",
       " 11331,\n",
       " 11334,\n",
       " 11336,\n",
       " 11343,\n",
       " 11345,\n",
       " 11353,\n",
       " 11358,\n",
       " 11370,\n",
       " 11371,\n",
       " 11389,\n",
       " 11394,\n",
       " 11403,\n",
       " 11416,\n",
       " 11424,\n",
       " 11447,\n",
       " 11451,\n",
       " 11453,\n",
       " 11476,\n",
       " 11486,\n",
       " 11499,\n",
       " 11506,\n",
       " 11522,\n",
       " 11545,\n",
       " 11547,\n",
       " 11566,\n",
       " 11571,\n",
       " 11594,\n",
       " 11609,\n",
       " 11631,\n",
       " 11671,\n",
       " 11690,\n",
       " 11727,\n",
       " 11737,\n",
       " 11738,\n",
       " 11783,\n",
       " 11784,\n",
       " 11799,\n",
       " 11814,\n",
       " 11816,\n",
       " 11824,\n",
       " 11843,\n",
       " 11863,\n",
       " 11867,\n",
       " 11902,\n",
       " 11948,\n",
       " 11986,\n",
       " 12015,\n",
       " 12018,\n",
       " 12044,\n",
       " 12113,\n",
       " 12140,\n",
       " 12189,\n",
       " 12200,\n",
       " 12208,\n",
       " 12253,\n",
       " 12271,\n",
       " 12278,\n",
       " 12331,\n",
       " 12337,\n",
       " 12347,\n",
       " 12393,\n",
       " 12401,\n",
       " 12441,\n",
       " 12476,\n",
       " 12501,\n",
       " 12506,\n",
       " 12521,\n",
       " 12544,\n",
       " 12550,\n",
       " 12552,\n",
       " 12564,\n",
       " 12580,\n",
       " 12607,\n",
       " 12625,\n",
       " 12667,\n",
       " 12692,\n",
       " 12693,\n",
       " 12706,\n",
       " 12709,\n",
       " 12717,\n",
       " 12772,\n",
       " 12774,\n",
       " 12785,\n",
       " 12901,\n",
       " 12909,\n",
       " 12921,\n",
       " 12922,\n",
       " 12940,\n",
       " 12946,\n",
       " 12973,\n",
       " 13017,\n",
       " 13025,\n",
       " 13032,\n",
       " 13048,\n",
       " 13070,\n",
       " 13076,\n",
       " 13107,\n",
       " 13132,\n",
       " 13140,\n",
       " 13150,\n",
       " 13152,\n",
       " 13187,\n",
       " 13247,\n",
       " 13260,\n",
       " 13271,\n",
       " 13273,\n",
       " 13274,\n",
       " 13283,\n",
       " 13286,\n",
       " 13310,\n",
       " 13316,\n",
       " 13340,\n",
       " 13398,\n",
       " 13420,\n",
       " 13430,\n",
       " 13432,\n",
       " 13434,\n",
       " 13491,\n",
       " 13556,\n",
       " 13560,\n",
       " 13561,\n",
       " 13567,\n",
       " 13571,\n",
       " 13575,\n",
       " 13583,\n",
       " 13588,\n",
       " 13644,\n",
       " 13662,\n",
       " 13674,\n",
       " 13727,\n",
       " 13735,\n",
       " 13744,\n",
       " 13768,\n",
       " 13769,\n",
       " 13945,\n",
       " 13950,\n",
       " 13976,\n",
       " 13987,\n",
       " 14005,\n",
       " 14048,\n",
       " 14121,\n",
       " 14136,\n",
       " 14153,\n",
       " 14156,\n",
       " 14180,\n",
       " 14217,\n",
       " 14260,\n",
       " 14299,\n",
       " 14332,\n",
       " 14333,\n",
       " 14365,\n",
       " 14371,\n",
       " 14413,\n",
       " 14432,\n",
       " 14438,\n",
       " 14453,\n",
       " 14457,\n",
       " 14459,\n",
       " 14486,\n",
       " 14580,\n",
       " 14592,\n",
       " 14605,\n",
       " 14606,\n",
       " 14633,\n",
       " 14634,\n",
       " 14645,\n",
       " 14673,\n",
       " 14677,\n",
       " 14709,\n",
       " 14725,\n",
       " 14751,\n",
       " 14775,\n",
       " 14819,\n",
       " 14829,\n",
       " 14846,\n",
       " 14872,\n",
       " 14881,\n",
       " 14882,\n",
       " 14900,\n",
       " 14969,\n",
       " 15034,\n",
       " 15053,\n",
       " 15069,\n",
       " 15080,\n",
       " 15081,\n",
       " 15083,\n",
       " 15091,\n",
       " 15105,\n",
       " 15188,\n",
       " 15193,\n",
       " 15194,\n",
       " 15196,\n",
       " 15202,\n",
       " 15233,\n",
       " 15252,\n",
       " 15275,\n",
       " 15300,\n",
       " 15311,\n",
       " 15317,\n",
       " 15328,\n",
       " 15334,\n",
       " 15359,\n",
       " 15361,\n",
       " 15405,\n",
       " 15508,\n",
       " 15525,\n",
       " 15527,\n",
       " 15533,\n",
       " 15555,\n",
       " 15575,\n",
       " 15583,\n",
       " 15598,\n",
       " 15653,\n",
       " 15671,\n",
       " 15690,\n",
       " 15708,\n",
       " 15762,\n",
       " 15764,\n",
       " 15771,\n",
       " 15776,\n",
       " 15829,\n",
       " 15831,\n",
       " 15845,\n",
       " 15892,\n",
       " 15898,\n",
       " 15899,\n",
       " 15914,\n",
       " 15921,\n",
       " 15929,\n",
       " 15943,\n",
       " 16014,\n",
       " 16018,\n",
       " 16106,\n",
       " 16128,\n",
       " 16173,\n",
       " 16253,\n",
       " 16299,\n",
       " 16337,\n",
       " 16366,\n",
       " 16372,\n",
       " 16420,\n",
       " 16423,\n",
       " 16435,\n",
       " 16457,\n",
       " 16458,\n",
       " 16464,\n",
       " 16481,\n",
       " 16554,\n",
       " 16577,\n",
       " 16604,\n",
       " 16620,\n",
       " 16651,\n",
       " 16720,\n",
       " 16837,\n",
       " 16941,\n",
       " 16949,\n",
       " 16960,\n",
       " 17006,\n",
       " 17023,\n",
       " 17031,\n",
       " 17067,\n",
       " 17091,\n",
       " 17103,\n",
       " 17128,\n",
       " 17158,\n",
       " 17167,\n",
       " 17170,\n",
       " 17176,\n",
       " 17211,\n",
       " 17262,\n",
       " 17293,\n",
       " 17321,\n",
       " 17404,\n",
       " 17409,\n",
       " 17438,\n",
       " 17439,\n",
       " 17473,\n",
       " 17487,\n",
       " 17535,\n",
       " 17577,\n",
       " 17610,\n",
       " 17611,\n",
       " 17616,\n",
       " 17683,\n",
       " 17699,\n",
       " 17712,\n",
       " 17740,\n",
       " 17766,\n",
       " 17818,\n",
       " 17889,\n",
       " 17959,\n",
       " 17968,\n",
       " 17988,\n",
       " 18037,\n",
       " 18038,\n",
       " 18047,\n",
       " 18068,\n",
       " 18071,\n",
       " 18092,\n",
       " 18115,\n",
       " 18128,\n",
       " 18165,\n",
       " 18180,\n",
       " 18192,\n",
       " 18200,\n",
       " 18216,\n",
       " 18219,\n",
       " 18257,\n",
       " 18262,\n",
       " 18273,\n",
       " 18275,\n",
       " 18285,\n",
       " 18334,\n",
       " 18336,\n",
       " 18350,\n",
       " 18360,\n",
       " 18376,\n",
       " 18386,\n",
       " 18428,\n",
       " 18432,\n",
       " 18451,\n",
       " 18457,\n",
       " 18481,\n",
       " 18522,\n",
       " 18528,\n",
       " 18534,\n",
       " 18540,\n",
       " 18556,\n",
       " 18572,\n",
       " 18580,\n",
       " 18585,\n",
       " 18604,\n",
       " 18644,\n",
       " 18649,\n",
       " 18658,\n",
       " 18665,\n",
       " 18677,\n",
       " 18679,\n",
       " 18691,\n",
       " 18692,\n",
       " 18723,\n",
       " 18726,\n",
       " 18729,\n",
       " 18747,\n",
       " 18798,\n",
       " 18810,\n",
       " 18811,\n",
       " 18842,\n",
       " 18845,\n",
       " 18864,\n",
       " 19014,\n",
       " 19049,\n",
       " 19061,\n",
       " 19123,\n",
       " 19129,\n",
       " 19135,\n",
       " 19143,\n",
       " 19173,\n",
       " 19182,\n",
       " 19184,\n",
       " 19187,\n",
       " 19198,\n",
       " 19202,\n",
       " 19230,\n",
       " 19255,\n",
       " 19275,\n",
       " 19289,\n",
       " 19292,\n",
       " 19334,\n",
       " 19394,\n",
       " 19401,\n",
       " 19412,\n",
       " 19422,\n",
       " 19472,\n",
       " 19492,\n",
       " 19518,\n",
       " 19522,\n",
       " 19538,\n",
       " 19543,\n",
       " 19580,\n",
       " 19584,\n",
       " 19598,\n",
       " 19619,\n",
       " 19625,\n",
       " 19648,\n",
       " 19649,\n",
       " 19672,\n",
       " 19715,\n",
       " 19733,\n",
       " 19745,\n",
       " 19760,\n",
       " 19768,\n",
       " 19776,\n",
       " 19808,\n",
       " 19841,\n",
       " 19874,\n",
       " 19899,\n",
       " 19912,\n",
       " 19916,\n",
       " 19958,\n",
       " 19973,\n",
       " 20002,\n",
       " 20011,\n",
       " 20048,\n",
       " 20097,\n",
       " 20125,\n",
       " 20141,\n",
       " 20146,\n",
       " 20148,\n",
       " 20176,\n",
       " 20177,\n",
       " 20199,\n",
       " 20241,\n",
       " 20258,\n",
       " 20296,\n",
       " 20299,\n",
       " 20301,\n",
       " 20353,\n",
       " 20356,\n",
       " 20385,\n",
       " 20390,\n",
       " 20451,\n",
       " 20452,\n",
       " 20459,\n",
       " 20466,\n",
       " 20468,\n",
       " 20482,\n",
       " 20504,\n",
       " 20509,\n",
       " 20530,\n",
       " 20575,\n",
       " 20586,\n",
       " 20597,\n",
       " 20603,\n",
       " 20622,\n",
       " 20695,\n",
       " 20699,\n",
       " 20731,\n",
       " 20733,\n",
       " 20779,\n",
       " 20787,\n",
       " 20790,\n",
       " 20798,\n",
       " 20813,\n",
       " 20814,\n",
       " 20889,\n",
       " 20897,\n",
       " 20915,\n",
       " 21004,\n",
       " 21019,\n",
       " 21029,\n",
       " 21040,\n",
       " 21078,\n",
       " 21084,\n",
       " 21093,\n",
       " 21128,\n",
       " 21137,\n",
       " 21159,\n",
       " 21161,\n",
       " 21169,\n",
       " 21177,\n",
       " 21191,\n",
       " 21211,\n",
       " 21214,\n",
       " 21236,\n",
       " 21282,\n",
       " 21284,\n",
       " 21296,\n",
       " 21302,\n",
       " 21324,\n",
       " 21346,\n",
       " 21356,\n",
       " 21529,\n",
       " 21578,\n",
       " 21604,\n",
       " 21611,\n",
       " 21618,\n",
       " 21648,\n",
       " 21683,\n",
       " 21704,\n",
       " 21790,\n",
       " 21798,\n",
       " 21812,\n",
       " 21825,\n",
       " 21833,\n",
       " 21873,\n",
       " 21878,\n",
       " 21910,\n",
       " 21921,\n",
       " 21939,\n",
       " 21947,\n",
       " 21974,\n",
       " 21990,\n",
       " 22006,\n",
       " 22009,\n",
       " 22010,\n",
       " 22042,\n",
       " 22046,\n",
       " 22062,\n",
       " 22069,\n",
       " 22091,\n",
       " 22097,\n",
       " 22133,\n",
       " 22158,\n",
       " 22164,\n",
       " 22196,\n",
       " 22213,\n",
       " 22233,\n",
       " 22250,\n",
       " 22342,\n",
       " 22365,\n",
       " 22368,\n",
       " 22421,\n",
       " 22439,\n",
       " 22447,\n",
       " 22511,\n",
       " 22546,\n",
       " 22570,\n",
       " 22594,\n",
       " 22599,\n",
       " 22651,\n",
       " 22729,\n",
       " 22761,\n",
       " 22784,\n",
       " 22787,\n",
       " 22819,\n",
       " 22821,\n",
       " 22855,\n",
       " 22859,\n",
       " 22879,\n",
       " 22880,\n",
       " 22896,\n",
       " 22906,\n",
       " 22921,\n",
       " 22930,\n",
       " 22939,\n",
       " 22948,\n",
       " 22971,\n",
       " 22990,\n",
       " 22996,\n",
       " 23008,\n",
       " 23009,\n",
       " 23042,\n",
       " 23045,\n",
       " 23105,\n",
       " 23162,\n",
       " 23165,\n",
       " 23183,\n",
       " 23190,\n",
       " 23210,\n",
       " 23232,\n",
       " 23264,\n",
       " 23290,\n",
       " 23310,\n",
       " 23326,\n",
       " 23340,\n",
       " 23357,\n",
       " 23388,\n",
       " 23397,\n",
       " 23404,\n",
       " 23412,\n",
       " 23427,\n",
       " 23448,\n",
       " 23465,\n",
       " 23487,\n",
       " 23585,\n",
       " 23596,\n",
       " 23621,\n",
       " 23640,\n",
       " 23642,\n",
       " 23683,\n",
       " 23711,\n",
       " 23784,\n",
       " 23804,\n",
       " 23806,\n",
       " 23808,\n",
       " 23816,\n",
       " 23823,\n",
       " 23862,\n",
       " 23863,\n",
       " 23878,\n",
       " 23879,\n",
       " 23880,\n",
       " 23909,\n",
       " 23920,\n",
       " 23921,\n",
       " 23922,\n",
       " 23931,\n",
       " 23967,\n",
       " 24003,\n",
       " 24014,\n",
       " 24015,\n",
       " 24020,\n",
       " 24036,\n",
       " 24040,\n",
       " 24044,\n",
       " 24046,\n",
       " 24049,\n",
       " 24076,\n",
       " 24079,\n",
       " 24130,\n",
       " 24139,\n",
       " 24210,\n",
       " 24217,\n",
       " 24243,\n",
       " 24295,\n",
       " 24301,\n",
       " 24329,\n",
       " 24387,\n",
       " 24424,\n",
       " 24441,\n",
       " 24449,\n",
       " 24474,\n",
       " 24507,\n",
       " 24512,\n",
       " 24518,\n",
       " 24524,\n",
       " 24535,\n",
       " 24536,\n",
       " 24558,\n",
       " 24575,\n",
       " 24611,\n",
       " 24620,\n",
       " 24640,\n",
       " 24643,\n",
       " 24648,\n",
       " 24695,\n",
       " 24700,\n",
       " ...]"
      ]
     },
     "execution_count": 42,
     "metadata": {},
     "output_type": "execute_result"
    }
   ],
   "source": [
    "flatList"
   ]
  },
  {
   "cell_type": "code",
   "execution_count": 43,
   "metadata": {},
   "outputs": [],
   "source": [
    "df = df.drop(flatList);"
   ]
  },
  {
   "cell_type": "markdown",
   "metadata": {},
   "source": [
    "# Phase 2"
   ]
  },
  {
   "cell_type": "markdown",
   "metadata": {},
   "source": [
    "Course-: CSE 587 DATA INTENSIVE COMPUTING"
   ]
  },
  {
   "cell_type": "markdown",
   "metadata": {},
   "source": [
    "The issue we are trying to address is to predict the hotel room prices in NYC based on various features like the neighborhood group, room type, longitude, number of reviews, and others. Since there is no convenient platform as of now for the customers to check hotel prices in the entire city based on the specific requirements such as calculated host listings count and its availability around the year, this model would provide a platform to the customers to book hotel rooms based on their desideratum."
   ]
  },
  {
   "cell_type": "markdown",
   "metadata": {},
   "source": [
    "After getting our cleaned data we have selected the columns on which we want to build our model. We have checked for outliers and performed various other operations on the data to get it cleaned.The next step is to perform EDA(Exploratory Data Analysis) in order to derive insights from my data."
   ]
  },
  {
   "cell_type": "code",
   "execution_count": 44,
   "metadata": {},
   "outputs": [
    {
     "data": {
      "text/html": [
       "<div>\n",
       "<style scoped>\n",
       "    .dataframe tbody tr th:only-of-type {\n",
       "        vertical-align: middle;\n",
       "    }\n",
       "\n",
       "    .dataframe tbody tr th {\n",
       "        vertical-align: top;\n",
       "    }\n",
       "\n",
       "    .dataframe thead th {\n",
       "        text-align: right;\n",
       "    }\n",
       "</style>\n",
       "<table border=\"1\" class=\"dataframe\">\n",
       "  <thead>\n",
       "    <tr style=\"text-align: right;\">\n",
       "      <th></th>\n",
       "      <th>neighbourhood_group</th>\n",
       "      <th>longitude</th>\n",
       "      <th>room_type</th>\n",
       "      <th>price</th>\n",
       "      <th>minimum_nights</th>\n",
       "      <th>number_of_reviews</th>\n",
       "      <th>reviews_per_month</th>\n",
       "      <th>availability_365</th>\n",
       "    </tr>\n",
       "  </thead>\n",
       "  <tbody>\n",
       "    <tr>\n",
       "      <th>0</th>\n",
       "      <td>0</td>\n",
       "      <td>-73.90926</td>\n",
       "      <td>0</td>\n",
       "      <td>120</td>\n",
       "      <td>3</td>\n",
       "      <td>29</td>\n",
       "      <td>0.55</td>\n",
       "      <td>0</td>\n",
       "    </tr>\n",
       "    <tr>\n",
       "      <th>1</th>\n",
       "      <td>1</td>\n",
       "      <td>-73.94981</td>\n",
       "      <td>1</td>\n",
       "      <td>90</td>\n",
       "      <td>1</td>\n",
       "      <td>7</td>\n",
       "      <td>0.19</td>\n",
       "      <td>0</td>\n",
       "    </tr>\n",
       "    <tr>\n",
       "      <th>2</th>\n",
       "      <td>1</td>\n",
       "      <td>-73.97786</td>\n",
       "      <td>1</td>\n",
       "      <td>40</td>\n",
       "      <td>3</td>\n",
       "      <td>2</td>\n",
       "      <td>0.06</td>\n",
       "      <td>0</td>\n",
       "    </tr>\n",
       "    <tr>\n",
       "      <th>3</th>\n",
       "      <td>2</td>\n",
       "      <td>-73.95426</td>\n",
       "      <td>1</td>\n",
       "      <td>40</td>\n",
       "      <td>7</td>\n",
       "      <td>1</td>\n",
       "      <td>0.03</td>\n",
       "      <td>0</td>\n",
       "    </tr>\n",
       "    <tr>\n",
       "      <th>5</th>\n",
       "      <td>1</td>\n",
       "      <td>-73.95903</td>\n",
       "      <td>1</td>\n",
       "      <td>62</td>\n",
       "      <td>4</td>\n",
       "      <td>12</td>\n",
       "      <td>0.24</td>\n",
       "      <td>0</td>\n",
       "    </tr>\n",
       "  </tbody>\n",
       "</table>\n",
       "</div>"
      ],
      "text/plain": [
       "   neighbourhood_group  longitude  room_type  price  minimum_nights  \\\n",
       "0                    0  -73.90926          0    120               3   \n",
       "1                    1  -73.94981          1     90               1   \n",
       "2                    1  -73.97786          1     40               3   \n",
       "3                    2  -73.95426          1     40               7   \n",
       "5                    1  -73.95903          1     62               4   \n",
       "\n",
       "   number_of_reviews  reviews_per_month  availability_365  \n",
       "0                 29               0.55                 0  \n",
       "1                  7               0.19                 0  \n",
       "2                  2               0.06                 0  \n",
       "3                  1               0.03                 0  \n",
       "5                 12               0.24                 0  "
      ]
     },
     "execution_count": 44,
     "metadata": {},
     "output_type": "execute_result"
    }
   ],
   "source": [
    "#This is our final data after cleaning process.\n",
    "df.head() "
   ]
  },
  {
   "cell_type": "code",
   "execution_count": 45,
   "metadata": {},
   "outputs": [
    {
     "name": "stdout",
     "output_type": "stream",
     "text": [
      "<class 'pandas.core.frame.DataFrame'>\n",
      "Int64Index: 44501 entries, 0 to 46870\n",
      "Data columns (total 8 columns):\n",
      " #   Column               Non-Null Count  Dtype  \n",
      "---  ------               --------------  -----  \n",
      " 0   neighbourhood_group  44501 non-null  int64  \n",
      " 1   longitude            44501 non-null  float64\n",
      " 2   room_type            44501 non-null  int64  \n",
      " 3   price                44501 non-null  int64  \n",
      " 4   minimum_nights       44501 non-null  int64  \n",
      " 5   number_of_reviews    44501 non-null  int64  \n",
      " 6   reviews_per_month    44501 non-null  float64\n",
      " 7   availability_365     44501 non-null  int64  \n",
      "dtypes: float64(2), int64(6)\n",
      "memory usage: 3.1 MB\n"
     ]
    }
   ],
   "source": [
    "df.info()"
   ]
  },
  {
   "cell_type": "code",
   "execution_count": 46,
   "metadata": {},
   "outputs": [
    {
     "data": {
      "text/html": [
       "<div>\n",
       "<style scoped>\n",
       "    .dataframe tbody tr th:only-of-type {\n",
       "        vertical-align: middle;\n",
       "    }\n",
       "\n",
       "    .dataframe tbody tr th {\n",
       "        vertical-align: top;\n",
       "    }\n",
       "\n",
       "    .dataframe thead th {\n",
       "        text-align: right;\n",
       "    }\n",
       "</style>\n",
       "<table border=\"1\" class=\"dataframe\">\n",
       "  <thead>\n",
       "    <tr style=\"text-align: right;\">\n",
       "      <th></th>\n",
       "      <th>neighbourhood_group</th>\n",
       "      <th>longitude</th>\n",
       "      <th>room_type</th>\n",
       "      <th>price</th>\n",
       "      <th>minimum_nights</th>\n",
       "      <th>number_of_reviews</th>\n",
       "      <th>reviews_per_month</th>\n",
       "      <th>availability_365</th>\n",
       "    </tr>\n",
       "  </thead>\n",
       "  <tbody>\n",
       "    <tr>\n",
       "      <th>neighbourhood_group</th>\n",
       "      <td>1.000000</td>\n",
       "      <td>-0.563231</td>\n",
       "      <td>-0.107161</td>\n",
       "      <td>0.232157</td>\n",
       "      <td>0.052933</td>\n",
       "      <td>-0.031481</td>\n",
       "      <td>-0.064273</td>\n",
       "      <td>-0.005642</td>\n",
       "    </tr>\n",
       "    <tr>\n",
       "      <th>longitude</th>\n",
       "      <td>-0.563231</td>\n",
       "      <td>1.000000</td>\n",
       "      <td>0.171260</td>\n",
       "      <td>-0.303324</td>\n",
       "      <td>-0.066926</td>\n",
       "      <td>0.051512</td>\n",
       "      <td>0.137208</td>\n",
       "      <td>0.091748</td>\n",
       "    </tr>\n",
       "    <tr>\n",
       "      <th>room_type</th>\n",
       "      <td>-0.107161</td>\n",
       "      <td>0.171260</td>\n",
       "      <td>1.000000</td>\n",
       "      <td>-0.597218</td>\n",
       "      <td>-0.075224</td>\n",
       "      <td>-0.005166</td>\n",
       "      <td>0.023471</td>\n",
       "      <td>0.037959</td>\n",
       "    </tr>\n",
       "    <tr>\n",
       "      <th>price</th>\n",
       "      <td>0.232157</td>\n",
       "      <td>-0.303324</td>\n",
       "      <td>-0.597218</td>\n",
       "      <td>1.000000</td>\n",
       "      <td>0.029783</td>\n",
       "      <td>-0.034959</td>\n",
       "      <td>-0.050841</td>\n",
       "      <td>0.069994</td>\n",
       "    </tr>\n",
       "    <tr>\n",
       "      <th>minimum_nights</th>\n",
       "      <td>0.052933</td>\n",
       "      <td>-0.066926</td>\n",
       "      <td>-0.075224</td>\n",
       "      <td>0.029783</td>\n",
       "      <td>1.000000</td>\n",
       "      <td>-0.089382</td>\n",
       "      <td>-0.138141</td>\n",
       "      <td>0.147836</td>\n",
       "    </tr>\n",
       "    <tr>\n",
       "      <th>number_of_reviews</th>\n",
       "      <td>-0.031481</td>\n",
       "      <td>0.051512</td>\n",
       "      <td>-0.005166</td>\n",
       "      <td>-0.034959</td>\n",
       "      <td>-0.089382</td>\n",
       "      <td>1.000000</td>\n",
       "      <td>0.588649</td>\n",
       "      <td>0.174494</td>\n",
       "    </tr>\n",
       "    <tr>\n",
       "      <th>reviews_per_month</th>\n",
       "      <td>-0.064273</td>\n",
       "      <td>0.137208</td>\n",
       "      <td>0.023471</td>\n",
       "      <td>-0.050841</td>\n",
       "      <td>-0.138141</td>\n",
       "      <td>0.588649</td>\n",
       "      <td>1.000000</td>\n",
       "      <td>0.158974</td>\n",
       "    </tr>\n",
       "    <tr>\n",
       "      <th>availability_365</th>\n",
       "      <td>-0.005642</td>\n",
       "      <td>0.091748</td>\n",
       "      <td>0.037959</td>\n",
       "      <td>0.069994</td>\n",
       "      <td>0.147836</td>\n",
       "      <td>0.174494</td>\n",
       "      <td>0.158974</td>\n",
       "      <td>1.000000</td>\n",
       "    </tr>\n",
       "  </tbody>\n",
       "</table>\n",
       "</div>"
      ],
      "text/plain": [
       "                     neighbourhood_group  longitude  room_type     price  \\\n",
       "neighbourhood_group             1.000000  -0.563231  -0.107161  0.232157   \n",
       "longitude                      -0.563231   1.000000   0.171260 -0.303324   \n",
       "room_type                      -0.107161   0.171260   1.000000 -0.597218   \n",
       "price                           0.232157  -0.303324  -0.597218  1.000000   \n",
       "minimum_nights                  0.052933  -0.066926  -0.075224  0.029783   \n",
       "number_of_reviews              -0.031481   0.051512  -0.005166 -0.034959   \n",
       "reviews_per_month              -0.064273   0.137208   0.023471 -0.050841   \n",
       "availability_365               -0.005642   0.091748   0.037959  0.069994   \n",
       "\n",
       "                     minimum_nights  number_of_reviews  reviews_per_month  \\\n",
       "neighbourhood_group        0.052933          -0.031481          -0.064273   \n",
       "longitude                 -0.066926           0.051512           0.137208   \n",
       "room_type                 -0.075224          -0.005166           0.023471   \n",
       "price                      0.029783          -0.034959          -0.050841   \n",
       "minimum_nights             1.000000          -0.089382          -0.138141   \n",
       "number_of_reviews         -0.089382           1.000000           0.588649   \n",
       "reviews_per_month         -0.138141           0.588649           1.000000   \n",
       "availability_365           0.147836           0.174494           0.158974   \n",
       "\n",
       "                     availability_365  \n",
       "neighbourhood_group         -0.005642  \n",
       "longitude                    0.091748  \n",
       "room_type                    0.037959  \n",
       "price                        0.069994  \n",
       "minimum_nights               0.147836  \n",
       "number_of_reviews            0.174494  \n",
       "reviews_per_month            0.158974  \n",
       "availability_365             1.000000  "
      ]
     },
     "execution_count": 46,
     "metadata": {},
     "output_type": "execute_result"
    }
   ],
   "source": [
    "#phase2\n",
    "#operation1\n",
    "c1=df.corr()\n",
    "c1"
   ]
  },
  {
   "cell_type": "code",
   "execution_count": 47,
   "metadata": {},
   "outputs": [
    {
     "data": {
      "text/plain": [
       "<matplotlib.axes._subplots.AxesSubplot at 0x204490b79a0>"
      ]
     },
     "execution_count": 47,
     "metadata": {},
     "output_type": "execute_result"
    },
    {
     "data": {
      "image/png": "[encoded data removed]",
      "text/plain": [
       "<Figure size 432x288 with 2 Axes>"
      ]
     },
     "metadata": {
      "needs_background": "light"
     },
     "output_type": "display_data"
    }
   ],
   "source": [
    "sns.heatmap(c1,annot=True,cmap=\"coolwarm\",linewidth=5)"
   ]
  },
  {
   "cell_type": "markdown",
   "metadata": {},
   "source": [
    "This heatmap gives us correlation values between every column of my dataset. If the value is very close to -1 or 1 we need to remove one of the column of the two correlated cloumns(other than target variable 'price'). If we have highly correlated data then my linear regression (which I am planning to do) will have incorrect values in coefficients. If correlation value is near to 0 then we have un-correlated data which is desired for features other than target variable. Here, we do not have highly correlated data other han correlation with 'price'. So all columns will be considered for model building."
   ]
  },
  {
   "cell_type": "code",
   "execution_count": 48,
   "metadata": {},
   "outputs": [
    {
     "data": {
      "text/plain": [
       "<matplotlib.axes._subplots.AxesSubplot at 0x20449defd60>"
      ]
     },
     "execution_count": 48,
     "metadata": {},
     "output_type": "execute_result"
    },
    {
     "data": {
      "image/png": "[encoded data removed]",
      "text/plain": [
       "<Figure size 432x288 with 1 Axes>"
      ]
     },
     "metadata": {
      "needs_background": "light"
     },
     "output_type": "display_data"
    }
   ],
   "source": [
    "#phase2\n",
    "#operation2\n",
    "sns.distplot(df['price'],bins=100,kde=False)"
   ]
  },
  {
   "cell_type": "markdown",
   "metadata": {},
   "source": [
    "The analysis on price is very important(this will be my Y value in linear regression or \"what i am trying to predict\"). Using a distplot to draw insight that most of my price value lie in the range of 100$. Only a few of the data lies beyond 200. Customers can get insights of the price they need to pay for staying at a hotel in NYC."
   ]
  },
  {
   "cell_type": "code",
   "execution_count": 49,
   "metadata": {},
   "outputs": [
    {
     "data": {
      "text/plain": [
       "<matplotlib.axes._subplots.AxesSubplot at 0x20449f48070>"
      ]
     },
     "execution_count": 49,
     "metadata": {},
     "output_type": "execute_result"
    },
    {
     "data": {
      "image/png": "[encoded data removed]",
      "text/plain": [
       "<Figure size 432x288 with 1 Axes>"
      ]
     },
     "metadata": {
      "needs_background": "light"
     },
     "output_type": "display_data"
    }
   ],
   "source": [
    "#phase2\n",
    "#operation3\n",
    "sns.barplot(x='room_type',y='price',data=df,estimator=np.mean)"
   ]
  },
  {
   "cell_type": "markdown",
   "metadata": {},
   "source": [
    "\"Entire home/apt\": 0, \"Private room\": 1, \"Shared room\":2.\n",
    "Using this barplot we can derive insights on the room_type feature.The Y axis has the mean price and X axis has the room types. We can see that Entire home/apt/villa are costlier that Private and shared rooms which is how it should be. "
   ]
  },
  {
   "cell_type": "code",
   "execution_count": 50,
   "metadata": {},
   "outputs": [
    {
     "data": {
      "text/plain": [
       "<matplotlib.axes._subplots.AxesSubplot at 0x20449df60a0>"
      ]
     },
     "execution_count": 50,
     "metadata": {},
     "output_type": "execute_result"
    },
    {
     "data": {
      "image/png": "[encoded data removed]",
      "text/plain": [
       "<Figure size 432x288 with 1 Axes>"
      ]
     },
     "metadata": {
      "needs_background": "light"
     },
     "output_type": "display_data"
    }
   ],
   "source": [
    "#phase2\n",
    "#operation4\n",
    "sns.barplot(data=df,x='neighbourhood_group',y='price',estimator=np.mean)"
   ]
  },
  {
   "cell_type": "markdown",
   "metadata": {},
   "source": [
    "\"Queens\": 0, \"Brooklyn\": 1, \"Manhattan\":2, \"Bronx\": 3, \"Staten Island\":4. Using this barplot we can derive insights on the neightbourhood_group feature.The Y axis has the mean price and X axis has the neighbourhood_groups. We can see that Manhattan is the costliest neighbourhood group. All others lie in the same range. Therefore, price for a hotel in Manhattan will be costlier than other areas of NYC."
   ]
  },
  {
   "cell_type": "code",
   "execution_count": 51,
   "metadata": {},
   "outputs": [
    {
     "data": {
      "text/plain": [
       "<seaborn.axisgrid.FacetGrid at 0x2044a0264c0>"
      ]
     },
     "execution_count": 51,
     "metadata": {},
     "output_type": "execute_result"
    },
    {
     "data": {
      "image/png": "[encoded data removed]",
      "text/plain": [
       "<Figure size 360x360 with 1 Axes>"
      ]
     },
     "metadata": {
      "needs_background": "light"
     },
     "output_type": "display_data"
    }
   ],
   "source": [
    "#phase2\n",
    "#operation5\n",
    "sns.lmplot(data=df,x='availability_365',y='price',line_kws={'color': 'red'})"
   ]
  },
  {
   "cell_type": "markdown",
   "metadata": {},
   "source": [
    "This graph gives us a scatter plot along with a regression line(which is has a positive slope). From this we draw insights that if the availability is high the prices also go high. This seems to be a abnormality but this could be due to many factors. If hotel availability is high then we can conclude that prices are also high because hotels are trying to maximize profit by keeping prices high."
   ]
  },
  {
   "cell_type": "code",
   "execution_count": 52,
   "metadata": {},
   "outputs": [
    {
     "data": {
      "text/plain": [
       "<seaborn.axisgrid.FacetGrid at 0x2044a092040>"
      ]
     },
     "execution_count": 52,
     "metadata": {},
     "output_type": "execute_result"
    },
    {
     "data": {
      "image/png": "[encoded data removed]",
      "text/plain": [
       "<Figure size 360x360 with 1 Axes>"
      ]
     },
     "metadata": {
      "needs_background": "light"
     },
     "output_type": "display_data"
    }
   ],
   "source": [
    "#phase2\n",
    "#operation6\n",
    "sns.lmplot(data=df,x='number_of_reviews',y='price',line_kws={'color': 'black'})"
   ]
  },
  {
   "cell_type": "markdown",
   "metadata": {},
   "source": [
    "This graph gives us a scatter plot along with a regression line(which is has a negative slope). From this we draw insights that if the number_of_reviews is high the prices go down slightly.This seems to be valid as more and people review the hotels might provide discounts and prices may go down but not much."
   ]
  },
  {
   "cell_type": "code",
   "execution_count": 53,
   "metadata": {},
   "outputs": [
    {
     "data": {
      "text/plain": [
       "<seaborn.axisgrid.FacetGrid at 0x2044a0b6e80>"
      ]
     },
     "execution_count": 53,
     "metadata": {},
     "output_type": "execute_result"
    },
    {
     "data": {
      "image/png": "[encoded data removed]",
      "text/plain": [
       "<Figure size 360x360 with 1 Axes>"
      ]
     },
     "metadata": {
      "needs_background": "light"
     },
     "output_type": "display_data"
    }
   ],
   "source": [
    "#phase2\n",
    "#operation7\n",
    "sns.lmplot(data=df,x='minimum_nights',y='price',line_kws={'color': 'grey'})"
   ]
  },
  {
   "cell_type": "markdown",
   "metadata": {},
   "source": [
    "This graph gives us a scatter plot along with a regression line(which is has a positive slope). From this we draw insights that if the customer is satying for longer durations then the prices go up slightly.This seems to be valid as longer duration stays can be costlier."
   ]
  },
  {
   "cell_type": "code",
   "execution_count": 54,
   "metadata": {},
   "outputs": [
    {
     "data": {
      "text/plain": [
       "<matplotlib.axes._subplots.AxesSubplot at 0x20449f43880>"
      ]
     },
     "execution_count": 54,
     "metadata": {},
     "output_type": "execute_result"
    },
    {
     "data": {
      "image/png": "[encoded data removed]",
      "text/plain": [
       "<Figure size 432x288 with 1 Axes>"
      ]
     },
     "metadata": {
      "needs_background": "light"
     },
     "output_type": "display_data"
    }
   ],
   "source": [
    "#phase2\n",
    "#operation8\n",
    "sns.scatterplot(data=df,x='longitude',y='price')"
   ]
  },
  {
   "cell_type": "markdown",
   "metadata": {},
   "source": [
    "This graph gives us a scatter plot of longitudes vs price. We can see that costliest rooms are available when longitude is between -74 and -73.9. This area has the costliest places to stay. If you check the longitude of Manhattan it is -73.97 and Brooklyn has -73.94. We conclude that costliest hotels lie in Manhattan and Brooklyn."
   ]
  },
  {
   "cell_type": "code",
   "execution_count": 55,
   "metadata": {},
   "outputs": [
    {
     "data": {
      "text/plain": [
       "<matplotlib.axes._subplots.AxesSubplot at 0x2044a2ed370>"
      ]
     },
     "execution_count": 55,
     "metadata": {},
     "output_type": "execute_result"
    },
    {
     "data": {
      "image/png": "[encoded data removed]",
      "text/plain": [
       "<Figure size 432x288 with 1 Axes>"
      ]
     },
     "metadata": {
      "needs_background": "light"
     },
     "output_type": "display_data"
    }
   ],
   "source": [
    "#phase2\n",
    "#operation9\n",
    "sns.countplot(df['room_type'])"
   ]
  },
  {
   "cell_type": "markdown",
   "metadata": {},
   "source": [
    "Entire home/apt\": 0, \"Private room\": 1, \"Shared room\":2. From this we can see that there are very few rows with 'Shared Type' in 'room_type'. If this would have been a classification problem with target variable as 'room type' then my data would be an unbalanced datset and we could use upsampling and downsampling to correct the data. But since this 'room_type' in my dataset is just a feature and not the target variable we can still go ahead with this dataset. This also gives us an insight that not many hotels which provide shared rooms are available."
   ]
  },
  {
   "cell_type": "code",
   "execution_count": 56,
   "metadata": {},
   "outputs": [
    {
     "data": {
      "image/png": "[encoded data removed]",
      "text/plain": [
       "<Figure size 432x432 with 1 Axes>"
      ]
     },
     "metadata": {},
     "output_type": "display_data"
    }
   ],
   "source": [
    "#phase2\n",
    "#operation10\n",
    "df.neighbourhood_group.value_counts(normalize=True)\n",
    "\n",
    "#plot the pie chart of neighbourhood_group categories\n",
    "df.neighbourhood_group.value_counts(normalize=True).plot.pie(figsize=(6,6),legend=True)\n",
    "plt.show()"
   ]
  },
  {
   "cell_type": "markdown",
   "metadata": {},
   "source": [
    "\"Queens\": 0, \"Brooklyn\": 1, \"Manhattan\":2, \"Bronx\": 3, \"Staten Island\":4. From this we can see that there are very few rows with 'Bronx' and 'Staten Island' in 'Neighbourhood_group' feature. We can conclude that the number of hotels in 'Bronx' and 'Staten Island' are fewer as compared to 'Manhattan','Brooklyn' and 'Queens'. Hotels are mainly located in 'Manhattan' or 'Brooklyn'."
   ]
  },
  {
   "cell_type": "code",
   "execution_count": 57,
   "metadata": {},
   "outputs": [
    {
     "data": {
      "text/plain": [
       "<matplotlib.axes._subplots.AxesSubplot at 0x2044a220eb0>"
      ]
     },
     "execution_count": 57,
     "metadata": {},
     "output_type": "execute_result"
    },
    {
     "data": {
      "image/png": "[encoded data removed]",
      "text/plain": [
       "<Figure size 1440x720 with 1 Axes>"
      ]
     },
     "metadata": {
      "needs_background": "light"
     },
     "output_type": "display_data"
    }
   ],
   "source": [
    "#phase2\n",
    "#operation11\n",
    "plt.figure(figsize=(20,10))\n",
    "sns.boxplot(x='room_type',y='price',data=df,hue='neighbourhood_group')"
   ]
  },
  {
   "cell_type": "markdown",
   "metadata": {},
   "source": [
    "This is a box plot which gives us information about the median price and inter-quartile range of the different types of rooms as well as the neighbourhood grops they are in. We can see that the median price for Neighbour hood 2 ('Manhattan) is greater as compared to other neighbourhoods of NYC. We can also see that the median price for room type 0 (Entire home/apt) is greater than other room types. So Entire 'home/ apt' in 'Manhattan' will most likely be a costly deal."
   ]
  },
  {
   "cell_type": "code",
   "execution_count": 58,
   "metadata": {},
   "outputs": [
    {
     "data": {
      "text/plain": [
       "<matplotlib.axes._subplots.AxesSubplot at 0x2044a3f0b50>"
      ]
     },
     "execution_count": 58,
     "metadata": {},
     "output_type": "execute_result"
    },
    {
     "data": {
      "image/png": "[encoded data removed]",
      "text/plain": [
       "<Figure size 864x576 with 1 Axes>"
      ]
     },
     "metadata": {
      "needs_background": "light"
     },
     "output_type": "display_data"
    }
   ],
   "source": [
    "#phase2\n",
    "#operation12\n",
    "plt.figure(figsize=(12, 8))\n",
    "sns.barplot(df['neighbourhood_group'], df['price'], hue=df['room_type'], ci=None)"
   ]
  },
  {
   "cell_type": "markdown",
   "metadata": {},
   "source": [
    "This is a bar plot which gives us information about the mean price of the different types of rooms as well as the neighbourhood grops they are in. We can see that the mean price for Neighbour hood 2 ('Manhattan) is greater as compared to other neighbourhoods of NYC. We can also see that the median price for room type 0 (Entire home/apt) is greater than other room types. So Entire 'home/ apt' in 'Manhattan' will most likely be a costly deal."
   ]
  },
  {
   "cell_type": "markdown",
   "metadata": {},
   "source": [
    "## Phase 3"
   ]
  },
  {
   "cell_type": "markdown",
   "metadata": {},
   "source": [
    "Course-: CSE 587 DATA INTENSIVE COMPUTING"
   ]
  },
  {
   "cell_type": "markdown",
   "metadata": {},
   "source": [
    "The issue we are trying to address is to predict the hotel room prices in NYC based on various features like the neighborhood group, room type, longitude, number of reviews, and others. Since there is no convenient platform as of now for the customers to check hotel prices in the entire city based on the specific requirements such as calculated host listings count and its availability around the year, this model would provide a platform to the customers to book hotel rooms based on their desideratum."
   ]
  },
  {
   "cell_type": "markdown",
   "metadata": {},
   "source": [
    "After getting our cleaned data we have selected the columns on which we want to build our model. We have checked for outliers and performed various other operations on the data to get it cleaned. We also performed EDA(Exploratory Data Analysis) in order to derive insights from my data. The next step is the model building phase using machine learning algorithmns."
   ]
  },
  {
   "cell_type": "markdown",
   "metadata": {},
   "source": [
    "HEMANT KUMAR DAS 50356421 MAYANK LARA 50351114"
   ]
  },
  {
   "cell_type": "markdown",
   "metadata": {},
   "source": [
    "#### 3 Cleaned Datasets\n",
    "Display the cleaned dataset after phase 1\n"
   ]
  },
  {
   "cell_type": "code",
   "execution_count": 59,
   "metadata": {},
   "outputs": [
    {
     "data": {
      "text/html": [
       "<div>\n",
       "<style scoped>\n",
       "    .dataframe tbody tr th:only-of-type {\n",
       "        vertical-align: middle;\n",
       "    }\n",
       "\n",
       "    .dataframe tbody tr th {\n",
       "        vertical-align: top;\n",
       "    }\n",
       "\n",
       "    .dataframe thead th {\n",
       "        text-align: right;\n",
       "    }\n",
       "</style>\n",
       "<table border=\"1\" class=\"dataframe\">\n",
       "  <thead>\n",
       "    <tr style=\"text-align: right;\">\n",
       "      <th></th>\n",
       "      <th>neighbourhood_group</th>\n",
       "      <th>longitude</th>\n",
       "      <th>room_type</th>\n",
       "      <th>price</th>\n",
       "      <th>minimum_nights</th>\n",
       "      <th>number_of_reviews</th>\n",
       "      <th>reviews_per_month</th>\n",
       "      <th>availability_365</th>\n",
       "    </tr>\n",
       "  </thead>\n",
       "  <tbody>\n",
       "    <tr>\n",
       "      <th>0</th>\n",
       "      <td>0</td>\n",
       "      <td>-73.90926</td>\n",
       "      <td>0</td>\n",
       "      <td>120</td>\n",
       "      <td>3</td>\n",
       "      <td>29</td>\n",
       "      <td>0.55</td>\n",
       "      <td>0</td>\n",
       "    </tr>\n",
       "    <tr>\n",
       "      <th>1</th>\n",
       "      <td>1</td>\n",
       "      <td>-73.94981</td>\n",
       "      <td>1</td>\n",
       "      <td>90</td>\n",
       "      <td>1</td>\n",
       "      <td>7</td>\n",
       "      <td>0.19</td>\n",
       "      <td>0</td>\n",
       "    </tr>\n",
       "    <tr>\n",
       "      <th>2</th>\n",
       "      <td>1</td>\n",
       "      <td>-73.97786</td>\n",
       "      <td>1</td>\n",
       "      <td>40</td>\n",
       "      <td>3</td>\n",
       "      <td>2</td>\n",
       "      <td>0.06</td>\n",
       "      <td>0</td>\n",
       "    </tr>\n",
       "    <tr>\n",
       "      <th>3</th>\n",
       "      <td>2</td>\n",
       "      <td>-73.95426</td>\n",
       "      <td>1</td>\n",
       "      <td>40</td>\n",
       "      <td>7</td>\n",
       "      <td>1</td>\n",
       "      <td>0.03</td>\n",
       "      <td>0</td>\n",
       "    </tr>\n",
       "    <tr>\n",
       "      <th>5</th>\n",
       "      <td>1</td>\n",
       "      <td>-73.95903</td>\n",
       "      <td>1</td>\n",
       "      <td>62</td>\n",
       "      <td>4</td>\n",
       "      <td>12</td>\n",
       "      <td>0.24</td>\n",
       "      <td>0</td>\n",
       "    </tr>\n",
       "  </tbody>\n",
       "</table>\n",
       "</div>"
      ],
      "text/plain": [
       "   neighbourhood_group  longitude  room_type  price  minimum_nights  \\\n",
       "0                    0  -73.90926          0    120               3   \n",
       "1                    1  -73.94981          1     90               1   \n",
       "2                    1  -73.97786          1     40               3   \n",
       "3                    2  -73.95426          1     40               7   \n",
       "5                    1  -73.95903          1     62               4   \n",
       "\n",
       "   number_of_reviews  reviews_per_month  availability_365  \n",
       "0                 29               0.55                 0  \n",
       "1                  7               0.19                 0  \n",
       "2                  2               0.06                 0  \n",
       "3                  1               0.03                 0  \n",
       "5                 12               0.24                 0  "
      ]
     },
     "execution_count": 59,
     "metadata": {},
     "output_type": "execute_result"
    }
   ],
   "source": [
    "df.head()"
   ]
  },
  {
   "cell_type": "markdown",
   "metadata": {},
   "source": [
    "#### 4 Modeling  \n",
    "Please take a look at https://scikit-learn.org/stable/. First of all, understand what is the problem of your research such as classification problem, regression problem, clustering problem...... Then choose your algorithm. For each algorithm, you need to answer the following 5 questions. We give the example answer in section 6. "
   ]
  },
  {
   "cell_type": "code",
   "execution_count": 60,
   "metadata": {},
   "outputs": [],
   "source": [
    "X = df.loc[:, df.columns != 'price']\n",
    "Y = df[['price']]"
   ]
  },
  {
   "cell_type": "code",
   "execution_count": 61,
   "metadata": {},
   "outputs": [],
   "source": [
    "from sklearn.model_selection import train_test_split\n",
    "from sklearn import preprocessing\n",
    "from sklearn import metrics"
   ]
  },
  {
   "cell_type": "code",
   "execution_count": 62,
   "metadata": {},
   "outputs": [],
   "source": [
    "X_train,X_test,Y_train,Y_test=train_test_split(X,Y,test_size=0.2,random_state=1)"
   ]
  },
  {
   "cell_type": "code",
   "execution_count": 63,
   "metadata": {},
   "outputs": [
    {
     "data": {
      "text/html": [
       "<div>\n",
       "<style scoped>\n",
       "    .dataframe tbody tr th:only-of-type {\n",
       "        vertical-align: middle;\n",
       "    }\n",
       "\n",
       "    .dataframe tbody tr th {\n",
       "        vertical-align: top;\n",
       "    }\n",
       "\n",
       "    .dataframe thead th {\n",
       "        text-align: right;\n",
       "    }\n",
       "</style>\n",
       "<table border=\"1\" class=\"dataframe\">\n",
       "  <thead>\n",
       "    <tr style=\"text-align: right;\">\n",
       "      <th></th>\n",
       "      <th>neighbourhood_group</th>\n",
       "      <th>longitude</th>\n",
       "      <th>room_type</th>\n",
       "      <th>minimum_nights</th>\n",
       "      <th>number_of_reviews</th>\n",
       "      <th>reviews_per_month</th>\n",
       "      <th>availability_365</th>\n",
       "    </tr>\n",
       "  </thead>\n",
       "  <tbody>\n",
       "    <tr>\n",
       "      <th>10164</th>\n",
       "      <td>4</td>\n",
       "      <td>-74.07722</td>\n",
       "      <td>1</td>\n",
       "      <td>1</td>\n",
       "      <td>4</td>\n",
       "      <td>0.34</td>\n",
       "      <td>29</td>\n",
       "    </tr>\n",
       "    <tr>\n",
       "      <th>22662</th>\n",
       "      <td>2</td>\n",
       "      <td>-73.96697</td>\n",
       "      <td>1</td>\n",
       "      <td>3</td>\n",
       "      <td>6</td>\n",
       "      <td>0.15</td>\n",
       "      <td>193</td>\n",
       "    </tr>\n",
       "    <tr>\n",
       "      <th>29126</th>\n",
       "      <td>1</td>\n",
       "      <td>-73.94964</td>\n",
       "      <td>0</td>\n",
       "      <td>2</td>\n",
       "      <td>26</td>\n",
       "      <td>2.26</td>\n",
       "      <td>315</td>\n",
       "    </tr>\n",
       "    <tr>\n",
       "      <th>19775</th>\n",
       "      <td>2</td>\n",
       "      <td>-73.99318</td>\n",
       "      <td>0</td>\n",
       "      <td>1</td>\n",
       "      <td>4</td>\n",
       "      <td>4.00</td>\n",
       "      <td>98</td>\n",
       "    </tr>\n",
       "    <tr>\n",
       "      <th>33368</th>\n",
       "      <td>1</td>\n",
       "      <td>-73.94961</td>\n",
       "      <td>1</td>\n",
       "      <td>1</td>\n",
       "      <td>3</td>\n",
       "      <td>3.00</td>\n",
       "      <td>87</td>\n",
       "    </tr>\n",
       "    <tr>\n",
       "      <th>...</th>\n",
       "      <td>...</td>\n",
       "      <td>...</td>\n",
       "      <td>...</td>\n",
       "      <td>...</td>\n",
       "      <td>...</td>\n",
       "      <td>...</td>\n",
       "      <td>...</td>\n",
       "    </tr>\n",
       "    <tr>\n",
       "      <th>46044</th>\n",
       "      <td>1</td>\n",
       "      <td>-73.88179</td>\n",
       "      <td>1</td>\n",
       "      <td>3</td>\n",
       "      <td>0</td>\n",
       "      <td>0.00</td>\n",
       "      <td>23</td>\n",
       "    </tr>\n",
       "    <tr>\n",
       "      <th>33881</th>\n",
       "      <td>1</td>\n",
       "      <td>-73.96493</td>\n",
       "      <td>1</td>\n",
       "      <td>1</td>\n",
       "      <td>75</td>\n",
       "      <td>4.59</td>\n",
       "      <td>81</td>\n",
       "    </tr>\n",
       "    <tr>\n",
       "      <th>5355</th>\n",
       "      <td>2</td>\n",
       "      <td>-74.00206</td>\n",
       "      <td>0</td>\n",
       "      <td>4</td>\n",
       "      <td>6</td>\n",
       "      <td>0.24</td>\n",
       "      <td>0</td>\n",
       "    </tr>\n",
       "    <tr>\n",
       "      <th>12617</th>\n",
       "      <td>2</td>\n",
       "      <td>-73.94585</td>\n",
       "      <td>1</td>\n",
       "      <td>14</td>\n",
       "      <td>2</td>\n",
       "      <td>1.71</td>\n",
       "      <td>0</td>\n",
       "    </tr>\n",
       "    <tr>\n",
       "      <th>34396</th>\n",
       "      <td>0</td>\n",
       "      <td>-73.87088</td>\n",
       "      <td>1</td>\n",
       "      <td>1</td>\n",
       "      <td>417</td>\n",
       "      <td>14.36</td>\n",
       "      <td>338</td>\n",
       "    </tr>\n",
       "  </tbody>\n",
       "</table>\n",
       "<p>35600 rows × 7 columns</p>\n",
       "</div>"
      ],
      "text/plain": [
       "       neighbourhood_group  longitude  room_type  minimum_nights  \\\n",
       "10164                    4  -74.07722          1               1   \n",
       "22662                    2  -73.96697          1               3   \n",
       "29126                    1  -73.94964          0               2   \n",
       "19775                    2  -73.99318          0               1   \n",
       "33368                    1  -73.94961          1               1   \n",
       "...                    ...        ...        ...             ...   \n",
       "46044                    1  -73.88179          1               3   \n",
       "33881                    1  -73.96493          1               1   \n",
       "5355                     2  -74.00206          0               4   \n",
       "12617                    2  -73.94585          1              14   \n",
       "34396                    0  -73.87088          1               1   \n",
       "\n",
       "       number_of_reviews  reviews_per_month  availability_365  \n",
       "10164                  4               0.34                29  \n",
       "22662                  6               0.15               193  \n",
       "29126                 26               2.26               315  \n",
       "19775                  4               4.00                98  \n",
       "33368                  3               3.00                87  \n",
       "...                  ...                ...               ...  \n",
       "46044                  0               0.00                23  \n",
       "33881                 75               4.59                81  \n",
       "5355                   6               0.24                 0  \n",
       "12617                  2               1.71                 0  \n",
       "34396                417              14.36               338  \n",
       "\n",
       "[35600 rows x 7 columns]"
      ]
     },
     "execution_count": 63,
     "metadata": {},
     "output_type": "execute_result"
    }
   ],
   "source": [
    "X_train"
   ]
  },
  {
   "cell_type": "code",
   "execution_count": 64,
   "metadata": {},
   "outputs": [],
   "source": [
    "#Scaling X_train,X_val and X_test between 0 and 1\n",
    "mm_scaler = preprocessing.MinMaxScaler()\n",
    "X_train_minmax = mm_scaler.fit_transform(X_train)\n",
    "X_test_minmax=mm_scaler.transform(X_test)"
   ]
  },
  {
   "cell_type": "markdown",
   "metadata": {},
   "source": [
    "## 4.1"
   ]
  },
  {
   "cell_type": "code",
   "execution_count": 66,
   "metadata": {},
   "outputs": [
    {
     "data": {
      "text/html": [
       "<table class=\"simpletable\">\n",
       "<caption>OLS Regression Results</caption>\n",
       "<tr>\n",
       "  <th>Dep. Variable:</th>          <td>price</td>      <th>  R-squared (uncentered):</th>       <td>   0.819</td>  \n",
       "</tr>\n",
       "<tr>\n",
       "  <th>Model:</th>                   <td>OLS</td>       <th>  Adj. R-squared (uncentered):</th>  <td>   0.819</td>  \n",
       "</tr>\n",
       "<tr>\n",
       "  <th>Method:</th>             <td>Least Squares</td>  <th>  F-statistic:       </th>           <td>2.299e+04</td> \n",
       "</tr>\n",
       "<tr>\n",
       "  <th>Date:</th>             <td>Sat, 10 Apr 2021</td> <th>  Prob (F-statistic):</th>            <td>  0.00</td>   \n",
       "</tr>\n",
       "<tr>\n",
       "  <th>Time:</th>                 <td>12:16:41</td>     <th>  Log-Likelihood:    </th>          <td>-1.9657e+05</td>\n",
       "</tr>\n",
       "<tr>\n",
       "  <th>No. Observations:</th>      <td> 35600</td>      <th>  AIC:               </th>           <td>3.931e+05</td> \n",
       "</tr>\n",
       "<tr>\n",
       "  <th>Df Residuals:</th>          <td> 35593</td>      <th>  BIC:               </th>           <td>3.932e+05</td> \n",
       "</tr>\n",
       "<tr>\n",
       "  <th>Df Model:</th>              <td>     7</td>      <th>                     </th>               <td> </td>     \n",
       "</tr>\n",
       "<tr>\n",
       "  <th>Covariance Type:</th>      <td>nonrobust</td>    <th>                     </th>               <td> </td>     \n",
       "</tr>\n",
       "</table>\n",
       "<table class=\"simpletable\">\n",
       "<tr>\n",
       "   <td></td>     <th>coef</th>     <th>std err</th>      <th>t</th>      <th>P>|t|</th>  <th>[0.025</th>    <th>0.975]</th>  \n",
       "</tr>\n",
       "<tr>\n",
       "  <th>x1</th> <td>  142.2184</td> <td>    1.442</td> <td>   98.647</td> <td> 0.000</td> <td>  139.393</td> <td>  145.044</td>\n",
       "</tr>\n",
       "<tr>\n",
       "  <th>x2</th> <td>  191.0216</td> <td>    1.298</td> <td>  147.171</td> <td> 0.000</td> <td>  188.478</td> <td>  193.566</td>\n",
       "</tr>\n",
       "<tr>\n",
       "  <th>x3</th> <td> -148.7781</td> <td>    1.194</td> <td> -124.578</td> <td> 0.000</td> <td> -151.119</td> <td> -146.437</td>\n",
       "</tr>\n",
       "<tr>\n",
       "  <th>x4</th> <td>  -96.1625</td> <td>   16.811</td> <td>   -5.720</td> <td> 0.000</td> <td> -129.113</td> <td>  -63.212</td>\n",
       "</tr>\n",
       "<tr>\n",
       "  <th>x5</th> <td>  -25.1950</td> <td>    5.441</td> <td>   -4.631</td> <td> 0.000</td> <td>  -35.859</td> <td>  -14.531</td>\n",
       "</tr>\n",
       "<tr>\n",
       "  <th>x6</th> <td>  -71.5825</td> <td>   14.477</td> <td>   -4.945</td> <td> 0.000</td> <td>  -99.958</td> <td>  -43.207</td>\n",
       "</tr>\n",
       "<tr>\n",
       "  <th>x7</th> <td>   24.0004</td> <td>    0.931</td> <td>   25.766</td> <td> 0.000</td> <td>   22.175</td> <td>   25.826</td>\n",
       "</tr>\n",
       "</table>\n",
       "<table class=\"simpletable\">\n",
       "<tr>\n",
       "  <th>Omnibus:</th>       <td>3727.977</td> <th>  Durbin-Watson:     </th> <td>   1.997</td>\n",
       "</tr>\n",
       "<tr>\n",
       "  <th>Prob(Omnibus):</th>  <td> 0.000</td>  <th>  Jarque-Bera (JB):  </th> <td>6419.951</td>\n",
       "</tr>\n",
       "<tr>\n",
       "  <th>Skew:</th>           <td> 0.733</td>  <th>  Prob(JB):          </th> <td>    0.00</td>\n",
       "</tr>\n",
       "<tr>\n",
       "  <th>Kurtosis:</th>       <td> 4.477</td>  <th>  Cond. No.          </th> <td>    42.4</td>\n",
       "</tr>\n",
       "</table><br/><br/>Warnings:<br/>[1] Standard Errors assume that the covariance matrix of the errors is correctly specified."
      ],
      "text/plain": [
       "<class 'statsmodels.iolib.summary.Summary'>\n",
       "\"\"\"\n",
       "                                 OLS Regression Results                                \n",
       "=======================================================================================\n",
       "Dep. Variable:                  price   R-squared (uncentered):                   0.819\n",
       "Model:                            OLS   Adj. R-squared (uncentered):              0.819\n",
       "Method:                 Least Squares   F-statistic:                          2.299e+04\n",
       "Date:                Sat, 10 Apr 2021   Prob (F-statistic):                        0.00\n",
       "Time:                        12:16:41   Log-Likelihood:                     -1.9657e+05\n",
       "No. Observations:               35600   AIC:                                  3.931e+05\n",
       "Df Residuals:                   35593   BIC:                                  3.932e+05\n",
       "Df Model:                           7                                                  \n",
       "Covariance Type:            nonrobust                                                  \n",
       "==============================================================================\n",
       "                 coef    std err          t      P>|t|      [0.025      0.975]\n",
       "------------------------------------------------------------------------------\n",
       "x1           142.2184      1.442     98.647      0.000     139.393     145.044\n",
       "x2           191.0216      1.298    147.171      0.000     188.478     193.566\n",
       "x3          -148.7781      1.194   -124.578      0.000    -151.119    -146.437\n",
       "x4           -96.1625     16.811     -5.720      0.000    -129.113     -63.212\n",
       "x5           -25.1950      5.441     -4.631      0.000     -35.859     -14.531\n",
       "x6           -71.5825     14.477     -4.945      0.000     -99.958     -43.207\n",
       "x7            24.0004      0.931     25.766      0.000      22.175      25.826\n",
       "==============================================================================\n",
       "Omnibus:                     3727.977   Durbin-Watson:                   1.997\n",
       "Prob(Omnibus):                  0.000   Jarque-Bera (JB):             6419.951\n",
       "Skew:                           0.733   Prob(JB):                         0.00\n",
       "Kurtosis:                       4.477   Cond. No.                         42.4\n",
       "==============================================================================\n",
       "\n",
       "Warnings:\n",
       "[1] Standard Errors assume that the covariance matrix of the errors is correctly specified.\n",
       "\"\"\""
      ]
     },
     "execution_count": 66,
     "metadata": {},
     "output_type": "execute_result"
    }
   ],
   "source": [
    "import statsmodels.api as sm\n",
    "result = sm.OLS(Y_train, X_train_minmax).fit()\n",
    "result.summary()"
   ]
  },
  {
   "cell_type": "code",
   "execution_count": 67,
   "metadata": {},
   "outputs": [],
   "source": [
    "Y_pred=result.predict(X_test_minmax)"
   ]
  },
  {
   "cell_type": "code",
   "execution_count": 68,
   "metadata": {},
   "outputs": [],
   "source": [
    "#r2(r square for the test data) \n",
    "from sklearn.metrics import r2_score\n",
    "r2=r2_score(Y_test,Y_pred)"
   ]
  },
  {
   "cell_type": "code",
   "execution_count": 69,
   "metadata": {},
   "outputs": [
    {
     "data": {
      "text/plain": [
       "0.30864784515876753"
      ]
     },
     "execution_count": 69,
     "metadata": {},
     "output_type": "execute_result"
    }
   ],
   "source": [
    "r2"
   ]
  },
  {
   "cell_type": "code",
   "execution_count": 70,
   "metadata": {},
   "outputs": [],
   "source": [
    "r1 = metrics.mean_squared_error(Y_test,Y_pred)"
   ]
  },
  {
   "cell_type": "code",
   "execution_count": 71,
   "metadata": {},
   "outputs": [
    {
     "data": {
      "text/plain": [
       "3587.860262749826"
      ]
     },
     "execution_count": 71,
     "metadata": {},
     "output_type": "execute_result"
    }
   ],
   "source": [
    "r1"
   ]
  },
  {
   "cell_type": "code",
   "execution_count": 72,
   "metadata": {},
   "outputs": [
    {
     "data": {
      "text/plain": [
       "59.8987500933853"
      ]
     },
     "execution_count": 72,
     "metadata": {},
     "output_type": "execute_result"
    }
   ],
   "source": [
    "#rootmean squared error\n",
    "np.sqrt(r1)"
   ]
  },
  {
   "cell_type": "code",
   "execution_count": 73,
   "metadata": {},
   "outputs": [
    {
     "data": {
      "text/plain": [
       "<matplotlib.collections.PathCollection at 0x2044f910640>"
      ]
     },
     "execution_count": 73,
     "metadata": {},
     "output_type": "execute_result"
    },
    {
     "data": {
      "image/png": "[encoded data removed]",
      "text/plain": [
       "<Figure size 432x288 with 1 Axes>"
      ]
     },
     "metadata": {
      "needs_background": "light"
     },
     "output_type": "display_data"
    }
   ],
   "source": [
    "plt.scatter(Y_test,Y_pred)"
   ]
  },
  {
   "cell_type": "markdown",
   "metadata": {},
   "source": [
    "Q: What assumptions need to be verified at this step?\n",
    "\n",
    "A: As the project goal suggest we need to predict the price of the hotel for a customer on the basis of various other factors which will be taken as a input and will be provided to the model for price prediction. We assume the customer puts all the data which are required in order to predict a price for the hotel."
   ]
  },
  {
   "cell_type": "markdown",
   "metadata": {},
   "source": [
    "Q: What algorithm did you choose?\n",
    "    \n",
    "A: OLS Regression"
   ]
  },
  {
   "cell_type": "markdown",
   "metadata": {},
   "source": [
    "Q: Why you choose this algorithm?\n",
    "\n",
    "A: After observing the data, we see that the price column is a continous data and we need regression model in order to predict a price. So we choose the Ordinary Least Square Regression as my first algorithm. This is a very popular algorithm and very easy to comprehend."
   ]
  },
  {
   "cell_type": "markdown",
   "metadata": {},
   "source": [
    "Q: What metric can measure the quality of your algorithm?\n",
    "\n",
    "A: I would use Root Mean Squared Error (RMSE) to evaluate the regression algorithm."
   ]
  },
  {
   "cell_type": "markdown",
   "metadata": {},
   "source": [
    "Q: What is the outcome?\n",
    "\n",
    "A: I divided my data into train dataset (contains 80% of data) and test dataset (contains 20% of data).  We get an R2 (R square value of 0.819) on my training data. I used the test data to evaluate the outcome of OLS algorithm. The RMSE parameter will give me how good the model is performing. We get an RMSE of 59.8. "
   ]
  },
  {
   "cell_type": "markdown",
   "metadata": {},
   "source": [
    "Q: Analysis and discussion:\n",
    "A: According the difference in values Y_test and Y_pred data, we could conclude that when we are predicting the hotel price on the basis of all given input parameters we are getting an error of around 59.8 $."
   ]
  },
  {
   "cell_type": "markdown",
   "metadata": {},
   "source": [
    "## 4.2"
   ]
  },
  {
   "cell_type": "code",
   "execution_count": 74,
   "metadata": {},
   "outputs": [],
   "source": [
    "from sklearn.tree import DecisionTreeRegressor"
   ]
  },
  {
   "cell_type": "code",
   "execution_count": 75,
   "metadata": {},
   "outputs": [],
   "source": [
    "regressor = DecisionTreeRegressor(random_state=0)"
   ]
  },
  {
   "cell_type": "code",
   "execution_count": 76,
   "metadata": {},
   "outputs": [
    {
     "data": {
      "text/plain": [
       "DecisionTreeRegressor(random_state=0)"
      ]
     },
     "execution_count": 76,
     "metadata": {},
     "output_type": "execute_result"
    }
   ],
   "source": [
    "regressor.fit(X_train_minmax,Y_train)"
   ]
  },
  {
   "cell_type": "code",
   "execution_count": 77,
   "metadata": {},
   "outputs": [],
   "source": [
    "Y_pred2 = regressor.predict(X_test_minmax)"
   ]
  },
  {
   "cell_type": "code",
   "execution_count": 78,
   "metadata": {},
   "outputs": [],
   "source": [
    "r1=metrics.mean_squared_error(Y_test,Y_pred2)"
   ]
  },
  {
   "cell_type": "code",
   "execution_count": 79,
   "metadata": {},
   "outputs": [
    {
     "data": {
      "text/plain": [
       "70.08195304556372"
      ]
     },
     "execution_count": 79,
     "metadata": {},
     "output_type": "execute_result"
    }
   ],
   "source": [
    "#rootmean squared error\n",
    "np.sqrt(r1)"
   ]
  },
  {
   "cell_type": "code",
   "execution_count": 80,
   "metadata": {},
   "outputs": [
    {
     "data": {
      "text/plain": [
       "<matplotlib.collections.PathCollection at 0x2044fc5b940>"
      ]
     },
     "execution_count": 80,
     "metadata": {},
     "output_type": "execute_result"
    },
    {
     "data": {
      "image/png": "[encoded data removed]",
      "text/plain": [
       "<Figure size 432x288 with 1 Axes>"
      ]
     },
     "metadata": {
      "needs_background": "light"
     },
     "output_type": "display_data"
    }
   ],
   "source": [
    "plt.scatter(Y_test,Y_pred2)"
   ]
  },
  {
   "cell_type": "markdown",
   "metadata": {},
   "source": [
    "Q: What assumptions need to be verified at this step?\n",
    "\n",
    "A: As the project goal suggest we need to predict the price of the hotel for a customer on the basis of various other factors which will be taken as a input and will be provided to the model for price prediction. We assume the customer puts all the data which are required in order to predict a price for the hotel."
   ]
  },
  {
   "cell_type": "markdown",
   "metadata": {},
   "source": [
    "Q: What algorithm did you choose?\n",
    "    \n",
    "A: Decision Tree Regression"
   ]
  },
  {
   "cell_type": "markdown",
   "metadata": {},
   "source": [
    "Q: Why you choose this algorithm?\n",
    "\n",
    "A: After observing the data, we see that the price column is a continous data and we need a regression model in order to predict a price. So we choose the Decision Tree Regression as my second algorithm. This is a  also a very popular algorithm and easy to comprehend."
   ]
  },
  {
   "cell_type": "markdown",
   "metadata": {},
   "source": [
    "Q: What metric can measure the quality of your algorithm?\n",
    "\n",
    "A: I would use Root Mean Squared Error (RMSE) to evaluate the regression algorithm."
   ]
  },
  {
   "cell_type": "markdown",
   "metadata": {},
   "source": [
    "Q: What is the outcome?\n",
    "\n",
    "A: I divided my data into train dataset (contains 80% of data) and test dataset (contains 20% of data). I used the test data to evaluate the outcome of Decision Tree algorithm. The RMSE parameter will give me how good the model is performing. We get an RMSE of 70.0. "
   ]
  },
  {
   "cell_type": "markdown",
   "metadata": {},
   "source": [
    "Q: Analysis and discussion:\n",
    "A: According the difference in values Y_test and Y_pred data, we could conclude that when we are predicting the hotel price on the basis of all given input parameters we are getting an error of around 70.0 $. Performance of OLS is better than desion tree regressor. "
   ]
  },
  {
   "cell_type": "markdown",
   "metadata": {},
   "source": [
    "## 4.3"
   ]
  },
  {
   "cell_type": "code",
   "execution_count": 81,
   "metadata": {},
   "outputs": [],
   "source": [
    "from sklearn.ensemble import RandomForestRegressor"
   ]
  },
  {
   "cell_type": "code",
   "execution_count": 82,
   "metadata": {},
   "outputs": [],
   "source": [
    "rf = RandomForestRegressor(n_estimators = 100, random_state = 42)"
   ]
  },
  {
   "cell_type": "code",
   "execution_count": 83,
   "metadata": {},
   "outputs": [
    {
     "name": "stderr",
     "output_type": "stream",
     "text": [
      "<ipython-input-83-5e06f985d152>:1: DataConversionWarning: A column-vector y was passed when a 1d array was expected. Please change the shape of y to (n_samples,), for example using ravel().\n",
      "  rf.fit(X_train_minmax,Y_train);\n"
     ]
    }
   ],
   "source": [
    "rf.fit(X_train_minmax,Y_train);"
   ]
  },
  {
   "cell_type": "code",
   "execution_count": 84,
   "metadata": {},
   "outputs": [],
   "source": [
    "predictions = rf.predict(X_test_minmax)"
   ]
  },
  {
   "cell_type": "code",
   "execution_count": 85,
   "metadata": {},
   "outputs": [],
   "source": [
    "r1=metrics.mean_squared_error(Y_test,predictions)"
   ]
  },
  {
   "cell_type": "code",
   "execution_count": 86,
   "metadata": {},
   "outputs": [
    {
     "data": {
      "text/plain": [
       "50.24258457302087"
      ]
     },
     "execution_count": 86,
     "metadata": {},
     "output_type": "execute_result"
    }
   ],
   "source": [
    "#rootmean squared error\n",
    "np.sqrt(r1)"
   ]
  },
  {
   "cell_type": "code",
   "execution_count": 87,
   "metadata": {},
   "outputs": [
    {
     "data": {
      "text/plain": [
       "<matplotlib.collections.PathCollection at 0x2044ff55af0>"
      ]
     },
     "execution_count": 87,
     "metadata": {},
     "output_type": "execute_result"
    },
    {
     "data": {
      "image/png": "[encoded data removed]",
      "text/plain": [
       "<Figure size 432x288 with 1 Axes>"
      ]
     },
     "metadata": {
      "needs_background": "light"
     },
     "output_type": "display_data"
    }
   ],
   "source": [
    "plt.scatter(Y_test,predictions)"
   ]
  },
  {
   "cell_type": "markdown",
   "metadata": {},
   "source": [
    "Q: What assumptions need to be verified at this step?\n",
    "\n",
    "A: As the project goal suggest we need to predict the price of the hotel for a customer on the basis of various other factors which will be taken as a input and will be provided to the model for price prediction. We assume the customer puts all the data which are required in order to predict a price for the hotel."
   ]
  },
  {
   "cell_type": "markdown",
   "metadata": {},
   "source": [
    "Q: What algorithm did you choose?\n",
    "    \n",
    "A: Random Forest Regression"
   ]
  },
  {
   "cell_type": "markdown",
   "metadata": {},
   "source": [
    "Q: Why you choose this algorithm?\n",
    "\n",
    "A: After observing the data, we see that the price column is a continous data and we need a regression model in order to predict a price. So we choose the Random Forest Regression as my third algorithm. This is a  also a very popular algorithm and uses many decison trees to compute a result. The number of trees you want to use can be provided as a hyperparamter."
   ]
  },
  {
   "cell_type": "markdown",
   "metadata": {},
   "source": [
    "Q: What metric can measure the quality of your algorithm?\n",
    "\n",
    "A: I would use Root Mean Squared Error (RMSE) to evaluate the regression algorithm."
   ]
  },
  {
   "cell_type": "markdown",
   "metadata": {},
   "source": [
    "Q: What is the outcome?\n",
    "\n",
    "A: I divided my data into train dataset (contains 80% of data) and test dataset (contains 20% of data). I used the test data to evaluate the outcome of Random Forest algorithm. The RMSE parameter will give me how good the model is performing. We get an RMSE of 50.2 . This is a good RMSE as compared to the first two algorithmns."
   ]
  },
  {
   "cell_type": "markdown",
   "metadata": {},
   "source": [
    "Q: Analysis and discussion:\n",
    "A: According the difference in values Y_test and Y_pred data, we could conclude that when we are predicting the hotel price on the basis of all given input parameters we are getting an error of around 50.24 $."
   ]
  },
  {
   "cell_type": "markdown",
   "metadata": {},
   "source": [
    "## 4.4"
   ]
  },
  {
   "cell_type": "code",
   "execution_count": 88,
   "metadata": {},
   "outputs": [],
   "source": [
    "from sklearn import svm"
   ]
  },
  {
   "cell_type": "code",
   "execution_count": 89,
   "metadata": {},
   "outputs": [],
   "source": [
    "clf = svm.SVR(kernel='rbf')"
   ]
  },
  {
   "cell_type": "code",
   "execution_count": 90,
   "metadata": {},
   "outputs": [
    {
     "name": "stderr",
     "output_type": "stream",
     "text": [
      "C:\\Users\\dashe\\anaconda3\\lib\\site-packages\\sklearn\\utils\\validation.py:73: DataConversionWarning: A column-vector y was passed when a 1d array was expected. Please change the shape of y to (n_samples, ), for example using ravel().\n",
      "  return f(**kwargs)\n"
     ]
    },
    {
     "data": {
      "text/plain": [
       "SVR()"
      ]
     },
     "execution_count": 90,
     "metadata": {},
     "output_type": "execute_result"
    }
   ],
   "source": [
    "clf.fit(X_train_minmax,Y_train)"
   ]
  },
  {
   "cell_type": "code",
   "execution_count": 91,
   "metadata": {},
   "outputs": [],
   "source": [
    "pred_4 = clf.predict(X_test_minmax)"
   ]
  },
  {
   "cell_type": "code",
   "execution_count": 92,
   "metadata": {},
   "outputs": [],
   "source": [
    "r1=metrics.mean_squared_error(Y_test,pred_4)"
   ]
  },
  {
   "cell_type": "code",
   "execution_count": 93,
   "metadata": {},
   "outputs": [
    {
     "data": {
      "text/plain": [
       "52.868578448463154"
      ]
     },
     "execution_count": 93,
     "metadata": {},
     "output_type": "execute_result"
    }
   ],
   "source": [
    "#rootmean squared error\n",
    "np.sqrt(r1)"
   ]
  },
  {
   "cell_type": "code",
   "execution_count": 94,
   "metadata": {},
   "outputs": [
    {
     "data": {
      "text/plain": [
       "<matplotlib.collections.PathCollection at 0x2044ffd3220>"
      ]
     },
     "execution_count": 94,
     "metadata": {},
     "output_type": "execute_result"
    },
    {
     "data": {
      "image/png": "[encoded data removed]",
      "text/plain": [
       "<Figure size 432x288 with 1 Axes>"
      ]
     },
     "metadata": {
      "needs_background": "light"
     },
     "output_type": "display_data"
    }
   ],
   "source": [
    "plt.scatter(Y_test,pred_4)"
   ]
  },
  {
   "cell_type": "markdown",
   "metadata": {},
   "source": [
    "Q: What assumptions need to be verified at this step?\n",
    "\n",
    "A: As the project goal suggest we need to predict the price of the hotel for a customer on the basis of various other factors which will be taken as a input and will be provided to the model for price prediction. We assume the customer puts all the data which are required in order to predict a price for the hotel."
   ]
  },
  {
   "cell_type": "markdown",
   "metadata": {},
   "source": [
    "Q: What algorithm did you choose?\n",
    "    \n",
    "A: Support Vector Regression"
   ]
  },
  {
   "cell_type": "markdown",
   "metadata": {},
   "source": [
    "Q: Why you choose this algorithm?\n",
    "\n",
    "A: After observing the data, we see that the price column is a continous data and we need a regression model in order to predict a price. So we choose the Support Vector Regression as my fourth algorithm. This is a  also a very popular algorithm for regression as well as classification. It has hyperparametres like kernel which can be given as 'linear' or 'rbf'."
   ]
  },
  {
   "cell_type": "markdown",
   "metadata": {},
   "source": [
    "Q: What metric can measure the quality of your algorithm?\n",
    "\n",
    "A: I would use Root Mean Squared Error (RMSE) to evaluate the regression algorithm."
   ]
  },
  {
   "cell_type": "markdown",
   "metadata": {},
   "source": [
    "Q: What is the outcome?\n",
    "\n",
    "A: I divided my data into train dataset (contains 80% of data) and test dataset (contains 20% of data). I used the test data to evaluate the outcome of Support Vector Regression algorithm. The RMSE parameter will give me how good the model is performing. We get an RMSE of 52.86 . This is a good RMSE as compared to the first two algorithmns but not better than Random Forest Algorithm."
   ]
  },
  {
   "cell_type": "markdown",
   "metadata": {},
   "source": [
    "Q: Analysis and discussion:\n",
    "A: According the difference in values Y_test and Y_pred data, we could conclude that when we are predicting the hotel price on the basis of all given input parameters we are getting an error of around 52.86 $."
   ]
  },
  {
   "cell_type": "markdown",
   "metadata": {},
   "source": [
    "## 4.5"
   ]
  },
  {
   "cell_type": "code",
   "execution_count": 95,
   "metadata": {},
   "outputs": [],
   "source": [
    "import xgboost as xgb\n",
    "xgb_r = xgb.XGBRegressor(objective ='reg:linear',\n",
    "                  n_estimators = 100, seed = 123)"
   ]
  },
  {
   "cell_type": "code",
   "execution_count": 96,
   "metadata": {},
   "outputs": [],
   "source": [
    "import pickle"
   ]
  },
  {
   "cell_type": "code",
   "execution_count": 97,
   "metadata": {},
   "outputs": [
    {
     "name": "stdout",
     "output_type": "stream",
     "text": [
      "[12:17:55] WARNING: C:/Users/Administrator/workspace/xgboost-win64_release_1.1.0/src/objective/regression_obj.cu:170: reg:linear is now deprecated in favor of reg:squarederror.\n",
      "[12:17:58] WARNING: C:/Users/Administrator/workspace/xgboost-win64_release_1.1.0/src/objective/regression_obj.cu:170: reg:linear is now deprecated in favor of reg:squarederror.\n"
     ]
    }
   ],
   "source": [
    "#pickle dump used for phase5\n",
    "xgb_r.fit(X_train,Y_train)\n",
    "pickle.dump(xgb_r,open(\"XGBoost.sav\",'wb'))"
   ]
  },
  {
   "cell_type": "code",
   "execution_count": 98,
   "metadata": {},
   "outputs": [],
   "source": [
    "y_pred5 = xgb_r.predict(X_test)"
   ]
  },
  {
   "cell_type": "code",
   "execution_count": 99,
   "metadata": {},
   "outputs": [],
   "source": [
    "r1=metrics.mean_squared_error(Y_test,y_pred5)"
   ]
  },
  {
   "cell_type": "code",
   "execution_count": 100,
   "metadata": {},
   "outputs": [
    {
     "data": {
      "text/plain": [
       "49.33666530493893"
      ]
     },
     "execution_count": 100,
     "metadata": {},
     "output_type": "execute_result"
    }
   ],
   "source": [
    "#rootmean squared error\n",
    "np.sqrt(r1)"
   ]
  },
  {
   "cell_type": "code",
   "execution_count": 101,
   "metadata": {},
   "outputs": [
    {
     "data": {
      "text/plain": [
       "<matplotlib.collections.PathCollection at 0x20476465700>"
      ]
     },
     "execution_count": 101,
     "metadata": {},
     "output_type": "execute_result"
    },
    {
     "data": {
      "image/png": "[encoded data removed]",
      "text/plain": [
       "<Figure size 432x288 with 1 Axes>"
      ]
     },
     "metadata": {
      "needs_background": "light"
     },
     "output_type": "display_data"
    }
   ],
   "source": [
    "plt.scatter(Y_test,y_pred5)"
   ]
  },
  {
   "cell_type": "markdown",
   "metadata": {},
   "source": [
    "Q: What assumptions need to be verified at this step?\n",
    "\n",
    "A: As the project goal suggest we need to predict the price of the hotel for a customer on the basis of various other factors which will be taken as a input and will be provided to the model for price prediction. We assume the customer puts all the data which are required in order to predict a price for the hotel."
   ]
  },
  {
   "cell_type": "markdown",
   "metadata": {},
   "source": [
    "Q: What algorithm did you choose?\n",
    "    \n",
    "A: XGBoost"
   ]
  },
  {
   "cell_type": "markdown",
   "metadata": {},
   "source": [
    "Q: Why you choose this algorithm?\n",
    "\n",
    "A: After observing the data, we see that the price column is a continous data and we need a regression model in order to predict a price. So we choose the XGBoost as my fifth algorithm. This is a  also a very popular algorithm for regression. This is a powerful ensemble boosting technique which most of the times gives us great results."
   ]
  },
  {
   "cell_type": "markdown",
   "metadata": {},
   "source": [
    "Q: What metric can measure the quality of your algorithm?\n",
    "\n",
    "A: I would use Root Mean Squared Error (RMSE) to evaluate the regression algorithm."
   ]
  },
  {
   "cell_type": "markdown",
   "metadata": {},
   "source": [
    "Q: What is the outcome?\n",
    "\n",
    "A: I divided my data into train dataset (contains 80% of data) and test dataset (contains 20% of data). I used the test data to evaluate the outcome of Support Vector Regression algorithm. The RMSE parameter will give me how good the model is performing. We get an RMSE of 49.3. This is the best RMSE as compared to all the algorithms."
   ]
  },
  {
   "cell_type": "markdown",
   "metadata": {},
   "source": [
    "Q: Analysis and discussion:\n",
    "A: According the difference in values Y_test and Y_pred data, we could conclude that when we are predicting the hotel price on the basis of all given input parameters we are getting an error of around 49.3 $."
   ]
  }
 ],
 "metadata": {
  "kernelspec": {
   "display_name": "Python 3",
   "language": "python",
   "name": "python3"
  },
  "language_info": {
   "codemirror_mode": {
    "name": "ipython",
    "version": 3
   },
   "file_extension": ".py",
   "mimetype": "text/x-python",
   "name": "python",
   "nbconvert_exporter": "python",
   "pygments_lexer": "ipython3",
   "version": "3.8.3"
  }
 },
 "nbformat": 4,
 "nbformat_minor": 4
}
